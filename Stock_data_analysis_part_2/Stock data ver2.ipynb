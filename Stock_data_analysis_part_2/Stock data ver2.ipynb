{
 "cells": [
  {
   "cell_type": "markdown",
   "id": "073c9689",
   "metadata": {},
   "source": [
    "# Improvement\n",
    "\n",
    "According to the latest analysis, I have gained a trading idea regarding the percentage change of ATO and ATC prices. This version will be improved by adding more data tests and backtesting to evaluate its performance."
   ]
  },
  {
   "cell_type": "code",
   "execution_count": 1,
   "id": "97ea99ba",
   "metadata": {},
   "outputs": [
    {
     "name": "stdout",
     "output_type": "stream",
     "text": [
      "(1939, 18)\n",
      "(389, 7)\n",
      "(392, 7)\n",
      "(392, 7)\n",
      "(392, 7)\n",
      "(392, 7)\n"
     ]
    }
   ],
   "source": [
    "# load data \n",
    "\n",
    "import pandas as pd\n",
    "from datetime import datetime\n",
    "\n",
    "atoatc = pd.read_csv('stocksm_atoatcs_202304061818.csv')\n",
    "delta = pd.read_csv('SET_DLY_DELTA, 1D.csv')\n",
    "advanc = pd.read_csv('SET_DLY_ADVANC, 1D.csv')\n",
    "aot = pd.read_csv('SET_DLY_AOT, 1D.csv')\n",
    "ptt = pd.read_csv('SET_DLY_PTT, 1D.csv')\n",
    "pttep = pd.read_csv('SET_DLY_PTTEP, 1D.csv')\n",
    "\n",
    "print(atoatc.shape)\n",
    "print(delta.shape)\n",
    "print(aot.shape)\n",
    "print(advanc.shape)\n",
    "print(ptt.shape)\n",
    "print(pttep.shape)"
   ]
  },
  {
   "cell_type": "code",
   "execution_count": 3,
   "id": "972b6237",
   "metadata": {},
   "outputs": [
    {
     "data": {
      "text/html": [
       "<div>\n",
       "<style scoped>\n",
       "    .dataframe tbody tr th:only-of-type {\n",
       "        vertical-align: middle;\n",
       "    }\n",
       "\n",
       "    .dataframe tbody tr th {\n",
       "        vertical-align: top;\n",
       "    }\n",
       "\n",
       "    .dataframe thead th {\n",
       "        text-align: right;\n",
       "    }\n",
       "</style>\n",
       "<table border=\"1\" class=\"dataframe\">\n",
       "  <thead>\n",
       "    <tr style=\"text-align: right;\">\n",
       "      <th></th>\n",
       "      <th>_id</th>\n",
       "      <th>Symbol</th>\n",
       "      <th>VolATO1</th>\n",
       "      <th>PriceATO1</th>\n",
       "      <th>Close(T_1)</th>\n",
       "      <th>VolATO2</th>\n",
       "      <th>PriceATO2</th>\n",
       "      <th>Price12_30</th>\n",
       "      <th>VolATC</th>\n",
       "      <th>PriceATC</th>\n",
       "      <th>Price16_30</th>\n",
       "      <th>PercentChgSS1</th>\n",
       "      <th>ValueSS1</th>\n",
       "      <th>PercentChgSS2</th>\n",
       "      <th>ValueSS2</th>\n",
       "      <th>PercentChgATC</th>\n",
       "      <th>ValueATC</th>\n",
       "      <th>updated_at</th>\n",
       "    </tr>\n",
       "  </thead>\n",
       "  <tbody>\n",
       "    <tr>\n",
       "      <th>0</th>\n",
       "      <td>1</td>\n",
       "      <td>ADVANC</td>\n",
       "      <td>0</td>\n",
       "      <td>0.0</td>\n",
       "      <td>0.0</td>\n",
       "      <td>0</td>\n",
       "      <td>0.0</td>\n",
       "      <td>0.0</td>\n",
       "      <td>2192000</td>\n",
       "      <td>188.00</td>\n",
       "      <td>188.50</td>\n",
       "      <td>0.0</td>\n",
       "      <td>0</td>\n",
       "      <td>0.0</td>\n",
       "      <td>0</td>\n",
       "      <td>-0.27</td>\n",
       "      <td>412096000</td>\n",
       "      <td>2021-08-31</td>\n",
       "    </tr>\n",
       "    <tr>\n",
       "      <th>1</th>\n",
       "      <td>17</td>\n",
       "      <td>AOT</td>\n",
       "      <td>0</td>\n",
       "      <td>0.0</td>\n",
       "      <td>0.0</td>\n",
       "      <td>0</td>\n",
       "      <td>0.0</td>\n",
       "      <td>0.0</td>\n",
       "      <td>6842500</td>\n",
       "      <td>63.75</td>\n",
       "      <td>63.75</td>\n",
       "      <td>0.0</td>\n",
       "      <td>0</td>\n",
       "      <td>0.0</td>\n",
       "      <td>0</td>\n",
       "      <td>0.00</td>\n",
       "      <td>436209375</td>\n",
       "      <td>2021-08-31</td>\n",
       "    </tr>\n",
       "    <tr>\n",
       "      <th>2</th>\n",
       "      <td>121</td>\n",
       "      <td>DELTA</td>\n",
       "      <td>0</td>\n",
       "      <td>0.0</td>\n",
       "      <td>0.0</td>\n",
       "      <td>0</td>\n",
       "      <td>0.0</td>\n",
       "      <td>0.0</td>\n",
       "      <td>441000</td>\n",
       "      <td>584.00</td>\n",
       "      <td>584.00</td>\n",
       "      <td>0.0</td>\n",
       "      <td>0</td>\n",
       "      <td>0.0</td>\n",
       "      <td>0</td>\n",
       "      <td>0.00</td>\n",
       "      <td>257544000</td>\n",
       "      <td>2021-08-31</td>\n",
       "    </tr>\n",
       "    <tr>\n",
       "      <th>3</th>\n",
       "      <td>252</td>\n",
       "      <td>PTTEP</td>\n",
       "      <td>0</td>\n",
       "      <td>0.0</td>\n",
       "      <td>0.0</td>\n",
       "      <td>0</td>\n",
       "      <td>0.0</td>\n",
       "      <td>0.0</td>\n",
       "      <td>3087900</td>\n",
       "      <td>111.50</td>\n",
       "      <td>112.00</td>\n",
       "      <td>0.0</td>\n",
       "      <td>0</td>\n",
       "      <td>0.0</td>\n",
       "      <td>0</td>\n",
       "      <td>-0.45</td>\n",
       "      <td>344300850</td>\n",
       "      <td>2021-08-31</td>\n",
       "    </tr>\n",
       "    <tr>\n",
       "      <th>4</th>\n",
       "      <td>256</td>\n",
       "      <td>PTT</td>\n",
       "      <td>0</td>\n",
       "      <td>0.0</td>\n",
       "      <td>0.0</td>\n",
       "      <td>0</td>\n",
       "      <td>0.0</td>\n",
       "      <td>0.0</td>\n",
       "      <td>26412200</td>\n",
       "      <td>38.25</td>\n",
       "      <td>38.50</td>\n",
       "      <td>0.0</td>\n",
       "      <td>0</td>\n",
       "      <td>0.0</td>\n",
       "      <td>0</td>\n",
       "      <td>-0.65</td>\n",
       "      <td>1010266650</td>\n",
       "      <td>2021-08-31</td>\n",
       "    </tr>\n",
       "  </tbody>\n",
       "</table>\n",
       "</div>"
      ],
      "text/plain": [
       "   _id  Symbol  VolATO1  PriceATO1  Close(T_1)  VolATO2  PriceATO2  \\\n",
       "0    1  ADVANC        0        0.0         0.0        0        0.0   \n",
       "1   17     AOT        0        0.0         0.0        0        0.0   \n",
       "2  121   DELTA        0        0.0         0.0        0        0.0   \n",
       "3  252   PTTEP        0        0.0         0.0        0        0.0   \n",
       "4  256     PTT        0        0.0         0.0        0        0.0   \n",
       "\n",
       "   Price12_30    VolATC  PriceATC  Price16_30  PercentChgSS1  ValueSS1  \\\n",
       "0         0.0   2192000    188.00      188.50            0.0         0   \n",
       "1         0.0   6842500     63.75       63.75            0.0         0   \n",
       "2         0.0    441000    584.00      584.00            0.0         0   \n",
       "3         0.0   3087900    111.50      112.00            0.0         0   \n",
       "4         0.0  26412200     38.25       38.50            0.0         0   \n",
       "\n",
       "   PercentChgSS2  ValueSS2  PercentChgATC    ValueATC  updated_at  \n",
       "0            0.0         0          -0.27   412096000  2021-08-31  \n",
       "1            0.0         0           0.00   436209375  2021-08-31  \n",
       "2            0.0         0           0.00   257544000  2021-08-31  \n",
       "3            0.0         0          -0.45   344300850  2021-08-31  \n",
       "4            0.0         0          -0.65  1010266650  2021-08-31  "
      ]
     },
     "execution_count": 3,
     "metadata": {},
     "output_type": "execute_result"
    }
   ],
   "source": [
    "atoatc.head(5)"
   ]
  },
  {
   "cell_type": "code",
   "execution_count": 4,
   "id": "358f076d",
   "metadata": {},
   "outputs": [
    {
     "data": {
      "text/plain": [
       "_id              0\n",
       "Symbol           0\n",
       "VolATO1          0\n",
       "PriceATO1        0\n",
       "Close(T_1)       0\n",
       "VolATO2          0\n",
       "PriceATO2        0\n",
       "Price12_30       0\n",
       "VolATC           0\n",
       "PriceATC         0\n",
       "Price16_30       0\n",
       "PercentChgSS1    0\n",
       "ValueSS1         0\n",
       "PercentChgSS2    0\n",
       "ValueSS2         0\n",
       "PercentChgATC    0\n",
       "ValueATC         0\n",
       "updated_at       0\n",
       "dtype: int64"
      ]
     },
     "execution_count": 4,
     "metadata": {},
     "output_type": "execute_result"
    }
   ],
   "source": [
    "atoatc.isna().sum()"
   ]
  },
  {
   "cell_type": "code",
   "execution_count": 5,
   "id": "5d920e1d",
   "metadata": {},
   "outputs": [
    {
     "data": {
      "text/html": [
       "<div>\n",
       "<style scoped>\n",
       "    .dataframe tbody tr th:only-of-type {\n",
       "        vertical-align: middle;\n",
       "    }\n",
       "\n",
       "    .dataframe tbody tr th {\n",
       "        vertical-align: top;\n",
       "    }\n",
       "\n",
       "    .dataframe thead th {\n",
       "        text-align: right;\n",
       "    }\n",
       "</style>\n",
       "<table border=\"1\" class=\"dataframe\">\n",
       "  <thead>\n",
       "    <tr style=\"text-align: right;\">\n",
       "      <th></th>\n",
       "      <th>time</th>\n",
       "      <th>open</th>\n",
       "      <th>high</th>\n",
       "      <th>low</th>\n",
       "      <th>close</th>\n",
       "      <th>Volume</th>\n",
       "      <th>Volume MA</th>\n",
       "    </tr>\n",
       "  </thead>\n",
       "  <tbody>\n",
       "    <tr>\n",
       "      <th>0</th>\n",
       "      <td>2021-08-27T09:00:00+07:00</td>\n",
       "      <td>564</td>\n",
       "      <td>576</td>\n",
       "      <td>562</td>\n",
       "      <td>566</td>\n",
       "      <td>816900</td>\n",
       "      <td>890700.0</td>\n",
       "    </tr>\n",
       "    <tr>\n",
       "      <th>1</th>\n",
       "      <td>2021-08-30T09:00:00+07:00</td>\n",
       "      <td>562</td>\n",
       "      <td>576</td>\n",
       "      <td>556</td>\n",
       "      <td>570</td>\n",
       "      <td>1449600</td>\n",
       "      <td>982080.0</td>\n",
       "    </tr>\n",
       "    <tr>\n",
       "      <th>2</th>\n",
       "      <td>2021-08-31T09:00:00+07:00</td>\n",
       "      <td>564</td>\n",
       "      <td>590</td>\n",
       "      <td>564</td>\n",
       "      <td>584</td>\n",
       "      <td>2035600</td>\n",
       "      <td>1253840.0</td>\n",
       "    </tr>\n",
       "    <tr>\n",
       "      <th>3</th>\n",
       "      <td>2021-09-01T09:00:00+07:00</td>\n",
       "      <td>594</td>\n",
       "      <td>660</td>\n",
       "      <td>590</td>\n",
       "      <td>656</td>\n",
       "      <td>6737100</td>\n",
       "      <td>2377780.0</td>\n",
       "    </tr>\n",
       "    <tr>\n",
       "      <th>4</th>\n",
       "      <td>2021-09-02T09:00:00+07:00</td>\n",
       "      <td>660</td>\n",
       "      <td>736</td>\n",
       "      <td>654</td>\n",
       "      <td>726</td>\n",
       "      <td>8388300</td>\n",
       "      <td>3885500.0</td>\n",
       "    </tr>\n",
       "  </tbody>\n",
       "</table>\n",
       "</div>"
      ],
      "text/plain": [
       "                        time  open  high  low  close   Volume  Volume MA\n",
       "0  2021-08-27T09:00:00+07:00   564   576  562    566   816900   890700.0\n",
       "1  2021-08-30T09:00:00+07:00   562   576  556    570  1449600   982080.0\n",
       "2  2021-08-31T09:00:00+07:00   564   590  564    584  2035600  1253840.0\n",
       "3  2021-09-01T09:00:00+07:00   594   660  590    656  6737100  2377780.0\n",
       "4  2021-09-02T09:00:00+07:00   660   736  654    726  8388300  3885500.0"
      ]
     },
     "execution_count": 5,
     "metadata": {},
     "output_type": "execute_result"
    }
   ],
   "source": [
    "delta.head(5)"
   ]
  },
  {
   "cell_type": "code",
   "execution_count": 6,
   "id": "e8f379a0",
   "metadata": {},
   "outputs": [
    {
     "data": {
      "text/html": [
       "<div>\n",
       "<style scoped>\n",
       "    .dataframe tbody tr th:only-of-type {\n",
       "        vertical-align: middle;\n",
       "    }\n",
       "\n",
       "    .dataframe tbody tr th {\n",
       "        vertical-align: top;\n",
       "    }\n",
       "\n",
       "    .dataframe thead th {\n",
       "        text-align: right;\n",
       "    }\n",
       "</style>\n",
       "<table border=\"1\" class=\"dataframe\">\n",
       "  <thead>\n",
       "    <tr style=\"text-align: right;\">\n",
       "      <th></th>\n",
       "      <th>time</th>\n",
       "      <th>open</th>\n",
       "      <th>high</th>\n",
       "      <th>low</th>\n",
       "      <th>close</th>\n",
       "      <th>Volume</th>\n",
       "      <th>Volume MA</th>\n",
       "    </tr>\n",
       "  </thead>\n",
       "  <tbody>\n",
       "    <tr>\n",
       "      <th>0</th>\n",
       "      <td>2021-08-27T09:00:00+07:00</td>\n",
       "      <td>62.50</td>\n",
       "      <td>63.25</td>\n",
       "      <td>61.75</td>\n",
       "      <td>62.75</td>\n",
       "      <td>19207300</td>\n",
       "      <td>24982100.0</td>\n",
       "    </tr>\n",
       "    <tr>\n",
       "      <th>1</th>\n",
       "      <td>2021-08-30T09:00:00+07:00</td>\n",
       "      <td>63.00</td>\n",
       "      <td>64.00</td>\n",
       "      <td>62.75</td>\n",
       "      <td>63.75</td>\n",
       "      <td>39591400</td>\n",
       "      <td>24528900.0</td>\n",
       "    </tr>\n",
       "    <tr>\n",
       "      <th>2</th>\n",
       "      <td>2021-08-31T09:00:00+07:00</td>\n",
       "      <td>63.75</td>\n",
       "      <td>63.75</td>\n",
       "      <td>63.25</td>\n",
       "      <td>63.75</td>\n",
       "      <td>27142200</td>\n",
       "      <td>25135260.0</td>\n",
       "    </tr>\n",
       "    <tr>\n",
       "      <th>3</th>\n",
       "      <td>2021-09-01T09:00:00+07:00</td>\n",
       "      <td>63.75</td>\n",
       "      <td>63.75</td>\n",
       "      <td>62.25</td>\n",
       "      <td>62.50</td>\n",
       "      <td>33520800</td>\n",
       "      <td>28354680.0</td>\n",
       "    </tr>\n",
       "    <tr>\n",
       "      <th>4</th>\n",
       "      <td>2021-09-02T09:00:00+07:00</td>\n",
       "      <td>62.00</td>\n",
       "      <td>63.25</td>\n",
       "      <td>61.50</td>\n",
       "      <td>62.75</td>\n",
       "      <td>25815900</td>\n",
       "      <td>29055520.0</td>\n",
       "    </tr>\n",
       "  </tbody>\n",
       "</table>\n",
       "</div>"
      ],
      "text/plain": [
       "                        time   open   high    low  close    Volume   Volume MA\n",
       "0  2021-08-27T09:00:00+07:00  62.50  63.25  61.75  62.75  19207300  24982100.0\n",
       "1  2021-08-30T09:00:00+07:00  63.00  64.00  62.75  63.75  39591400  24528900.0\n",
       "2  2021-08-31T09:00:00+07:00  63.75  63.75  63.25  63.75  27142200  25135260.0\n",
       "3  2021-09-01T09:00:00+07:00  63.75  63.75  62.25  62.50  33520800  28354680.0\n",
       "4  2021-09-02T09:00:00+07:00  62.00  63.25  61.50  62.75  25815900  29055520.0"
      ]
     },
     "execution_count": 6,
     "metadata": {},
     "output_type": "execute_result"
    }
   ],
   "source": [
    "aot.head(5)"
   ]
  },
  {
   "cell_type": "code",
   "execution_count": 7,
   "id": "0c9d7ab2",
   "metadata": {},
   "outputs": [
    {
     "data": {
      "text/html": [
       "<div>\n",
       "<style scoped>\n",
       "    .dataframe tbody tr th:only-of-type {\n",
       "        vertical-align: middle;\n",
       "    }\n",
       "\n",
       "    .dataframe tbody tr th {\n",
       "        vertical-align: top;\n",
       "    }\n",
       "\n",
       "    .dataframe thead th {\n",
       "        text-align: right;\n",
       "    }\n",
       "</style>\n",
       "<table border=\"1\" class=\"dataframe\">\n",
       "  <thead>\n",
       "    <tr style=\"text-align: right;\">\n",
       "      <th></th>\n",
       "      <th>time</th>\n",
       "      <th>open</th>\n",
       "      <th>high</th>\n",
       "      <th>low</th>\n",
       "      <th>close</th>\n",
       "      <th>Volume</th>\n",
       "      <th>Volume MA</th>\n",
       "    </tr>\n",
       "  </thead>\n",
       "  <tbody>\n",
       "    <tr>\n",
       "      <th>0</th>\n",
       "      <td>2021-08-27T09:00:00+07:00</td>\n",
       "      <td>37.25</td>\n",
       "      <td>37.75</td>\n",
       "      <td>37.00</td>\n",
       "      <td>37.75</td>\n",
       "      <td>66171000</td>\n",
       "      <td>85970880.0</td>\n",
       "    </tr>\n",
       "    <tr>\n",
       "      <th>1</th>\n",
       "      <td>2021-08-30T09:00:00+07:00</td>\n",
       "      <td>38.00</td>\n",
       "      <td>38.75</td>\n",
       "      <td>38.00</td>\n",
       "      <td>38.75</td>\n",
       "      <td>97994200</td>\n",
       "      <td>88060600.0</td>\n",
       "    </tr>\n",
       "    <tr>\n",
       "      <th>2</th>\n",
       "      <td>2021-08-31T09:00:00+07:00</td>\n",
       "      <td>38.50</td>\n",
       "      <td>38.75</td>\n",
       "      <td>38.00</td>\n",
       "      <td>38.25</td>\n",
       "      <td>98277700</td>\n",
       "      <td>79303180.0</td>\n",
       "    </tr>\n",
       "    <tr>\n",
       "      <th>3</th>\n",
       "      <td>2021-09-01T09:00:00+07:00</td>\n",
       "      <td>38.25</td>\n",
       "      <td>38.50</td>\n",
       "      <td>37.50</td>\n",
       "      <td>37.50</td>\n",
       "      <td>83087800</td>\n",
       "      <td>78151360.0</td>\n",
       "    </tr>\n",
       "    <tr>\n",
       "      <th>4</th>\n",
       "      <td>2021-09-02T09:00:00+07:00</td>\n",
       "      <td>37.50</td>\n",
       "      <td>38.25</td>\n",
       "      <td>37.25</td>\n",
       "      <td>38.00</td>\n",
       "      <td>53803000</td>\n",
       "      <td>79866740.0</td>\n",
       "    </tr>\n",
       "  </tbody>\n",
       "</table>\n",
       "</div>"
      ],
      "text/plain": [
       "                        time   open   high    low  close    Volume   Volume MA\n",
       "0  2021-08-27T09:00:00+07:00  37.25  37.75  37.00  37.75  66171000  85970880.0\n",
       "1  2021-08-30T09:00:00+07:00  38.00  38.75  38.00  38.75  97994200  88060600.0\n",
       "2  2021-08-31T09:00:00+07:00  38.50  38.75  38.00  38.25  98277700  79303180.0\n",
       "3  2021-09-01T09:00:00+07:00  38.25  38.50  37.50  37.50  83087800  78151360.0\n",
       "4  2021-09-02T09:00:00+07:00  37.50  38.25  37.25  38.00  53803000  79866740.0"
      ]
     },
     "execution_count": 7,
     "metadata": {},
     "output_type": "execute_result"
    }
   ],
   "source": [
    "ptt.head(5)"
   ]
  },
  {
   "cell_type": "code",
   "execution_count": 8,
   "id": "7155fe11",
   "metadata": {},
   "outputs": [
    {
     "data": {
      "text/html": [
       "<div>\n",
       "<style scoped>\n",
       "    .dataframe tbody tr th:only-of-type {\n",
       "        vertical-align: middle;\n",
       "    }\n",
       "\n",
       "    .dataframe tbody tr th {\n",
       "        vertical-align: top;\n",
       "    }\n",
       "\n",
       "    .dataframe thead th {\n",
       "        text-align: right;\n",
       "    }\n",
       "</style>\n",
       "<table border=\"1\" class=\"dataframe\">\n",
       "  <thead>\n",
       "    <tr style=\"text-align: right;\">\n",
       "      <th></th>\n",
       "      <th>time</th>\n",
       "      <th>open</th>\n",
       "      <th>high</th>\n",
       "      <th>low</th>\n",
       "      <th>close</th>\n",
       "      <th>Volume</th>\n",
       "      <th>Volume MA</th>\n",
       "    </tr>\n",
       "  </thead>\n",
       "  <tbody>\n",
       "    <tr>\n",
       "      <th>0</th>\n",
       "      <td>2021-08-27T09:00:00+07:00</td>\n",
       "      <td>107.5</td>\n",
       "      <td>109.0</td>\n",
       "      <td>106.5</td>\n",
       "      <td>108.5</td>\n",
       "      <td>5632800</td>\n",
       "      <td>10851780.0</td>\n",
       "    </tr>\n",
       "    <tr>\n",
       "      <th>1</th>\n",
       "      <td>2021-08-30T09:00:00+07:00</td>\n",
       "      <td>110.5</td>\n",
       "      <td>114.0</td>\n",
       "      <td>110.0</td>\n",
       "      <td>113.5</td>\n",
       "      <td>18303000</td>\n",
       "      <td>12115100.0</td>\n",
       "    </tr>\n",
       "    <tr>\n",
       "      <th>2</th>\n",
       "      <td>2021-08-31T09:00:00+07:00</td>\n",
       "      <td>112.5</td>\n",
       "      <td>113.0</td>\n",
       "      <td>111.0</td>\n",
       "      <td>111.5</td>\n",
       "      <td>9230500</td>\n",
       "      <td>8571800.0</td>\n",
       "    </tr>\n",
       "    <tr>\n",
       "      <th>3</th>\n",
       "      <td>2021-09-01T09:00:00+07:00</td>\n",
       "      <td>112.0</td>\n",
       "      <td>112.0</td>\n",
       "      <td>109.5</td>\n",
       "      <td>109.5</td>\n",
       "      <td>9287800</td>\n",
       "      <td>9173180.0</td>\n",
       "    </tr>\n",
       "    <tr>\n",
       "      <th>4</th>\n",
       "      <td>2021-09-02T09:00:00+07:00</td>\n",
       "      <td>109.5</td>\n",
       "      <td>110.5</td>\n",
       "      <td>109.0</td>\n",
       "      <td>110.0</td>\n",
       "      <td>3780200</td>\n",
       "      <td>9246860.0</td>\n",
       "    </tr>\n",
       "  </tbody>\n",
       "</table>\n",
       "</div>"
      ],
      "text/plain": [
       "                        time   open   high    low  close    Volume   Volume MA\n",
       "0  2021-08-27T09:00:00+07:00  107.5  109.0  106.5  108.5   5632800  10851780.0\n",
       "1  2021-08-30T09:00:00+07:00  110.5  114.0  110.0  113.5  18303000  12115100.0\n",
       "2  2021-08-31T09:00:00+07:00  112.5  113.0  111.0  111.5   9230500   8571800.0\n",
       "3  2021-09-01T09:00:00+07:00  112.0  112.0  109.5  109.5   9287800   9173180.0\n",
       "4  2021-09-02T09:00:00+07:00  109.5  110.5  109.0  110.0   3780200   9246860.0"
      ]
     },
     "execution_count": 8,
     "metadata": {},
     "output_type": "execute_result"
    }
   ],
   "source": [
    "pttep.head(5)"
   ]
  },
  {
   "cell_type": "code",
   "execution_count": 9,
   "id": "a484ab5a",
   "metadata": {},
   "outputs": [
    {
     "data": {
      "text/html": [
       "<div>\n",
       "<style scoped>\n",
       "    .dataframe tbody tr th:only-of-type {\n",
       "        vertical-align: middle;\n",
       "    }\n",
       "\n",
       "    .dataframe tbody tr th {\n",
       "        vertical-align: top;\n",
       "    }\n",
       "\n",
       "    .dataframe thead th {\n",
       "        text-align: right;\n",
       "    }\n",
       "</style>\n",
       "<table border=\"1\" class=\"dataframe\">\n",
       "  <thead>\n",
       "    <tr style=\"text-align: right;\">\n",
       "      <th></th>\n",
       "      <th>time</th>\n",
       "      <th>open</th>\n",
       "      <th>high</th>\n",
       "      <th>low</th>\n",
       "      <th>close</th>\n",
       "      <th>Volume</th>\n",
       "      <th>Volume MA</th>\n",
       "    </tr>\n",
       "  </thead>\n",
       "  <tbody>\n",
       "    <tr>\n",
       "      <th>0</th>\n",
       "      <td>2021-08-27T09:00:00+07:00</td>\n",
       "      <td>183.5</td>\n",
       "      <td>185.5</td>\n",
       "      <td>183.0</td>\n",
       "      <td>184.5</td>\n",
       "      <td>9635000</td>\n",
       "      <td>8363740.0</td>\n",
       "    </tr>\n",
       "    <tr>\n",
       "      <th>1</th>\n",
       "      <td>2021-08-30T09:00:00+07:00</td>\n",
       "      <td>185.5</td>\n",
       "      <td>186.5</td>\n",
       "      <td>183.5</td>\n",
       "      <td>184.0</td>\n",
       "      <td>8232500</td>\n",
       "      <td>7970800.0</td>\n",
       "    </tr>\n",
       "    <tr>\n",
       "      <th>2</th>\n",
       "      <td>2021-08-31T09:00:00+07:00</td>\n",
       "      <td>183.5</td>\n",
       "      <td>189.5</td>\n",
       "      <td>183.5</td>\n",
       "      <td>188.0</td>\n",
       "      <td>17957000</td>\n",
       "      <td>10470820.0</td>\n",
       "    </tr>\n",
       "    <tr>\n",
       "      <th>3</th>\n",
       "      <td>2021-09-01T09:00:00+07:00</td>\n",
       "      <td>188.5</td>\n",
       "      <td>189.5</td>\n",
       "      <td>186.0</td>\n",
       "      <td>186.0</td>\n",
       "      <td>9287500</td>\n",
       "      <td>10903800.0</td>\n",
       "    </tr>\n",
       "    <tr>\n",
       "      <th>4</th>\n",
       "      <td>2021-09-02T09:00:00+07:00</td>\n",
       "      <td>187.0</td>\n",
       "      <td>190.5</td>\n",
       "      <td>186.5</td>\n",
       "      <td>188.5</td>\n",
       "      <td>16097500</td>\n",
       "      <td>12241900.0</td>\n",
       "    </tr>\n",
       "  </tbody>\n",
       "</table>\n",
       "</div>"
      ],
      "text/plain": [
       "                        time   open   high    low  close    Volume   Volume MA\n",
       "0  2021-08-27T09:00:00+07:00  183.5  185.5  183.0  184.5   9635000   8363740.0\n",
       "1  2021-08-30T09:00:00+07:00  185.5  186.5  183.5  184.0   8232500   7970800.0\n",
       "2  2021-08-31T09:00:00+07:00  183.5  189.5  183.5  188.0  17957000  10470820.0\n",
       "3  2021-09-01T09:00:00+07:00  188.5  189.5  186.0  186.0   9287500  10903800.0\n",
       "4  2021-09-02T09:00:00+07:00  187.0  190.5  186.5  188.5  16097500  12241900.0"
      ]
     },
     "execution_count": 9,
     "metadata": {},
     "output_type": "execute_result"
    }
   ],
   "source": [
    "advanc.head(5)"
   ]
  },
  {
   "cell_type": "markdown",
   "id": "4ef18451",
   "metadata": {},
   "source": [
    "# Date time arrangement"
   ]
  },
  {
   "cell_type": "code",
   "execution_count": 11,
   "id": "8109d622",
   "metadata": {},
   "outputs": [
    {
     "data": {
      "text/html": [
       "<div>\n",
       "<style scoped>\n",
       "    .dataframe tbody tr th:only-of-type {\n",
       "        vertical-align: middle;\n",
       "    }\n",
       "\n",
       "    .dataframe tbody tr th {\n",
       "        vertical-align: top;\n",
       "    }\n",
       "\n",
       "    .dataframe thead th {\n",
       "        text-align: right;\n",
       "    }\n",
       "</style>\n",
       "<table border=\"1\" class=\"dataframe\">\n",
       "  <thead>\n",
       "    <tr style=\"text-align: right;\">\n",
       "      <th></th>\n",
       "      <th>_id</th>\n",
       "      <th>Symbol</th>\n",
       "      <th>VolATO1</th>\n",
       "      <th>PriceATO1</th>\n",
       "      <th>Close(T_1)</th>\n",
       "      <th>VolATO2</th>\n",
       "      <th>PriceATO2</th>\n",
       "      <th>Price12_30</th>\n",
       "      <th>VolATC</th>\n",
       "      <th>PriceATC</th>\n",
       "      <th>Price16_30</th>\n",
       "      <th>PercentChgSS1</th>\n",
       "      <th>ValueSS1</th>\n",
       "      <th>PercentChgSS2</th>\n",
       "      <th>ValueSS2</th>\n",
       "      <th>PercentChgATC</th>\n",
       "      <th>ValueATC</th>\n",
       "      <th>Date</th>\n",
       "    </tr>\n",
       "  </thead>\n",
       "  <tbody>\n",
       "    <tr>\n",
       "      <th>0</th>\n",
       "      <td>1</td>\n",
       "      <td>ADVANC</td>\n",
       "      <td>0</td>\n",
       "      <td>0.0</td>\n",
       "      <td>0.0</td>\n",
       "      <td>0</td>\n",
       "      <td>0.0</td>\n",
       "      <td>0.0</td>\n",
       "      <td>2192000</td>\n",
       "      <td>188.00</td>\n",
       "      <td>188.50</td>\n",
       "      <td>0.0</td>\n",
       "      <td>0</td>\n",
       "      <td>0.0</td>\n",
       "      <td>0</td>\n",
       "      <td>-0.27</td>\n",
       "      <td>412096000</td>\n",
       "      <td>2021-08-31</td>\n",
       "    </tr>\n",
       "    <tr>\n",
       "      <th>1</th>\n",
       "      <td>17</td>\n",
       "      <td>AOT</td>\n",
       "      <td>0</td>\n",
       "      <td>0.0</td>\n",
       "      <td>0.0</td>\n",
       "      <td>0</td>\n",
       "      <td>0.0</td>\n",
       "      <td>0.0</td>\n",
       "      <td>6842500</td>\n",
       "      <td>63.75</td>\n",
       "      <td>63.75</td>\n",
       "      <td>0.0</td>\n",
       "      <td>0</td>\n",
       "      <td>0.0</td>\n",
       "      <td>0</td>\n",
       "      <td>0.00</td>\n",
       "      <td>436209375</td>\n",
       "      <td>2021-08-31</td>\n",
       "    </tr>\n",
       "    <tr>\n",
       "      <th>2</th>\n",
       "      <td>121</td>\n",
       "      <td>DELTA</td>\n",
       "      <td>0</td>\n",
       "      <td>0.0</td>\n",
       "      <td>0.0</td>\n",
       "      <td>0</td>\n",
       "      <td>0.0</td>\n",
       "      <td>0.0</td>\n",
       "      <td>441000</td>\n",
       "      <td>584.00</td>\n",
       "      <td>584.00</td>\n",
       "      <td>0.0</td>\n",
       "      <td>0</td>\n",
       "      <td>0.0</td>\n",
       "      <td>0</td>\n",
       "      <td>0.00</td>\n",
       "      <td>257544000</td>\n",
       "      <td>2021-08-31</td>\n",
       "    </tr>\n",
       "    <tr>\n",
       "      <th>3</th>\n",
       "      <td>252</td>\n",
       "      <td>PTTEP</td>\n",
       "      <td>0</td>\n",
       "      <td>0.0</td>\n",
       "      <td>0.0</td>\n",
       "      <td>0</td>\n",
       "      <td>0.0</td>\n",
       "      <td>0.0</td>\n",
       "      <td>3087900</td>\n",
       "      <td>111.50</td>\n",
       "      <td>112.00</td>\n",
       "      <td>0.0</td>\n",
       "      <td>0</td>\n",
       "      <td>0.0</td>\n",
       "      <td>0</td>\n",
       "      <td>-0.45</td>\n",
       "      <td>344300850</td>\n",
       "      <td>2021-08-31</td>\n",
       "    </tr>\n",
       "    <tr>\n",
       "      <th>4</th>\n",
       "      <td>256</td>\n",
       "      <td>PTT</td>\n",
       "      <td>0</td>\n",
       "      <td>0.0</td>\n",
       "      <td>0.0</td>\n",
       "      <td>0</td>\n",
       "      <td>0.0</td>\n",
       "      <td>0.0</td>\n",
       "      <td>26412200</td>\n",
       "      <td>38.25</td>\n",
       "      <td>38.50</td>\n",
       "      <td>0.0</td>\n",
       "      <td>0</td>\n",
       "      <td>0.0</td>\n",
       "      <td>0</td>\n",
       "      <td>-0.65</td>\n",
       "      <td>1010266650</td>\n",
       "      <td>2021-08-31</td>\n",
       "    </tr>\n",
       "  </tbody>\n",
       "</table>\n",
       "</div>"
      ],
      "text/plain": [
       "   _id  Symbol  VolATO1  PriceATO1  Close(T_1)  VolATO2  PriceATO2  \\\n",
       "0    1  ADVANC        0        0.0         0.0        0        0.0   \n",
       "1   17     AOT        0        0.0         0.0        0        0.0   \n",
       "2  121   DELTA        0        0.0         0.0        0        0.0   \n",
       "3  252   PTTEP        0        0.0         0.0        0        0.0   \n",
       "4  256     PTT        0        0.0         0.0        0        0.0   \n",
       "\n",
       "   Price12_30    VolATC  PriceATC  Price16_30  PercentChgSS1  ValueSS1  \\\n",
       "0         0.0   2192000    188.00      188.50            0.0         0   \n",
       "1         0.0   6842500     63.75       63.75            0.0         0   \n",
       "2         0.0    441000    584.00      584.00            0.0         0   \n",
       "3         0.0   3087900    111.50      112.00            0.0         0   \n",
       "4         0.0  26412200     38.25       38.50            0.0         0   \n",
       "\n",
       "   PercentChgSS2  ValueSS2  PercentChgATC    ValueATC       Date  \n",
       "0            0.0         0          -0.27   412096000 2021-08-31  \n",
       "1            0.0         0           0.00   436209375 2021-08-31  \n",
       "2            0.0         0           0.00   257544000 2021-08-31  \n",
       "3            0.0         0          -0.45   344300850 2021-08-31  \n",
       "4            0.0         0          -0.65  1010266650 2021-08-31  "
      ]
     },
     "execution_count": 11,
     "metadata": {},
     "output_type": "execute_result"
    }
   ],
   "source": [
    "# Set to date format of ATO/ATC data\n",
    "\n",
    "atoatc['Date'] = pd.to_datetime(atoatc['updated_at']).dt.date\n",
    "atoatc = atoatc.drop('updated_at',axis=1)\n",
    "atoatc['Date'] = pd.to_datetime(atoatc['Date'])\n",
    "atoatc.head(5)"
   ]
  },
  {
   "cell_type": "code",
   "execution_count": 12,
   "id": "8e804dfc",
   "metadata": {},
   "outputs": [
    {
     "data": {
      "text/html": [
       "<div>\n",
       "<style scoped>\n",
       "    .dataframe tbody tr th:only-of-type {\n",
       "        vertical-align: middle;\n",
       "    }\n",
       "\n",
       "    .dataframe tbody tr th {\n",
       "        vertical-align: top;\n",
       "    }\n",
       "\n",
       "    .dataframe thead th {\n",
       "        text-align: right;\n",
       "    }\n",
       "</style>\n",
       "<table border=\"1\" class=\"dataframe\">\n",
       "  <thead>\n",
       "    <tr style=\"text-align: right;\">\n",
       "      <th></th>\n",
       "      <th>open</th>\n",
       "      <th>high</th>\n",
       "      <th>low</th>\n",
       "      <th>close</th>\n",
       "      <th>Volume</th>\n",
       "      <th>Volume MA</th>\n",
       "      <th>Date</th>\n",
       "      <th>Symbol</th>\n",
       "    </tr>\n",
       "  </thead>\n",
       "  <tbody>\n",
       "    <tr>\n",
       "      <th>0</th>\n",
       "      <td>564</td>\n",
       "      <td>576</td>\n",
       "      <td>562</td>\n",
       "      <td>566</td>\n",
       "      <td>816900</td>\n",
       "      <td>890700.0</td>\n",
       "      <td>2021-08-27</td>\n",
       "      <td>DELTA</td>\n",
       "    </tr>\n",
       "    <tr>\n",
       "      <th>1</th>\n",
       "      <td>562</td>\n",
       "      <td>576</td>\n",
       "      <td>556</td>\n",
       "      <td>570</td>\n",
       "      <td>1449600</td>\n",
       "      <td>982080.0</td>\n",
       "      <td>2021-08-30</td>\n",
       "      <td>DELTA</td>\n",
       "    </tr>\n",
       "    <tr>\n",
       "      <th>2</th>\n",
       "      <td>564</td>\n",
       "      <td>590</td>\n",
       "      <td>564</td>\n",
       "      <td>584</td>\n",
       "      <td>2035600</td>\n",
       "      <td>1253840.0</td>\n",
       "      <td>2021-08-31</td>\n",
       "      <td>DELTA</td>\n",
       "    </tr>\n",
       "    <tr>\n",
       "      <th>3</th>\n",
       "      <td>594</td>\n",
       "      <td>660</td>\n",
       "      <td>590</td>\n",
       "      <td>656</td>\n",
       "      <td>6737100</td>\n",
       "      <td>2377780.0</td>\n",
       "      <td>2021-09-01</td>\n",
       "      <td>DELTA</td>\n",
       "    </tr>\n",
       "    <tr>\n",
       "      <th>4</th>\n",
       "      <td>660</td>\n",
       "      <td>736</td>\n",
       "      <td>654</td>\n",
       "      <td>726</td>\n",
       "      <td>8388300</td>\n",
       "      <td>3885500.0</td>\n",
       "      <td>2021-09-02</td>\n",
       "      <td>DELTA</td>\n",
       "    </tr>\n",
       "  </tbody>\n",
       "</table>\n",
       "</div>"
      ],
      "text/plain": [
       "   open  high  low  close   Volume  Volume MA       Date Symbol\n",
       "0   564   576  562    566   816900   890700.0 2021-08-27  DELTA\n",
       "1   562   576  556    570  1449600   982080.0 2021-08-30  DELTA\n",
       "2   564   590  564    584  2035600  1253840.0 2021-08-31  DELTA\n",
       "3   594   660  590    656  6737100  2377780.0 2021-09-01  DELTA\n",
       "4   660   736  654    726  8388300  3885500.0 2021-09-02  DELTA"
      ]
     },
     "execution_count": 12,
     "metadata": {},
     "output_type": "execute_result"
    }
   ],
   "source": [
    "# DELTA date time\n",
    "\n",
    "# Convert the 'time' column to datetime format\n",
    "delta['time'] = pd.to_datetime(delta['time'])\n",
    "\n",
    "# Extract only the date from the 'time' column\n",
    "delta['Date'] = delta['time'].dt.date\n",
    "delta['Date'] = pd.to_datetime(delta['Date'])\n",
    "\n",
    "# Drop the 'time' column\n",
    "delta = delta.drop('time', axis=1)\n",
    "\n",
    "# add Symbol column\n",
    "delta['Symbol'] = 'DELTA'\n",
    "\n",
    "\n",
    "delta.head(5)"
   ]
  },
  {
   "cell_type": "code",
   "execution_count": 13,
   "id": "bff4f38e",
   "metadata": {},
   "outputs": [
    {
     "data": {
      "text/html": [
       "<div>\n",
       "<style scoped>\n",
       "    .dataframe tbody tr th:only-of-type {\n",
       "        vertical-align: middle;\n",
       "    }\n",
       "\n",
       "    .dataframe tbody tr th {\n",
       "        vertical-align: top;\n",
       "    }\n",
       "\n",
       "    .dataframe thead th {\n",
       "        text-align: right;\n",
       "    }\n",
       "</style>\n",
       "<table border=\"1\" class=\"dataframe\">\n",
       "  <thead>\n",
       "    <tr style=\"text-align: right;\">\n",
       "      <th></th>\n",
       "      <th>open</th>\n",
       "      <th>high</th>\n",
       "      <th>low</th>\n",
       "      <th>close</th>\n",
       "      <th>Volume</th>\n",
       "      <th>Volume MA</th>\n",
       "      <th>Date</th>\n",
       "      <th>Symbol</th>\n",
       "    </tr>\n",
       "  </thead>\n",
       "  <tbody>\n",
       "    <tr>\n",
       "      <th>0</th>\n",
       "      <td>62.50</td>\n",
       "      <td>63.25</td>\n",
       "      <td>61.75</td>\n",
       "      <td>62.75</td>\n",
       "      <td>19207300</td>\n",
       "      <td>24982100.0</td>\n",
       "      <td>2021-08-27</td>\n",
       "      <td>AOT</td>\n",
       "    </tr>\n",
       "    <tr>\n",
       "      <th>1</th>\n",
       "      <td>63.00</td>\n",
       "      <td>64.00</td>\n",
       "      <td>62.75</td>\n",
       "      <td>63.75</td>\n",
       "      <td>39591400</td>\n",
       "      <td>24528900.0</td>\n",
       "      <td>2021-08-30</td>\n",
       "      <td>AOT</td>\n",
       "    </tr>\n",
       "    <tr>\n",
       "      <th>2</th>\n",
       "      <td>63.75</td>\n",
       "      <td>63.75</td>\n",
       "      <td>63.25</td>\n",
       "      <td>63.75</td>\n",
       "      <td>27142200</td>\n",
       "      <td>25135260.0</td>\n",
       "      <td>2021-08-31</td>\n",
       "      <td>AOT</td>\n",
       "    </tr>\n",
       "    <tr>\n",
       "      <th>3</th>\n",
       "      <td>63.75</td>\n",
       "      <td>63.75</td>\n",
       "      <td>62.25</td>\n",
       "      <td>62.50</td>\n",
       "      <td>33520800</td>\n",
       "      <td>28354680.0</td>\n",
       "      <td>2021-09-01</td>\n",
       "      <td>AOT</td>\n",
       "    </tr>\n",
       "    <tr>\n",
       "      <th>4</th>\n",
       "      <td>62.00</td>\n",
       "      <td>63.25</td>\n",
       "      <td>61.50</td>\n",
       "      <td>62.75</td>\n",
       "      <td>25815900</td>\n",
       "      <td>29055520.0</td>\n",
       "      <td>2021-09-02</td>\n",
       "      <td>AOT</td>\n",
       "    </tr>\n",
       "  </tbody>\n",
       "</table>\n",
       "</div>"
      ],
      "text/plain": [
       "    open   high    low  close    Volume   Volume MA       Date Symbol\n",
       "0  62.50  63.25  61.75  62.75  19207300  24982100.0 2021-08-27    AOT\n",
       "1  63.00  64.00  62.75  63.75  39591400  24528900.0 2021-08-30    AOT\n",
       "2  63.75  63.75  63.25  63.75  27142200  25135260.0 2021-08-31    AOT\n",
       "3  63.75  63.75  62.25  62.50  33520800  28354680.0 2021-09-01    AOT\n",
       "4  62.00  63.25  61.50  62.75  25815900  29055520.0 2021-09-02    AOT"
      ]
     },
     "execution_count": 13,
     "metadata": {},
     "output_type": "execute_result"
    }
   ],
   "source": [
    "# AOT date time\n",
    "\n",
    "# Convert the 'time' column to datetime format\n",
    "aot['time'] = pd.to_datetime(aot['time'])\n",
    "\n",
    "# Extract only the date from the 'time' column\n",
    "aot['Date'] = aot['time'].dt.date\n",
    "aot['Date'] = pd.to_datetime(aot['Date'])\n",
    "\n",
    "# Drop the 'time' column\n",
    "aot = aot.drop('time', axis=1)\n",
    "\n",
    "# add Symbol column\n",
    "aot['Symbol'] = 'AOT'\n",
    "\n",
    "\n",
    "aot.head(5)"
   ]
  },
  {
   "cell_type": "code",
   "execution_count": 14,
   "id": "869b8553",
   "metadata": {},
   "outputs": [
    {
     "data": {
      "text/html": [
       "<div>\n",
       "<style scoped>\n",
       "    .dataframe tbody tr th:only-of-type {\n",
       "        vertical-align: middle;\n",
       "    }\n",
       "\n",
       "    .dataframe tbody tr th {\n",
       "        vertical-align: top;\n",
       "    }\n",
       "\n",
       "    .dataframe thead th {\n",
       "        text-align: right;\n",
       "    }\n",
       "</style>\n",
       "<table border=\"1\" class=\"dataframe\">\n",
       "  <thead>\n",
       "    <tr style=\"text-align: right;\">\n",
       "      <th></th>\n",
       "      <th>open</th>\n",
       "      <th>high</th>\n",
       "      <th>low</th>\n",
       "      <th>close</th>\n",
       "      <th>Volume</th>\n",
       "      <th>Volume MA</th>\n",
       "      <th>Date</th>\n",
       "      <th>Symbol</th>\n",
       "    </tr>\n",
       "  </thead>\n",
       "  <tbody>\n",
       "    <tr>\n",
       "      <th>0</th>\n",
       "      <td>183.5</td>\n",
       "      <td>185.5</td>\n",
       "      <td>183.0</td>\n",
       "      <td>184.5</td>\n",
       "      <td>9635000</td>\n",
       "      <td>8363740.0</td>\n",
       "      <td>2021-08-27</td>\n",
       "      <td>ADVANC</td>\n",
       "    </tr>\n",
       "    <tr>\n",
       "      <th>1</th>\n",
       "      <td>185.5</td>\n",
       "      <td>186.5</td>\n",
       "      <td>183.5</td>\n",
       "      <td>184.0</td>\n",
       "      <td>8232500</td>\n",
       "      <td>7970800.0</td>\n",
       "      <td>2021-08-30</td>\n",
       "      <td>ADVANC</td>\n",
       "    </tr>\n",
       "    <tr>\n",
       "      <th>2</th>\n",
       "      <td>183.5</td>\n",
       "      <td>189.5</td>\n",
       "      <td>183.5</td>\n",
       "      <td>188.0</td>\n",
       "      <td>17957000</td>\n",
       "      <td>10470820.0</td>\n",
       "      <td>2021-08-31</td>\n",
       "      <td>ADVANC</td>\n",
       "    </tr>\n",
       "    <tr>\n",
       "      <th>3</th>\n",
       "      <td>188.5</td>\n",
       "      <td>189.5</td>\n",
       "      <td>186.0</td>\n",
       "      <td>186.0</td>\n",
       "      <td>9287500</td>\n",
       "      <td>10903800.0</td>\n",
       "      <td>2021-09-01</td>\n",
       "      <td>ADVANC</td>\n",
       "    </tr>\n",
       "    <tr>\n",
       "      <th>4</th>\n",
       "      <td>187.0</td>\n",
       "      <td>190.5</td>\n",
       "      <td>186.5</td>\n",
       "      <td>188.5</td>\n",
       "      <td>16097500</td>\n",
       "      <td>12241900.0</td>\n",
       "      <td>2021-09-02</td>\n",
       "      <td>ADVANC</td>\n",
       "    </tr>\n",
       "  </tbody>\n",
       "</table>\n",
       "</div>"
      ],
      "text/plain": [
       "    open   high    low  close    Volume   Volume MA       Date  Symbol\n",
       "0  183.5  185.5  183.0  184.5   9635000   8363740.0 2021-08-27  ADVANC\n",
       "1  185.5  186.5  183.5  184.0   8232500   7970800.0 2021-08-30  ADVANC\n",
       "2  183.5  189.5  183.5  188.0  17957000  10470820.0 2021-08-31  ADVANC\n",
       "3  188.5  189.5  186.0  186.0   9287500  10903800.0 2021-09-01  ADVANC\n",
       "4  187.0  190.5  186.5  188.5  16097500  12241900.0 2021-09-02  ADVANC"
      ]
     },
     "execution_count": 14,
     "metadata": {},
     "output_type": "execute_result"
    }
   ],
   "source": [
    "# ADVANC date time\n",
    "\n",
    "# Convert the 'time' column to datetime format\n",
    "advanc['time'] = pd.to_datetime(advanc['time'])\n",
    "\n",
    "# Extract only the date from the 'time' column\n",
    "advanc['Date'] = advanc['time'].dt.date\n",
    "advanc['Date'] = pd.to_datetime(advanc['Date'])\n",
    "\n",
    "# Drop the 'time' column\n",
    "advanc = advanc.drop('time', axis=1)\n",
    "\n",
    "# add Symbol column\n",
    "advanc['Symbol'] = 'ADVANC'\n",
    "\n",
    "\n",
    "advanc.head(5)"
   ]
  },
  {
   "cell_type": "code",
   "execution_count": 15,
   "id": "83a9562f",
   "metadata": {},
   "outputs": [
    {
     "data": {
      "text/html": [
       "<div>\n",
       "<style scoped>\n",
       "    .dataframe tbody tr th:only-of-type {\n",
       "        vertical-align: middle;\n",
       "    }\n",
       "\n",
       "    .dataframe tbody tr th {\n",
       "        vertical-align: top;\n",
       "    }\n",
       "\n",
       "    .dataframe thead th {\n",
       "        text-align: right;\n",
       "    }\n",
       "</style>\n",
       "<table border=\"1\" class=\"dataframe\">\n",
       "  <thead>\n",
       "    <tr style=\"text-align: right;\">\n",
       "      <th></th>\n",
       "      <th>open</th>\n",
       "      <th>high</th>\n",
       "      <th>low</th>\n",
       "      <th>close</th>\n",
       "      <th>Volume</th>\n",
       "      <th>Volume MA</th>\n",
       "      <th>Date</th>\n",
       "      <th>Symbol</th>\n",
       "    </tr>\n",
       "  </thead>\n",
       "  <tbody>\n",
       "    <tr>\n",
       "      <th>0</th>\n",
       "      <td>37.25</td>\n",
       "      <td>37.75</td>\n",
       "      <td>37.00</td>\n",
       "      <td>37.75</td>\n",
       "      <td>66171000</td>\n",
       "      <td>85970880.0</td>\n",
       "      <td>2021-08-27</td>\n",
       "      <td>PTT</td>\n",
       "    </tr>\n",
       "    <tr>\n",
       "      <th>1</th>\n",
       "      <td>38.00</td>\n",
       "      <td>38.75</td>\n",
       "      <td>38.00</td>\n",
       "      <td>38.75</td>\n",
       "      <td>97994200</td>\n",
       "      <td>88060600.0</td>\n",
       "      <td>2021-08-30</td>\n",
       "      <td>PTT</td>\n",
       "    </tr>\n",
       "    <tr>\n",
       "      <th>2</th>\n",
       "      <td>38.50</td>\n",
       "      <td>38.75</td>\n",
       "      <td>38.00</td>\n",
       "      <td>38.25</td>\n",
       "      <td>98277700</td>\n",
       "      <td>79303180.0</td>\n",
       "      <td>2021-08-31</td>\n",
       "      <td>PTT</td>\n",
       "    </tr>\n",
       "    <tr>\n",
       "      <th>3</th>\n",
       "      <td>38.25</td>\n",
       "      <td>38.50</td>\n",
       "      <td>37.50</td>\n",
       "      <td>37.50</td>\n",
       "      <td>83087800</td>\n",
       "      <td>78151360.0</td>\n",
       "      <td>2021-09-01</td>\n",
       "      <td>PTT</td>\n",
       "    </tr>\n",
       "    <tr>\n",
       "      <th>4</th>\n",
       "      <td>37.50</td>\n",
       "      <td>38.25</td>\n",
       "      <td>37.25</td>\n",
       "      <td>38.00</td>\n",
       "      <td>53803000</td>\n",
       "      <td>79866740.0</td>\n",
       "      <td>2021-09-02</td>\n",
       "      <td>PTT</td>\n",
       "    </tr>\n",
       "  </tbody>\n",
       "</table>\n",
       "</div>"
      ],
      "text/plain": [
       "    open   high    low  close    Volume   Volume MA       Date Symbol\n",
       "0  37.25  37.75  37.00  37.75  66171000  85970880.0 2021-08-27    PTT\n",
       "1  38.00  38.75  38.00  38.75  97994200  88060600.0 2021-08-30    PTT\n",
       "2  38.50  38.75  38.00  38.25  98277700  79303180.0 2021-08-31    PTT\n",
       "3  38.25  38.50  37.50  37.50  83087800  78151360.0 2021-09-01    PTT\n",
       "4  37.50  38.25  37.25  38.00  53803000  79866740.0 2021-09-02    PTT"
      ]
     },
     "execution_count": 15,
     "metadata": {},
     "output_type": "execute_result"
    }
   ],
   "source": [
    "# PTT date time\n",
    "\n",
    "# Convert the 'time' column to datetime format\n",
    "ptt['time'] = pd.to_datetime(ptt['time'])\n",
    "\n",
    "# Extract only the date from the 'time' column\n",
    "ptt['Date'] = ptt['time'].dt.date\n",
    "ptt['Date'] = pd.to_datetime(ptt['Date'])\n",
    "\n",
    "# Drop the 'time' column\n",
    "ptt = ptt.drop('time', axis=1)\n",
    "\n",
    "# add Symbol column\n",
    "ptt['Symbol'] = 'PTT'\n",
    "\n",
    "\n",
    "ptt.head(5)"
   ]
  },
  {
   "cell_type": "code",
   "execution_count": 16,
   "id": "ca74bac3",
   "metadata": {},
   "outputs": [
    {
     "data": {
      "text/html": [
       "<div>\n",
       "<style scoped>\n",
       "    .dataframe tbody tr th:only-of-type {\n",
       "        vertical-align: middle;\n",
       "    }\n",
       "\n",
       "    .dataframe tbody tr th {\n",
       "        vertical-align: top;\n",
       "    }\n",
       "\n",
       "    .dataframe thead th {\n",
       "        text-align: right;\n",
       "    }\n",
       "</style>\n",
       "<table border=\"1\" class=\"dataframe\">\n",
       "  <thead>\n",
       "    <tr style=\"text-align: right;\">\n",
       "      <th></th>\n",
       "      <th>open</th>\n",
       "      <th>high</th>\n",
       "      <th>low</th>\n",
       "      <th>close</th>\n",
       "      <th>Volume</th>\n",
       "      <th>Volume MA</th>\n",
       "      <th>Date</th>\n",
       "      <th>Symbol</th>\n",
       "    </tr>\n",
       "  </thead>\n",
       "  <tbody>\n",
       "    <tr>\n",
       "      <th>0</th>\n",
       "      <td>107.5</td>\n",
       "      <td>109.0</td>\n",
       "      <td>106.5</td>\n",
       "      <td>108.5</td>\n",
       "      <td>5632800</td>\n",
       "      <td>10851780.0</td>\n",
       "      <td>2021-08-27</td>\n",
       "      <td>PTTEP</td>\n",
       "    </tr>\n",
       "    <tr>\n",
       "      <th>1</th>\n",
       "      <td>110.5</td>\n",
       "      <td>114.0</td>\n",
       "      <td>110.0</td>\n",
       "      <td>113.5</td>\n",
       "      <td>18303000</td>\n",
       "      <td>12115100.0</td>\n",
       "      <td>2021-08-30</td>\n",
       "      <td>PTTEP</td>\n",
       "    </tr>\n",
       "    <tr>\n",
       "      <th>2</th>\n",
       "      <td>112.5</td>\n",
       "      <td>113.0</td>\n",
       "      <td>111.0</td>\n",
       "      <td>111.5</td>\n",
       "      <td>9230500</td>\n",
       "      <td>8571800.0</td>\n",
       "      <td>2021-08-31</td>\n",
       "      <td>PTTEP</td>\n",
       "    </tr>\n",
       "    <tr>\n",
       "      <th>3</th>\n",
       "      <td>112.0</td>\n",
       "      <td>112.0</td>\n",
       "      <td>109.5</td>\n",
       "      <td>109.5</td>\n",
       "      <td>9287800</td>\n",
       "      <td>9173180.0</td>\n",
       "      <td>2021-09-01</td>\n",
       "      <td>PTTEP</td>\n",
       "    </tr>\n",
       "    <tr>\n",
       "      <th>4</th>\n",
       "      <td>109.5</td>\n",
       "      <td>110.5</td>\n",
       "      <td>109.0</td>\n",
       "      <td>110.0</td>\n",
       "      <td>3780200</td>\n",
       "      <td>9246860.0</td>\n",
       "      <td>2021-09-02</td>\n",
       "      <td>PTTEP</td>\n",
       "    </tr>\n",
       "  </tbody>\n",
       "</table>\n",
       "</div>"
      ],
      "text/plain": [
       "    open   high    low  close    Volume   Volume MA       Date Symbol\n",
       "0  107.5  109.0  106.5  108.5   5632800  10851780.0 2021-08-27  PTTEP\n",
       "1  110.5  114.0  110.0  113.5  18303000  12115100.0 2021-08-30  PTTEP\n",
       "2  112.5  113.0  111.0  111.5   9230500   8571800.0 2021-08-31  PTTEP\n",
       "3  112.0  112.0  109.5  109.5   9287800   9173180.0 2021-09-01  PTTEP\n",
       "4  109.5  110.5  109.0  110.0   3780200   9246860.0 2021-09-02  PTTEP"
      ]
     },
     "execution_count": 16,
     "metadata": {},
     "output_type": "execute_result"
    }
   ],
   "source": [
    "# PTTEP date time\n",
    "\n",
    "# Convert the 'time' column to datetime format\n",
    "pttep['time'] = pd.to_datetime(pttep['time'])\n",
    "\n",
    "# Extract only the date from the 'time' column\n",
    "pttep['Date'] = pttep['time'].dt.date\n",
    "pttep['Date'] = pd.to_datetime(pttep['Date'])\n",
    "\n",
    "# Drop the 'time' column\n",
    "pttep = pttep.drop('time', axis=1)\n",
    "\n",
    "# add Symbol column\n",
    "pttep['Symbol'] = 'PTTEP'\n",
    "\n",
    "\n",
    "pttep.head(5)"
   ]
  },
  {
   "cell_type": "markdown",
   "id": "c0517e2e",
   "metadata": {},
   "source": [
    "# Merge table"
   ]
  },
  {
   "cell_type": "code",
   "execution_count": 17,
   "id": "463313ae",
   "metadata": {},
   "outputs": [
    {
     "name": "stdout",
     "output_type": "stream",
     "text": [
      "(404, 24)\n",
      "(407, 24)\n",
      "(407, 24)\n",
      "(408, 24)\n",
      "(408, 24)\n"
     ]
    }
   ],
   "source": [
    "delta_m = pd.merge(delta, atoatc, on=['Date', 'Symbol'],how='left')\n",
    "aot_m = pd.merge(aot, atoatc, on=['Date', 'Symbol'],how='left')\n",
    "ptt_m = pd.merge(ptt, atoatc, on=['Date', 'Symbol'],how='left')\n",
    "pttep_m = pd.merge(pttep, atoatc, on=['Date', 'Symbol'],how='left')\n",
    "advanc_m = pd.merge(advanc, atoatc, on=['Date', 'Symbol'],how='left')\n",
    "\n",
    "print(delta_m.shape)\n",
    "print(aot_m.shape)\n",
    "print(advanc_m.shape)\n",
    "print(ptt_m.shape)\n",
    "print(pttep_m.shape)"
   ]
  },
  {
   "cell_type": "markdown",
   "id": "f75b9fbb",
   "metadata": {},
   "source": [
    "### Create Percent Change column"
   ]
  },
  {
   "cell_type": "code",
   "execution_count": 18,
   "id": "319e8a0d",
   "metadata": {},
   "outputs": [
    {
     "name": "stdout",
     "output_type": "stream",
     "text": [
      "0   -0.0071\n",
      "1   -0.0105\n",
      "2    0.0171\n",
      "3    0.0061\n",
      "4    0.0275\n",
      "Name: chg_Ct_Ot1, dtype: float64\n",
      "0    0.004\n",
      "1    0.000\n",
      "2    0.000\n",
      "3   -0.008\n",
      "4    0.004\n",
      "Name: chg_Ct_Ot1, dtype: float64\n",
      "0    0.0054\n",
      "1   -0.0027\n",
      "2    0.0027\n",
      "3    0.0054\n",
      "4    0.0027\n",
      "Name: chg_Ct_Ot1, dtype: float64\n",
      "0    0.0066\n",
      "1   -0.0065\n",
      "2    0.0000\n",
      "3    0.0000\n",
      "4    0.0066\n",
      "Name: chg_Ct_Ot1, dtype: float64\n",
      "0    0.0184\n",
      "1   -0.0088\n",
      "2    0.0045\n",
      "3    0.0000\n",
      "4    0.0045\n",
      "Name: chg_Ct_Ot1, dtype: float64\n"
     ]
    }
   ],
   "source": [
    "# today_close and tomorrow_open\n",
    "\n",
    "delta_m['chg_Ct_Ot1'] = round((delta_m['open'].shift(-1)-delta_m['close'])/delta_m['close'],4)\n",
    "aot_m['chg_Ct_Ot1'] = round((aot_m['open'].shift(-1)-aot_m['close'])/aot_m['close'],4)\n",
    "advanc_m['chg_Ct_Ot1'] = round((advanc_m['open'].shift(-1)-advanc_m['close'])/advanc_m['close'],4)\n",
    "ptt_m['chg_Ct_Ot1'] = round((ptt_m['open'].shift(-1)-ptt_m['close'])/ptt_m['close'],4)\n",
    "pttep_m['chg_Ct_Ot1'] = round((pttep_m['open'].shift(-1)-pttep_m['close'])/pttep_m['close'],4)\n",
    "\n",
    "print(delta_m['chg_Ct_Ot1'].head())\n",
    "print(aot_m['chg_Ct_Ot1'].head())\n",
    "print(advanc_m['chg_Ct_Ot1'].head())\n",
    "print(ptt_m['chg_Ct_Ot1'].head())\n",
    "print(pttep_m['chg_Ct_Ot1'].head())"
   ]
  },
  {
   "cell_type": "code",
   "execution_count": 19,
   "id": "161fa686",
   "metadata": {},
   "outputs": [
    {
     "name": "stdout",
     "output_type": "stream",
     "text": [
      "0       NaN\n",
      "1   -0.0071\n",
      "2   -0.0105\n",
      "3    0.0171\n",
      "4    0.0061\n",
      "Name: today_jump, dtype: float64\n",
      "0      NaN\n",
      "1    0.004\n",
      "2    0.000\n",
      "3    0.000\n",
      "4   -0.008\n",
      "Name: today_jump, dtype: float64\n",
      "0       NaN\n",
      "1    0.0054\n",
      "2   -0.0027\n",
      "3    0.0027\n",
      "4    0.0054\n",
      "Name: today_jump, dtype: float64\n",
      "0       NaN\n",
      "1    0.0066\n",
      "2   -0.0065\n",
      "3    0.0000\n",
      "4    0.0000\n",
      "Name: today_jump, dtype: float64\n",
      "0       NaN\n",
      "1    0.0184\n",
      "2   -0.0088\n",
      "3    0.0045\n",
      "4    0.0000\n",
      "Name: today_jump, dtype: float64\n"
     ]
    }
   ],
   "source": [
    "# Open jump (Today open compare with yesterday close)\n",
    "\n",
    "delta_m['today_jump'] = delta_m['chg_Ct_Ot1'].shift(1)\n",
    "aot_m['today_jump'] = aot_m['chg_Ct_Ot1'].shift(1)\n",
    "advanc_m['today_jump'] = advanc_m['chg_Ct_Ot1'].shift(1)\n",
    "ptt_m['today_jump'] = ptt_m['chg_Ct_Ot1'].shift(1)\n",
    "pttep_m['today_jump'] = pttep_m['chg_Ct_Ot1'].shift(1)\n",
    "\n",
    "print(delta_m['today_jump'].head())\n",
    "print(aot_m['today_jump'].head())\n",
    "print(advanc_m['today_jump'].head())\n",
    "print(ptt_m['today_jump'].head())\n",
    "print(pttep_m['today_jump'].head())"
   ]
  },
  {
   "cell_type": "code",
   "execution_count": 20,
   "id": "5040dcee",
   "metadata": {},
   "outputs": [
    {
     "name": "stdout",
     "output_type": "stream",
     "text": [
      "0    0.0035\n",
      "1    0.0142\n",
      "2    0.0355\n",
      "3    0.1044\n",
      "4    0.1000\n",
      "Name: chg_Ct_Ot, dtype: float64\n",
      "0    0.0040\n",
      "1    0.0119\n",
      "2    0.0000\n",
      "3   -0.0196\n",
      "4    0.0121\n",
      "Name: chg_Ct_Ot, dtype: float64\n",
      "0    0.0054\n",
      "1   -0.0081\n",
      "2    0.0245\n",
      "3   -0.0133\n",
      "4    0.0080\n",
      "Name: chg_Ct_Ot, dtype: float64\n",
      "0    0.0134\n",
      "1    0.0197\n",
      "2   -0.0065\n",
      "3   -0.0196\n",
      "4    0.0133\n",
      "Name: chg_Ct_Ot, dtype: float64\n",
      "0    0.0093\n",
      "1    0.0271\n",
      "2   -0.0089\n",
      "3   -0.0223\n",
      "4    0.0046\n",
      "Name: chg_Ct_Ot, dtype: float64\n"
     ]
    }
   ],
   "source": [
    "# today_close and today_open\n",
    "\n",
    "delta_m['chg_Ct_Ot'] = round((delta_m['close']-delta_m['open'])/delta_m['open'],4)\n",
    "aot_m['chg_Ct_Ot'] = round((aot_m['close']-aot_m['open'])/aot_m['open'],4)\n",
    "advanc_m['chg_Ct_Ot'] = round((advanc_m['close']-advanc_m['open'])/advanc_m['open'],4)\n",
    "ptt_m['chg_Ct_Ot'] = round((ptt_m['close']-ptt_m['open'])/ptt_m['open'],4)\n",
    "pttep_m['chg_Ct_Ot'] = round((pttep_m['close']-pttep_m['open'])/pttep_m['open'],4)\n",
    "\n",
    "print(delta_m['chg_Ct_Ot'].head())\n",
    "print(aot_m['chg_Ct_Ot'].head())\n",
    "print(advanc_m['chg_Ct_Ot'].head())\n",
    "print(ptt_m['chg_Ct_Ot'].head())\n",
    "print(pttep_m['chg_Ct_Ot'].head())"
   ]
  },
  {
   "cell_type": "code",
   "execution_count": 21,
   "id": "6c2eebe8",
   "metadata": {},
   "outputs": [
    {
     "name": "stdout",
     "output_type": "stream",
     "text": [
      "0    0.0071\n",
      "1    0.0246\n",
      "2    0.1233\n",
      "3    0.1067\n",
      "4    0.0055\n",
      "Name: chg_Ct_Ct1, dtype: float64\n",
      "0    0.0159\n",
      "1    0.0000\n",
      "2   -0.0196\n",
      "3    0.0040\n",
      "4    0.0120\n",
      "Name: chg_Ct_Ct1, dtype: float64\n",
      "0   -0.0027\n",
      "1    0.0217\n",
      "2   -0.0106\n",
      "3    0.0134\n",
      "4    0.0080\n",
      "Name: chg_Ct_Ct1, dtype: float64\n",
      "0    0.0265\n",
      "1   -0.0129\n",
      "2   -0.0196\n",
      "3    0.0133\n",
      "4    0.0066\n",
      "Name: chg_Ct_Ct1, dtype: float64\n",
      "0    0.0461\n",
      "1   -0.0176\n",
      "2   -0.0179\n",
      "3    0.0046\n",
      "4    0.0000\n",
      "Name: chg_Ct_Ct1, dtype: float64\n"
     ]
    }
   ],
   "source": [
    "# today_close and tomorrow_close\n",
    "\n",
    "delta_m['chg_Ct_Ct1'] = round((delta_m['close'].shift(-1)-delta_m['close'])/delta_m['close'],4)\n",
    "aot_m['chg_Ct_Ct1'] = round((aot_m['close'].shift(-1)-aot_m['close'])/aot_m['close'],4)\n",
    "advanc_m['chg_Ct_Ct1'] = round((advanc_m['close'].shift(-1)-advanc_m['close'])/advanc_m['close'],4)\n",
    "ptt_m['chg_Ct_Ct1'] = round((ptt_m['close'].shift(-1)-ptt_m['close'])/ptt_m['close'],4)\n",
    "pttep_m['chg_Ct_Ct1'] = round((pttep_m['close'].shift(-1)-pttep_m['close'])/pttep_m['close'],4)\n",
    "\n",
    "print(delta_m['chg_Ct_Ct1'].head())\n",
    "print(aot_m['chg_Ct_Ct1'].head())\n",
    "print(advanc_m['chg_Ct_Ct1'].head())\n",
    "print(ptt_m['chg_Ct_Ct1'].head())\n",
    "print(pttep_m['chg_Ct_Ct1'].head())"
   ]
  },
  {
   "cell_type": "code",
   "execution_count": 22,
   "id": "2ff84173",
   "metadata": {},
   "outputs": [
    {
     "name": "stdout",
     "output_type": "stream",
     "text": [
      "0    0.9171\n",
      "1    1.4761\n",
      "2    1.6235\n",
      "3    2.8334\n",
      "4    2.1589\n",
      "Name: comp5ma, dtype: float64\n",
      "0    0.7688\n",
      "1    1.6141\n",
      "2    1.0798\n",
      "3    1.1822\n",
      "4    0.8885\n",
      "Name: comp5ma, dtype: float64\n",
      "0    1.1520\n",
      "1    1.0328\n",
      "2    1.7150\n",
      "3    0.8518\n",
      "4    1.3150\n",
      "Name: comp5ma, dtype: float64\n",
      "0    0.7697\n",
      "1    1.1128\n",
      "2    1.2393\n",
      "3    1.0632\n",
      "4    0.6737\n",
      "Name: comp5ma, dtype: float64\n",
      "0    0.5191\n",
      "1    1.5108\n",
      "2    1.0768\n",
      "3    1.0125\n",
      "4    0.4088\n",
      "Name: comp5ma, dtype: float64\n"
     ]
    }
   ],
   "source": [
    "# compare today volumn with average 5 day volumn\n",
    "\n",
    "delta_m['comp5ma'] =  round((delta_m['Volume']/delta_m['Volume MA']),4)\n",
    "aot_m['comp5ma'] =  round((aot_m['Volume']/aot_m['Volume MA']),4)\n",
    "advanc_m['comp5ma'] =  round((advanc_m['Volume']/advanc_m['Volume MA']),4)\n",
    "ptt_m['comp5ma'] =  round((ptt_m['Volume']/ptt_m['Volume MA']),4)\n",
    "pttep_m['comp5ma'] =  round((pttep_m['Volume']/pttep_m['Volume MA']),4)\n",
    "\n",
    "print(delta_m['comp5ma'].head())\n",
    "print(aot_m['comp5ma'].head())\n",
    "print(advanc_m['comp5ma'].head())\n",
    "print(ptt_m['comp5ma'].head())\n",
    "print(pttep_m['comp5ma'].head())"
   ]
  },
  {
   "cell_type": "code",
   "execution_count": 23,
   "id": "405fb3b3",
   "metadata": {},
   "outputs": [
    {
     "name": "stdout",
     "output_type": "stream",
     "text": [
      "0       NaN\n",
      "1    0.9171\n",
      "2    1.4761\n",
      "3    1.6235\n",
      "4    2.8334\n",
      "Name: PreComp5ma, dtype: float64\n",
      "0       NaN\n",
      "1    0.7688\n",
      "2    1.6141\n",
      "3    1.0798\n",
      "4    1.1822\n",
      "Name: PreComp5ma, dtype: float64\n",
      "0       NaN\n",
      "1    1.1520\n",
      "2    1.0328\n",
      "3    1.7150\n",
      "4    0.8518\n",
      "Name: PreComp5ma, dtype: float64\n",
      "0       NaN\n",
      "1    0.7697\n",
      "2    1.1128\n",
      "3    1.2393\n",
      "4    1.0632\n",
      "Name: PreComp5ma, dtype: float64\n",
      "0       NaN\n",
      "1    0.5191\n",
      "2    1.5108\n",
      "3    1.0768\n",
      "4    1.0125\n",
      "Name: PreComp5ma, dtype: float64\n"
     ]
    }
   ],
   "source": [
    "# Previuos compare today volumn with average 5 day volumn\n",
    "\n",
    "delta_m['PreComp5ma'] =  delta_m['comp5ma'].shift(1)\n",
    "aot_m['PreComp5ma'] =  aot_m['comp5ma'].shift(1)\n",
    "advanc_m['PreComp5ma'] =  advanc_m['comp5ma'].shift(1)\n",
    "ptt_m['PreComp5ma'] =  ptt_m['comp5ma'].shift(1)\n",
    "pttep_m['PreComp5ma'] =  pttep_m['comp5ma'].shift(1)\n",
    "\n",
    "print(delta_m['PreComp5ma'].head())\n",
    "print(aot_m['PreComp5ma'].head())\n",
    "print(advanc_m['PreComp5ma'].head())\n",
    "print(ptt_m['PreComp5ma'].head())\n",
    "print(pttep_m['PreComp5ma'].head())"
   ]
  },
  {
   "cell_type": "code",
   "execution_count": 24,
   "id": "1e54b7b6",
   "metadata": {},
   "outputs": [
    {
     "name": "stdout",
     "output_type": "stream",
     "text": [
      "0    0.0249\n",
      "1    0.0360\n",
      "2    0.0461\n",
      "3    0.1186\n",
      "4    0.1254\n",
      "Name: swing, dtype: float64\n",
      "0    0.0243\n",
      "1    0.0199\n",
      "2    0.0079\n",
      "3    0.0241\n",
      "4    0.0285\n",
      "Name: swing, dtype: float64\n",
      "0    0.0137\n",
      "1    0.0163\n",
      "2    0.0327\n",
      "3    0.0188\n",
      "4    0.0214\n",
      "Name: swing, dtype: float64\n",
      "0    0.0203\n",
      "1    0.0197\n",
      "2    0.0197\n",
      "3    0.0267\n",
      "4    0.0268\n",
      "Name: swing, dtype: float64\n",
      "0    0.0235\n",
      "1    0.0364\n",
      "2    0.0180\n",
      "3    0.0228\n",
      "4    0.0138\n",
      "Name: swing, dtype: float64\n"
     ]
    }
   ],
   "source": [
    "# percent of daily swing (high - low)/low\n",
    "\n",
    "delta_m['swing'] = round(((delta_m['high']-delta_m['low'])/delta_m['low']),4)\n",
    "aot_m['swing'] = round(((aot_m['high']-aot_m['low'])/aot_m['low']),4)\n",
    "advanc_m['swing'] = round(((advanc_m['high']-advanc_m['low'])/advanc_m['low']),4)\n",
    "ptt_m['swing'] = round(((ptt_m['high']-ptt_m['low'])/ptt_m['low']),4)\n",
    "pttep_m['swing'] = round(((pttep_m['high']-pttep_m['low'])/pttep_m['low']),4)\n",
    "\n",
    "print(delta_m['swing'].head())\n",
    "print(aot_m['swing'].head())\n",
    "print(advanc_m['swing'].head())\n",
    "print(ptt_m['swing'].head())\n",
    "print(pttep_m['swing'].head())"
   ]
  },
  {
   "cell_type": "code",
   "execution_count": 25,
   "id": "eda31bba",
   "metadata": {},
   "outputs": [
    {
     "name": "stdout",
     "output_type": "stream",
     "text": [
      "0   NaN\n",
      "1   NaN\n",
      "2   NaN\n",
      "3   NaN\n",
      "4   NaN\n",
      "Name: P_chg_ATO2_ATO1, dtype: float64\n",
      "0   NaN\n",
      "1   NaN\n",
      "2   NaN\n",
      "3   NaN\n",
      "4   NaN\n",
      "Name: P_chg_ATO2_ATO1, dtype: float64\n",
      "0   NaN\n",
      "1   NaN\n",
      "2   NaN\n",
      "3   NaN\n",
      "4   NaN\n",
      "Name: P_chg_ATO2_ATO1, dtype: float64\n",
      "0   NaN\n",
      "1   NaN\n",
      "2   NaN\n",
      "3   NaN\n",
      "4   NaN\n",
      "Name: P_chg_ATO2_ATO1, dtype: float64\n",
      "0   NaN\n",
      "1   NaN\n",
      "2   NaN\n",
      "3   NaN\n",
      "4   NaN\n",
      "Name: P_chg_ATO2_ATO1, dtype: float64\n"
     ]
    }
   ],
   "source": [
    "# percent change of Price ATO2 to Price ATO1\n",
    "\n",
    "delta_m['P_chg_ATO2_ATO1'] = round(((delta_m['PriceATO2']-delta_m['PriceATO1'])/delta_m['PriceATO1']),4)\n",
    "aot_m['P_chg_ATO2_ATO1'] = round(((aot_m['PriceATO2']-aot_m['PriceATO1'])/aot_m['PriceATO1']),4)\n",
    "advanc_m['P_chg_ATO2_ATO1'] = round(((advanc_m['PriceATO2']-advanc_m['PriceATO1'])/advanc_m['PriceATO1']),4)\n",
    "ptt_m['P_chg_ATO2_ATO1'] = round(((ptt_m['PriceATO2']-ptt_m['PriceATO1'])/ptt_m['PriceATO1']),4)\n",
    "pttep_m['P_chg_ATO2_ATO1'] = round(((pttep_m['PriceATO2']-pttep_m['PriceATO1'])/pttep_m['PriceATO1']),4)\n",
    "\n",
    "print(delta_m['P_chg_ATO2_ATO1'].head())\n",
    "print(aot_m['P_chg_ATO2_ATO1'].head())\n",
    "print(advanc_m['P_chg_ATO2_ATO1'].head())\n",
    "print(ptt_m['P_chg_ATO2_ATO1'].head())\n",
    "print(pttep_m['P_chg_ATO2_ATO1'].head())"
   ]
  },
  {
   "cell_type": "code",
   "execution_count": 26,
   "id": "2849bf08",
   "metadata": {},
   "outputs": [
    {
     "name": "stdout",
     "output_type": "stream",
     "text": [
      "0    NaN\n",
      "1    NaN\n",
      "2    inf\n",
      "3    NaN\n",
      "4    NaN\n",
      "Name: P_chg_ATC_ATO2, dtype: float64\n",
      "0    NaN\n",
      "1    NaN\n",
      "2    inf\n",
      "3    NaN\n",
      "4    NaN\n",
      "Name: P_chg_ATC_ATO2, dtype: float64\n",
      "0    NaN\n",
      "1    NaN\n",
      "2    inf\n",
      "3    NaN\n",
      "4    NaN\n",
      "Name: P_chg_ATC_ATO2, dtype: float64\n",
      "0    NaN\n",
      "1    NaN\n",
      "2    inf\n",
      "3    NaN\n",
      "4    NaN\n",
      "Name: P_chg_ATC_ATO2, dtype: float64\n",
      "0    NaN\n",
      "1    NaN\n",
      "2    inf\n",
      "3    NaN\n",
      "4    NaN\n",
      "Name: P_chg_ATC_ATO2, dtype: float64\n"
     ]
    }
   ],
   "source": [
    "# percent change of Price ATC to Price ATO2\n",
    "\n",
    "delta_m['P_chg_ATC_ATO2'] = round(((delta_m['PriceATC']-delta_m['PriceATO2'])/delta_m['PriceATO2']),4)\n",
    "aot_m['P_chg_ATC_ATO2'] = round(((aot_m['PriceATC']-aot_m['PriceATO2'])/aot_m['PriceATO2']),4)\n",
    "advanc_m['P_chg_ATC_ATO2'] = round(((advanc_m['PriceATC']-advanc_m['PriceATO2'])/advanc_m['PriceATO2']),4)\n",
    "ptt_m['P_chg_ATC_ATO2'] = round(((ptt_m['PriceATC']-ptt_m['PriceATO2'])/ptt_m['PriceATO2']),4)\n",
    "pttep_m['P_chg_ATC_ATO2'] = round(((pttep_m['PriceATC']-pttep_m['PriceATO2'])/pttep_m['PriceATO2']),4)\n",
    "\n",
    "print(delta_m['P_chg_ATC_ATO2'].head())\n",
    "print(aot_m['P_chg_ATC_ATO2'].head())\n",
    "print(advanc_m['P_chg_ATC_ATO2'].head())\n",
    "print(ptt_m['P_chg_ATC_ATO2'].head())\n",
    "print(pttep_m['P_chg_ATC_ATO2'].head())"
   ]
  },
  {
   "cell_type": "code",
   "execution_count": 27,
   "id": "eb97cc8f",
   "metadata": {},
   "outputs": [
    {
     "name": "stdout",
     "output_type": "stream",
     "text": [
      "0   NaN\n",
      "1   NaN\n",
      "2   NaN\n",
      "3   NaN\n",
      "4   NaN\n",
      "Name: rt_VolATO2_VolATO1, dtype: float64\n",
      "0   NaN\n",
      "1   NaN\n",
      "2   NaN\n",
      "3   NaN\n",
      "4   NaN\n",
      "Name: rt_VolATO2_VolATO1, dtype: float64\n",
      "0   NaN\n",
      "1   NaN\n",
      "2   NaN\n",
      "3   NaN\n",
      "4   NaN\n",
      "Name: rt_VolATO2_VolATO1, dtype: float64\n",
      "0   NaN\n",
      "1   NaN\n",
      "2   NaN\n",
      "3   NaN\n",
      "4   NaN\n",
      "Name: rt_VolATO2_VolATO1, dtype: float64\n",
      "0   NaN\n",
      "1   NaN\n",
      "2   NaN\n",
      "3   NaN\n",
      "4   NaN\n",
      "Name: rt_VolATO2_VolATO1, dtype: float64\n"
     ]
    }
   ],
   "source": [
    "# ratio of Volumn ATO afternoon to Volumn ATO morning\n",
    "\n",
    "delta_m['rt_VolATO2_VolATO1'] = round((delta_m['VolATO2']/delta_m['VolATO1']),4)\n",
    "aot_m['rt_VolATO2_VolATO1'] = round((aot_m['VolATO2']/aot_m['VolATO1']),4)\n",
    "advanc_m['rt_VolATO2_VolATO1'] = round((advanc_m['VolATO2']/advanc_m['VolATO1']),4)\n",
    "ptt_m['rt_VolATO2_VolATO1'] = round((ptt_m['VolATO2']/ptt_m['VolATO1']),4)\n",
    "pttep_m['rt_VolATO2_VolATO1'] = round((pttep_m['VolATO2']/pttep_m['VolATO1']),4)\n",
    "\n",
    "print(delta_m['rt_VolATO2_VolATO1'].head())\n",
    "print(aot_m['rt_VolATO2_VolATO1'].head())\n",
    "print(advanc_m['rt_VolATO2_VolATO1'].head())\n",
    "print(ptt_m['rt_VolATO2_VolATO1'].head())\n",
    "print(pttep_m['rt_VolATO2_VolATO1'].head())"
   ]
  },
  {
   "cell_type": "code",
   "execution_count": 28,
   "id": "74b1c567",
   "metadata": {},
   "outputs": [
    {
     "name": "stdout",
     "output_type": "stream",
     "text": [
      "0    NaN\n",
      "1    NaN\n",
      "2    0.0\n",
      "3    NaN\n",
      "4    NaN\n",
      "Name: rt_VolATO1_PreVol, dtype: float64\n",
      "0    NaN\n",
      "1    NaN\n",
      "2    0.0\n",
      "3    NaN\n",
      "4    NaN\n",
      "Name: rt_VolATO1_PreVol, dtype: float64\n",
      "0    NaN\n",
      "1    NaN\n",
      "2    0.0\n",
      "3    NaN\n",
      "4    NaN\n",
      "Name: rt_VolATO1_PreVol, dtype: float64\n",
      "0    NaN\n",
      "1    NaN\n",
      "2    0.0\n",
      "3    NaN\n",
      "4    NaN\n",
      "Name: rt_VolATO1_PreVol, dtype: float64\n",
      "0    NaN\n",
      "1    NaN\n",
      "2    0.0\n",
      "3    NaN\n",
      "4    NaN\n",
      "Name: rt_VolATO1_PreVol, dtype: float64\n"
     ]
    }
   ],
   "source": [
    "# ratio of Volumn ATO morning and previous day volumn\n",
    "\n",
    "delta_m['rt_VolATO1_PreVol'] = round((delta_m['VolATO1']/delta_m['Volume'].shift(1)),4)\n",
    "aot_m['rt_VolATO1_PreVol'] = round((aot_m['VolATO1']/aot_m['Volume'].shift(1)),4)\n",
    "advanc_m['rt_VolATO1_PreVol'] = round((advanc_m['VolATO1']/advanc_m['Volume'].shift(1)),4)\n",
    "ptt_m['rt_VolATO1_PreVol'] = round((ptt_m['VolATO1']/ptt_m['Volume'].shift(1)),4)\n",
    "pttep_m['rt_VolATO1_PreVol'] = round((pttep_m['VolATO1']/pttep_m['Volume'].shift(1)),4)\n",
    "\n",
    "print(delta_m['rt_VolATO1_PreVol'].head())\n",
    "print(aot_m['rt_VolATO1_PreVol'].head())\n",
    "print(advanc_m['rt_VolATO1_PreVol'].head())\n",
    "print(ptt_m['rt_VolATO1_PreVol'].head())\n",
    "print(pttep_m['rt_VolATO1_PreVol'].head())"
   ]
  },
  {
   "cell_type": "code",
   "execution_count": 29,
   "id": "81d0e7cc",
   "metadata": {},
   "outputs": [
    {
     "name": "stdout",
     "output_type": "stream",
     "text": [
      "0    NaN\n",
      "1    NaN\n",
      "2    inf\n",
      "3    NaN\n",
      "4    NaN\n",
      "Name: rt_VolATC_VolATO2, dtype: float64\n",
      "0    NaN\n",
      "1    NaN\n",
      "2    inf\n",
      "3    NaN\n",
      "4    NaN\n",
      "Name: rt_VolATC_VolATO2, dtype: float64\n",
      "0    NaN\n",
      "1    NaN\n",
      "2    inf\n",
      "3    NaN\n",
      "4    NaN\n",
      "Name: rt_VolATC_VolATO2, dtype: float64\n",
      "0    NaN\n",
      "1    NaN\n",
      "2    inf\n",
      "3    NaN\n",
      "4    NaN\n",
      "Name: rt_VolATC_VolATO2, dtype: float64\n",
      "0    NaN\n",
      "1    NaN\n",
      "2    inf\n",
      "3    NaN\n",
      "4    NaN\n",
      "Name: rt_VolATC_VolATO2, dtype: float64\n"
     ]
    }
   ],
   "source": [
    "# ratio of Volumn ATC to Volumn ATO afternoon\n",
    "\n",
    "delta_m['rt_VolATC_VolATO2'] = round((delta_m['VolATC']/delta_m['VolATO2']),4)\n",
    "aot_m['rt_VolATC_VolATO2'] = round((aot_m['VolATC']/aot_m['VolATO2']),4)\n",
    "advanc_m['rt_VolATC_VolATO2'] = round((advanc_m['VolATC']/advanc_m['VolATO2']),4)\n",
    "ptt_m['rt_VolATC_VolATO2'] = round((ptt_m['VolATC']/ptt_m['VolATO2']),4)\n",
    "pttep_m['rt_VolATC_VolATO2'] = round((pttep_m['VolATC']/pttep_m['VolATO2']),4)\n",
    "\n",
    "print(delta_m['rt_VolATC_VolATO2'].head())\n",
    "print(aot_m['rt_VolATC_VolATO2'].head())\n",
    "print(advanc_m['rt_VolATC_VolATO2'].head())\n",
    "print(ptt_m['rt_VolATC_VolATO2'].head())\n",
    "print(pttep_m['rt_VolATC_VolATO2'].head())"
   ]
  },
  {
   "cell_type": "markdown",
   "id": "ea7004ad",
   "metadata": {},
   "source": [
    "## Stack data set"
   ]
  },
  {
   "cell_type": "code",
   "execution_count": 30,
   "id": "393be1fe",
   "metadata": {},
   "outputs": [
    {
     "name": "stdout",
     "output_type": "stream",
     "text": [
      "<class 'pandas.core.frame.DataFrame'>\n",
      "Int64Index: 2034 entries, 0 to 407\n",
      "Data columns (total 36 columns):\n",
      " #   Column              Non-Null Count  Dtype         \n",
      "---  ------              --------------  -----         \n",
      " 0   open                2034 non-null   float64       \n",
      " 1   high                2034 non-null   float64       \n",
      " 2   low                 2034 non-null   float64       \n",
      " 3   close               2034 non-null   float64       \n",
      " 4   Volume              2034 non-null   int64         \n",
      " 5   Volume MA           2034 non-null   float64       \n",
      " 6   Date                2034 non-null   datetime64[ns]\n",
      " 7   Symbol              2034 non-null   object        \n",
      " 8   _id                 1939 non-null   float64       \n",
      " 9   VolATO1             1939 non-null   float64       \n",
      " 10  PriceATO1           1939 non-null   float64       \n",
      " 11  Close(T_1)          1939 non-null   float64       \n",
      " 12  VolATO2             1939 non-null   float64       \n",
      " 13  PriceATO2           1939 non-null   float64       \n",
      " 14  Price12_30          1939 non-null   float64       \n",
      " 15  VolATC              1939 non-null   float64       \n",
      " 16  PriceATC            1939 non-null   float64       \n",
      " 17  Price16_30          1939 non-null   float64       \n",
      " 18  PercentChgSS1       1939 non-null   float64       \n",
      " 19  ValueSS1            1939 non-null   float64       \n",
      " 20  PercentChgSS2       1939 non-null   float64       \n",
      " 21  ValueSS2            1939 non-null   float64       \n",
      " 22  PercentChgATC       1939 non-null   float64       \n",
      " 23  ValueATC            1939 non-null   float64       \n",
      " 24  chg_Ct_Ot1          2029 non-null   float64       \n",
      " 25  today_jump          2029 non-null   float64       \n",
      " 26  chg_Ct_Ot           2034 non-null   float64       \n",
      " 27  chg_Ct_Ct1          2029 non-null   float64       \n",
      " 28  comp5ma             2034 non-null   float64       \n",
      " 29  PreComp5ma          2029 non-null   float64       \n",
      " 30  swing               2034 non-null   float64       \n",
      " 31  P_chg_ATO2_ATO1     1870 non-null   float64       \n",
      " 32  P_chg_ATC_ATO2      1922 non-null   float64       \n",
      " 33  rt_VolATO2_VolATO1  1870 non-null   float64       \n",
      " 34  rt_VolATO1_PreVol   1939 non-null   float64       \n",
      " 35  rt_VolATC_VolATO2   1922 non-null   float64       \n",
      "dtypes: datetime64[ns](1), float64(33), int64(1), object(1)\n",
      "memory usage: 588.0+ KB\n"
     ]
    }
   ],
   "source": [
    "stacked = pd.concat([delta_m,aot_m,advanc_m,ptt_m,pttep_m],axis=0)\n",
    "stacked.info()"
   ]
  },
  {
   "cell_type": "markdown",
   "id": "ba9be4f4",
   "metadata": {},
   "source": [
    "### Prepare data"
   ]
  },
  {
   "cell_type": "code",
   "execution_count": 39,
   "id": "f75938eb",
   "metadata": {},
   "outputs": [
    {
     "name": "stdout",
     "output_type": "stream",
     "text": [
      "<class 'pandas.core.frame.DataFrame'>\n",
      "Int64Index: 1827 entries, 5 to 403\n",
      "Data columns (total 36 columns):\n",
      " #   Column              Non-Null Count  Dtype         \n",
      "---  ------              --------------  -----         \n",
      " 0   open                1827 non-null   float64       \n",
      " 1   high                1827 non-null   float64       \n",
      " 2   low                 1827 non-null   float64       \n",
      " 3   close               1827 non-null   float64       \n",
      " 4   Volume              1827 non-null   int64         \n",
      " 5   Volume MA           1827 non-null   float64       \n",
      " 6   Date                1827 non-null   datetime64[ns]\n",
      " 7   Symbol              1827 non-null   object        \n",
      " 8   _id                 1827 non-null   float64       \n",
      " 9   VolATO1             1827 non-null   float64       \n",
      " 10  PriceATO1           1827 non-null   float64       \n",
      " 11  Close(T_1)          1827 non-null   float64       \n",
      " 12  VolATO2             1827 non-null   float64       \n",
      " 13  PriceATO2           1827 non-null   float64       \n",
      " 14  Price12_30          1827 non-null   float64       \n",
      " 15  VolATC              1827 non-null   float64       \n",
      " 16  PriceATC            1827 non-null   float64       \n",
      " 17  Price16_30          1827 non-null   float64       \n",
      " 18  PercentChgSS1       1827 non-null   float64       \n",
      " 19  ValueSS1            1827 non-null   float64       \n",
      " 20  PercentChgSS2       1827 non-null   float64       \n",
      " 21  ValueSS2            1827 non-null   float64       \n",
      " 22  PercentChgATC       1827 non-null   float64       \n",
      " 23  ValueATC            1827 non-null   float64       \n",
      " 24  chg_Ct_Ot1          1827 non-null   float64       \n",
      " 25  today_jump          1827 non-null   float64       \n",
      " 26  chg_Ct_Ot           1827 non-null   float64       \n",
      " 27  chg_Ct_Ct1          1827 non-null   float64       \n",
      " 28  comp5ma             1827 non-null   float64       \n",
      " 29  PreComp5ma          1827 non-null   float64       \n",
      " 30  swing               1827 non-null   float64       \n",
      " 31  P_chg_ATO2_ATO1     1827 non-null   float64       \n",
      " 32  P_chg_ATC_ATO2      1827 non-null   float64       \n",
      " 33  rt_VolATO2_VolATO1  1827 non-null   float64       \n",
      " 34  rt_VolATO1_PreVol   1827 non-null   float64       \n",
      " 35  rt_VolATC_VolATO2   1827 non-null   float64       \n",
      "dtypes: datetime64[ns](1), float64(33), int64(1), object(1)\n",
      "memory usage: 528.1+ KB\n"
     ]
    }
   ],
   "source": [
    "# drop na\n",
    "import numpy as np\n",
    "\n",
    "# replace Infinity values with NaN values\n",
    "clean_stacked = stacked.replace([np.inf, -np.inf], np.nan)\n",
    "\n",
    "# drop rows containing NaN values\n",
    "clean_stacked = clean_stacked.dropna(axis=0, how='any')\n",
    "clean_stacked.info()"
   ]
  },
  {
   "cell_type": "code",
   "execution_count": 41,
   "id": "ff2ba3db",
   "metadata": {},
   "outputs": [
    {
     "name": "stdout",
     "output_type": "stream",
     "text": [
      "<class 'pandas.core.frame.DataFrame'>\n",
      "Int64Index: 1827 entries, 5 to 403\n",
      "Data columns (total 19 columns):\n",
      " #   Column              Non-Null Count  Dtype  \n",
      "---  ------              --------------  -----  \n",
      " 0   Volume              1827 non-null   int64  \n",
      " 1   Symbol              1827 non-null   object \n",
      " 2   VolATO1             1827 non-null   float64\n",
      " 3   VolATO2             1827 non-null   float64\n",
      " 4   VolATC              1827 non-null   float64\n",
      " 5   PercentChgATC       1827 non-null   float64\n",
      " 6   ValueATC            1827 non-null   float64\n",
      " 7   chg_Ct_Ot1          1827 non-null   float64\n",
      " 8   today_jump          1827 non-null   float64\n",
      " 9   chg_Ct_Ot           1827 non-null   float64\n",
      " 10  chg_Ct_Ct1          1827 non-null   float64\n",
      " 11  comp5ma             1827 non-null   float64\n",
      " 12  PreComp5ma          1827 non-null   float64\n",
      " 13  swing               1827 non-null   float64\n",
      " 14  P_chg_ATO2_ATO1     1827 non-null   float64\n",
      " 15  P_chg_ATC_ATO2      1827 non-null   float64\n",
      " 16  rt_VolATO2_VolATO1  1827 non-null   float64\n",
      " 17  rt_VolATO1_PreVol   1827 non-null   float64\n",
      " 18  rt_VolATC_VolATO2   1827 non-null   float64\n",
      "dtypes: float64(17), int64(1), object(1)\n",
      "memory usage: 285.5+ KB\n"
     ]
    }
   ],
   "source": [
    "# drop unecessary column\n",
    "\n",
    "clean_stacked = clean_stacked.drop(['open','high','low','close','Volume MA','Date','_id','PriceATO1','Close(T_1)','PriceATO2',\n",
    "                                    'Price12_30','PriceATC','Price16_30','PercentChgSS1','ValueSS1','PercentChgSS2',\n",
    "                                   'ValueSS2'],axis=1)\n",
    "        \n",
    "clean_stacked.info()"
   ]
  },
  {
   "cell_type": "code",
   "execution_count": 42,
   "id": "d7a3c4dc",
   "metadata": {},
   "outputs": [
    {
     "data": {
      "text/html": [
       "<div>\n",
       "<style scoped>\n",
       "    .dataframe tbody tr th:only-of-type {\n",
       "        vertical-align: middle;\n",
       "    }\n",
       "\n",
       "    .dataframe tbody tr th {\n",
       "        vertical-align: top;\n",
       "    }\n",
       "\n",
       "    .dataframe thead th {\n",
       "        text-align: right;\n",
       "    }\n",
       "</style>\n",
       "<table border=\"1\" class=\"dataframe\">\n",
       "  <thead>\n",
       "    <tr style=\"text-align: right;\">\n",
       "      <th></th>\n",
       "      <th>Volume</th>\n",
       "      <th>Symbol</th>\n",
       "      <th>VolATO1</th>\n",
       "      <th>VolATO2</th>\n",
       "      <th>VolATC</th>\n",
       "      <th>PercentChgATC</th>\n",
       "      <th>ValueATC</th>\n",
       "      <th>chg_Ct_Ot1</th>\n",
       "      <th>today_jump</th>\n",
       "      <th>chg_Ct_Ot</th>\n",
       "      <th>chg_Ct_Ct1</th>\n",
       "      <th>comp5ma</th>\n",
       "      <th>PreComp5ma</th>\n",
       "      <th>swing</th>\n",
       "      <th>P_chg_ATO2_ATO1</th>\n",
       "      <th>P_chg_ATC_ATO2</th>\n",
       "      <th>rt_VolATO2_VolATO1</th>\n",
       "      <th>rt_VolATO1_PreVol</th>\n",
       "      <th>rt_VolATC_VolATO2</th>\n",
       "    </tr>\n",
       "  </thead>\n",
       "  <tbody>\n",
       "    <tr>\n",
       "      <th>5</th>\n",
       "      <td>4578400</td>\n",
       "      <td>DELTA</td>\n",
       "      <td>68500.0</td>\n",
       "      <td>15100.0</td>\n",
       "      <td>288600.0</td>\n",
       "      <td>0.55</td>\n",
       "      <td>210678000.0</td>\n",
       "      <td>0.0137</td>\n",
       "      <td>0.0275</td>\n",
       "      <td>-0.0214</td>\n",
       "      <td>0.0466</td>\n",
       "      <td>0.9872</td>\n",
       "      <td>2.1589</td>\n",
       "      <td>0.0912</td>\n",
       "      <td>-0.0027</td>\n",
       "      <td>-0.0188</td>\n",
       "      <td>0.2204</td>\n",
       "      <td>0.0082</td>\n",
       "      <td>19.1126</td>\n",
       "    </tr>\n",
       "    <tr>\n",
       "      <th>8</th>\n",
       "      <td>2553000</td>\n",
       "      <td>DELTA</td>\n",
       "      <td>18800.0</td>\n",
       "      <td>24400.0</td>\n",
       "      <td>500.0</td>\n",
       "      <td>0.53</td>\n",
       "      <td>382000.0</td>\n",
       "      <td>-0.0104</td>\n",
       "      <td>-0.0027</td>\n",
       "      <td>0.0378</td>\n",
       "      <td>-0.0312</td>\n",
       "      <td>0.6160</td>\n",
       "      <td>0.4331</td>\n",
       "      <td>0.0488</td>\n",
       "      <td>0.0243</td>\n",
       "      <td>0.0079</td>\n",
       "      <td>1.2979</td>\n",
       "      <td>0.0087</td>\n",
       "      <td>0.0205</td>\n",
       "    </tr>\n",
       "    <tr>\n",
       "      <th>9</th>\n",
       "      <td>1959800</td>\n",
       "      <td>DELTA</td>\n",
       "      <td>40200.0</td>\n",
       "      <td>6100.0</td>\n",
       "      <td>109700.0</td>\n",
       "      <td>-0.53</td>\n",
       "      <td>81616800.0</td>\n",
       "      <td>0.0242</td>\n",
       "      <td>-0.0104</td>\n",
       "      <td>-0.0211</td>\n",
       "      <td>0.0215</td>\n",
       "      <td>0.6855</td>\n",
       "      <td>0.6160</td>\n",
       "      <td>0.0430</td>\n",
       "      <td>-0.0053</td>\n",
       "      <td>-0.0159</td>\n",
       "      <td>0.1517</td>\n",
       "      <td>0.0157</td>\n",
       "      <td>17.9836</td>\n",
       "    </tr>\n",
       "    <tr>\n",
       "      <th>10</th>\n",
       "      <td>1560900</td>\n",
       "      <td>DELTA</td>\n",
       "      <td>38600.0</td>\n",
       "      <td>16100.0</td>\n",
       "      <td>123300.0</td>\n",
       "      <td>0.00</td>\n",
       "      <td>93708000.0</td>\n",
       "      <td>-0.0053</td>\n",
       "      <td>0.0242</td>\n",
       "      <td>-0.0026</td>\n",
       "      <td>-0.1421</td>\n",
       "      <td>0.6921</td>\n",
       "      <td>0.6855</td>\n",
       "      <td>0.0293</td>\n",
       "      <td>0.0079</td>\n",
       "      <td>-0.0104</td>\n",
       "      <td>0.4171</td>\n",
       "      <td>0.0197</td>\n",
       "      <td>7.6584</td>\n",
       "    </tr>\n",
       "    <tr>\n",
       "      <th>16</th>\n",
       "      <td>2686800</td>\n",
       "      <td>DELTA</td>\n",
       "      <td>69600.0</td>\n",
       "      <td>15000.0</td>\n",
       "      <td>213000.0</td>\n",
       "      <td>0.00</td>\n",
       "      <td>118428000.0</td>\n",
       "      <td>-0.0072</td>\n",
       "      <td>0.0071</td>\n",
       "      <td>-0.0246</td>\n",
       "      <td>-0.1043</td>\n",
       "      <td>0.5568</td>\n",
       "      <td>0.9726</td>\n",
       "      <td>0.0325</td>\n",
       "      <td>-0.0175</td>\n",
       "      <td>-0.0071</td>\n",
       "      <td>0.2155</td>\n",
       "      <td>0.0141</td>\n",
       "      <td>14.2000</td>\n",
       "    </tr>\n",
       "  </tbody>\n",
       "</table>\n",
       "</div>"
      ],
      "text/plain": [
       "     Volume Symbol  VolATO1  VolATO2    VolATC  PercentChgATC     ValueATC  \\\n",
       "5   4578400  DELTA  68500.0  15100.0  288600.0           0.55  210678000.0   \n",
       "8   2553000  DELTA  18800.0  24400.0     500.0           0.53     382000.0   \n",
       "9   1959800  DELTA  40200.0   6100.0  109700.0          -0.53   81616800.0   \n",
       "10  1560900  DELTA  38600.0  16100.0  123300.0           0.00   93708000.0   \n",
       "16  2686800  DELTA  69600.0  15000.0  213000.0           0.00  118428000.0   \n",
       "\n",
       "    chg_Ct_Ot1  today_jump  chg_Ct_Ot  chg_Ct_Ct1  comp5ma  PreComp5ma  \\\n",
       "5       0.0137      0.0275    -0.0214      0.0466   0.9872      2.1589   \n",
       "8      -0.0104     -0.0027     0.0378     -0.0312   0.6160      0.4331   \n",
       "9       0.0242     -0.0104    -0.0211      0.0215   0.6855      0.6160   \n",
       "10     -0.0053      0.0242    -0.0026     -0.1421   0.6921      0.6855   \n",
       "16     -0.0072      0.0071    -0.0246     -0.1043   0.5568      0.9726   \n",
       "\n",
       "     swing  P_chg_ATO2_ATO1  P_chg_ATC_ATO2  rt_VolATO2_VolATO1  \\\n",
       "5   0.0912          -0.0027         -0.0188              0.2204   \n",
       "8   0.0488           0.0243          0.0079              1.2979   \n",
       "9   0.0430          -0.0053         -0.0159              0.1517   \n",
       "10  0.0293           0.0079         -0.0104              0.4171   \n",
       "16  0.0325          -0.0175         -0.0071              0.2155   \n",
       "\n",
       "    rt_VolATO1_PreVol  rt_VolATC_VolATO2  \n",
       "5              0.0082            19.1126  \n",
       "8              0.0087             0.0205  \n",
       "9              0.0157            17.9836  \n",
       "10             0.0197             7.6584  \n",
       "16             0.0141            14.2000  "
      ]
     },
     "execution_count": 42,
     "metadata": {},
     "output_type": "execute_result"
    }
   ],
   "source": [
    "clean_stacked.head()"
   ]
  },
  {
   "cell_type": "markdown",
   "id": "8366a39f",
   "metadata": {},
   "source": [
    "### Parameter\n",
    "\n",
    "- `Volume` : Today trading volumn \n",
    "- `Symbol` : Stock symbol\n",
    "- `VolATO1` : Today Morning Opening volumn \n",
    "- `VolATO2` : Afternoon Opening volumn \n",
    "- `VolATC` : At the close volumn \n",
    "- `PercentChgATC` : Percent Change of ATC price from 16:30PM price \n",
    "- `ValueATC` : Value of ATC = Yes , we pretty know before closing day \n",
    "- `chg_Ct_Ot1` : Percent change between today closing price and tomorow opening price \n",
    "- `chg_Ct_Ot` : Percent change between today closing price and today opening price \n",
    "- `chg_Ct_Ct1` : Percent change between today closing price and tomorow closing price \n",
    "- `today_jump` : Percent change between today morning opening price and yesterday closing price \n",
    "- `comp5ma` : Ratio of today volumn and average 5 day volumn \n",
    "- `PreComp5ma` : Ratio of previous volumn and average 5 day volumn \n",
    "- `swing` : Percent swing of daily swing (high - low)/low \n",
    "- `rt_VolATO1_PreVol` : Ratio of today opening volmn in the morning and previos day volumn \n",
    "- `P_chg_ATO2_ATO1` : Percent change between Afternoon price from Morning price \n",
    "- `rt_VolATO2_VolATO1` : Ratio of Afternoon opening volumn and Morning opening volumn \n",
    "- `rt_VolATC_VolATO2` : Ratio of Closing volumn and Afternoon opening volumn  \n",
    "- `P_chg_ATC_ATO2` : Percent change between Closing price and Afternoon opening price "
   ]
  },
  {
   "cell_type": "markdown",
   "id": "1080c591",
   "metadata": {},
   "source": [
    "## Machine learning"
   ]
  },
  {
   "cell_type": "markdown",
   "id": "cf4cbf73",
   "metadata": {},
   "source": [
    "### Idea : Can we make a profit with \"Buy today close price then Sold tomorrow open price\"\n",
    "\n",
    "- `Volume` : Today trading volumn = Yes , we pretty know before closing day \n",
    "- `Symbol` : Stock symbol = **No, we don't**\n",
    "- `VolATO1` : Today Morning Opening volumn = Yes, we can know  \n",
    "- `VolATO2` : Afternoon Opening volumn = Yes, we can know\n",
    "- `VolATC` : At the close volumn = Yes , we pretty know before closing day \n",
    "- `PercentChgATC` : Percent Change of ATC price from 16:30PM price = Yes , we pretty know before closing day\n",
    "- `ValueATC` : Value of ATC = Yes , we pretty know before closing day \n",
    "- `chg_Ct_Ot1` : Percent change between today closing price and tomorow opening price = This is **Target**\n",
    "- `chg_Ct_Ot` : Percent change between today closing price and today opening price = Yes , we pretty know before closing day\n",
    "- `chg_Ct_Ct1` : Percent change between today closing price and tomorow closing price = **No, we can't**\n",
    "- `today_jump` : Percent change between today morning opening price and yesterday closing price = Yes, we can know\n",
    "- `comp5ma` : Ratio of today volumn and average 5 day volumn = Yes , we pretty know before closing day\n",
    "- `PreComp5ma` : Ratio of previous volumn and average 5 day volumn = Yes, we can know\n",
    "- `swing` : Percent swing of daily swing (high - low)/low = Yes, we can know\n",
    "- `rt_VolATO1_PreVol` : Ratio of today opening volmn in the morning and previos day volumn = Yes, we can know\n",
    "- `P_chg_ATO2_ATO1` : Percent change between Afternoon price from Morning price = Yes, we can know\n",
    "- `rt_VolATO2_VolATO1` : Ratio of Afternoon opening volumn and Morning opening volumn = Yes, we can know\n",
    "- `rt_VolATC_VolATO2` : Ratio of Closing volumn and Afternoon opening volumn  = Yes , we pretty know before closing day\n",
    "- `P_chg_ATC_ATO2` : Percent change between Closing price and Afternoon opening price = Yes , we pretty know before closing day"
   ]
  },
  {
   "cell_type": "code",
   "execution_count": 43,
   "id": "6437740b",
   "metadata": {},
   "outputs": [],
   "source": [
    "# Import library\n",
    "\n",
    "from sklearn.model_selection import train_test_split\n",
    "from sklearn.metrics import mean_squared_error\n",
    "from sklearn.metrics import confusion_matrix\n",
    "from sklearn.metrics import accuracy_score, precision_score, recall_score, f1_score\n",
    "\n",
    "from sklearn.linear_model import LinearRegression\n",
    "from sklearn.linear_model import LogisticRegression\n",
    "from sklearn.linear_model import Ridge\n",
    "from sklearn.linear_model import Lasso\n",
    "from sklearn.linear_model import ElasticNet"
   ]
  },
  {
   "cell_type": "code",
   "execution_count": 44,
   "id": "55f3609a",
   "metadata": {},
   "outputs": [
    {
     "name": "stdout",
     "output_type": "stream",
     "text": [
      "(1827, 16)\n",
      "(1827,)\n"
     ]
    }
   ],
   "source": [
    "# X = feature variables, y = a target variable\n",
    "\n",
    "X = clean_stacked.drop([\"chg_Ct_Ot1\",\"chg_Ct_Ct1\",\"Symbol\"], axis=1)\n",
    "y = clean_stacked['chg_Ct_Ot1']\n",
    "\n",
    "print(X.shape)\n",
    "print(y.shape)"
   ]
  },
  {
   "cell_type": "code",
   "execution_count": 45,
   "id": "9fe0c9f4",
   "metadata": {},
   "outputs": [
    {
     "name": "stdout",
     "output_type": "stream",
     "text": [
      "X_train: (1461, 16)\n",
      "y_train: (1461,)\n",
      "X_test:  (366, 16)\n",
      "y_test:  (366,)\n"
     ]
    }
   ],
   "source": [
    "# split data 80% for train data set\n",
    "X_train, X_test, y_train, y_test = train_test_split(X, y, test_size = 0.2, random_state = 42)\n",
    "\n",
    "print(f\"X_train: {X_train.shape}\")\n",
    "print(f\"y_train: {y_train.shape}\")\n",
    "print(f\"X_test:  {X_test.shape}\")\n",
    "print(f\"y_test:  {y_test.shape}\")"
   ]
  },
  {
   "cell_type": "markdown",
   "id": "93d14fdb",
   "metadata": {},
   "source": [
    "### Model fitting"
   ]
  },
  {
   "cell_type": "code",
   "execution_count": 46,
   "id": "45b307eb",
   "metadata": {},
   "outputs": [
    {
     "name": "stderr",
     "output_type": "stream",
     "text": [
      "C:\\Users\\USER\\anaconda3\\lib\\site-packages\\sklearn\\linear_model\\_ridge.py:216: LinAlgWarning: Ill-conditioned matrix (rcond=2.82477e-22): result may not be accurate.\n",
      "  return linalg.solve(A, Xy, assume_a=\"pos\", overwrite_a=True).T\n"
     ]
    },
    {
     "data": {
      "text/html": [
       "<style>#sk-container-id-1 {color: black;background-color: white;}#sk-container-id-1 pre{padding: 0;}#sk-container-id-1 div.sk-toggleable {background-color: white;}#sk-container-id-1 label.sk-toggleable__label {cursor: pointer;display: block;width: 100%;margin-bottom: 0;padding: 0.3em;box-sizing: border-box;text-align: center;}#sk-container-id-1 label.sk-toggleable__label-arrow:before {content: \"▸\";float: left;margin-right: 0.25em;color: #696969;}#sk-container-id-1 label.sk-toggleable__label-arrow:hover:before {color: black;}#sk-container-id-1 div.sk-estimator:hover label.sk-toggleable__label-arrow:before {color: black;}#sk-container-id-1 div.sk-toggleable__content {max-height: 0;max-width: 0;overflow: hidden;text-align: left;background-color: #f0f8ff;}#sk-container-id-1 div.sk-toggleable__content pre {margin: 0.2em;color: black;border-radius: 0.25em;background-color: #f0f8ff;}#sk-container-id-1 input.sk-toggleable__control:checked~div.sk-toggleable__content {max-height: 200px;max-width: 100%;overflow: auto;}#sk-container-id-1 input.sk-toggleable__control:checked~label.sk-toggleable__label-arrow:before {content: \"▾\";}#sk-container-id-1 div.sk-estimator input.sk-toggleable__control:checked~label.sk-toggleable__label {background-color: #d4ebff;}#sk-container-id-1 div.sk-label input.sk-toggleable__control:checked~label.sk-toggleable__label {background-color: #d4ebff;}#sk-container-id-1 input.sk-hidden--visually {border: 0;clip: rect(1px 1px 1px 1px);clip: rect(1px, 1px, 1px, 1px);height: 1px;margin: -1px;overflow: hidden;padding: 0;position: absolute;width: 1px;}#sk-container-id-1 div.sk-estimator {font-family: monospace;background-color: #f0f8ff;border: 1px dotted black;border-radius: 0.25em;box-sizing: border-box;margin-bottom: 0.5em;}#sk-container-id-1 div.sk-estimator:hover {background-color: #d4ebff;}#sk-container-id-1 div.sk-parallel-item::after {content: \"\";width: 100%;border-bottom: 1px solid gray;flex-grow: 1;}#sk-container-id-1 div.sk-label:hover label.sk-toggleable__label {background-color: #d4ebff;}#sk-container-id-1 div.sk-serial::before {content: \"\";position: absolute;border-left: 1px solid gray;box-sizing: border-box;top: 0;bottom: 0;left: 50%;z-index: 0;}#sk-container-id-1 div.sk-serial {display: flex;flex-direction: column;align-items: center;background-color: white;padding-right: 0.2em;padding-left: 0.2em;position: relative;}#sk-container-id-1 div.sk-item {position: relative;z-index: 1;}#sk-container-id-1 div.sk-parallel {display: flex;align-items: stretch;justify-content: center;background-color: white;position: relative;}#sk-container-id-1 div.sk-item::before, #sk-container-id-1 div.sk-parallel-item::before {content: \"\";position: absolute;border-left: 1px solid gray;box-sizing: border-box;top: 0;bottom: 0;left: 50%;z-index: -1;}#sk-container-id-1 div.sk-parallel-item {display: flex;flex-direction: column;z-index: 1;position: relative;background-color: white;}#sk-container-id-1 div.sk-parallel-item:first-child::after {align-self: flex-end;width: 50%;}#sk-container-id-1 div.sk-parallel-item:last-child::after {align-self: flex-start;width: 50%;}#sk-container-id-1 div.sk-parallel-item:only-child::after {width: 0;}#sk-container-id-1 div.sk-dashed-wrapped {border: 1px dashed gray;margin: 0 0.4em 0.5em 0.4em;box-sizing: border-box;padding-bottom: 0.4em;background-color: white;}#sk-container-id-1 div.sk-label label {font-family: monospace;font-weight: bold;display: inline-block;line-height: 1.2em;}#sk-container-id-1 div.sk-label-container {text-align: center;}#sk-container-id-1 div.sk-container {/* jupyter's `normalize.less` sets `[hidden] { display: none; }` but bootstrap.min.css set `[hidden] { display: none !important; }` so we also need the `!important` here to be able to override the default hidden behavior on the sphinx rendered scikit-learn.org. See: https://github.com/scikit-learn/scikit-learn/issues/21755 */display: inline-block !important;position: relative;}#sk-container-id-1 div.sk-text-repr-fallback {display: none;}</style><div id=\"sk-container-id-1\" class=\"sk-top-container\"><div class=\"sk-text-repr-fallback\"><pre>ElasticNet(alpha=0.01)</pre><b>In a Jupyter environment, please rerun this cell to show the HTML representation or trust the notebook. <br />On GitHub, the HTML representation is unable to render, please try loading this page with nbviewer.org.</b></div><div class=\"sk-container\" hidden><div class=\"sk-item\"><div class=\"sk-estimator sk-toggleable\"><input class=\"sk-toggleable__control sk-hidden--visually\" id=\"sk-estimator-id-1\" type=\"checkbox\" checked><label for=\"sk-estimator-id-1\" class=\"sk-toggleable__label sk-toggleable__label-arrow\">ElasticNet</label><div class=\"sk-toggleable__content\"><pre>ElasticNet(alpha=0.01)</pre></div></div></div></div></div>"
      ],
      "text/plain": [
       "ElasticNet(alpha=0.01)"
      ]
     },
     "execution_count": 46,
     "metadata": {},
     "output_type": "execute_result"
    }
   ],
   "source": [
    "# Model fitting\n",
    "\n",
    "# Linear regression\n",
    "li_model = LinearRegression()\n",
    "li_model.fit(X_train, y_train)\n",
    "\n",
    "# Logistic regression\n",
    "logis_model = LinearRegression()\n",
    "logis_model.fit(X_train, y_train)\n",
    "\n",
    "# Ridge Regression\n",
    "ridge_model = Ridge(alpha=0.01)\n",
    "ridge_model.fit(X_train, y_train)\n",
    "\n",
    "# Lasso Regression\n",
    "lasso_model = Lasso(alpha=0.01)\n",
    "lasso_model.fit(X_train, y_train)\n",
    "\n",
    "# ElasticNet Regression\n",
    "enet_model = ElasticNet(alpha = 0.01)\n",
    "enet_model.fit(X_train, y_train)"
   ]
  },
  {
   "cell_type": "markdown",
   "id": "775e9ed3",
   "metadata": {},
   "source": [
    "### Model evaluation"
   ]
  },
  {
   "cell_type": "code",
   "execution_count": 47,
   "id": "044e245a",
   "metadata": {},
   "outputs": [
    {
     "name": "stdout",
     "output_type": "stream",
     "text": [
      "RMSE from Linear model : 0.0096\n",
      "R-squared from Linear model : -0.0083\n",
      "\n",
      "RMSE from Logistic model : 0.0096\n",
      "R-squared from Logistic model : -0.0083\n",
      "\n",
      "RMSE from Ridge model : 0.0096\n",
      "R-squared from Ridge model : -0.0064\n",
      "\n",
      "RMSE from Lasso model : 0.0096\n",
      "R-squared from Lasso model : 0.0023\n",
      "\n",
      "RMSE from ElasticNet model : 0.0096\n",
      "R-squared from ElasticNet model : 0.0029\n"
     ]
    }
   ],
   "source": [
    "# Model evaluation\n",
    "\n",
    "# Linear regression\n",
    "pred_li_test = li_model.predict(X_test)\n",
    "rmse_li = mean_squared_error(y_test, pred_li_test, squared=False).round(4)\n",
    "test_r2_li = li_model.score(X_test, y_test).round(4)\n",
    "print(f\"RMSE from Linear model : {rmse_li}\")\n",
    "print(f\"R-squared from Linear model : {test_r2_li}\")\n",
    "\n",
    "# Logistic regression\n",
    "pred_logis_test = logis_model.predict(X_test)\n",
    "rmse_logis = mean_squared_error(y_test, pred_logis_test, squared=False).round(4)\n",
    "test_r2_logis = logis_model.score(X_test, y_test).round(4)\n",
    "print(f\"\\nRMSE from Logistic model : {rmse_logis}\")\n",
    "print(f\"R-squared from Logistic model : {test_r2_logis}\")\n",
    "\n",
    "# Ridge Regression\n",
    "pred_ridge_test = ridge_model.predict(X_test)\n",
    "rmse_ridge = mean_squared_error(y_test, pred_ridge_test, squared=False).round(4)\n",
    "test_r2_ridge = ridge_model.score(X_test, y_test).round(4)\n",
    "print(f\"\\nRMSE from Ridge model : {rmse_ridge}\")\n",
    "print(f\"R-squared from Ridge model : {test_r2_ridge}\")\n",
    "\n",
    "# Lasso Regression\n",
    "pred_lasso_test = lasso_model.predict(X_test)\n",
    "rmse_lasso = mean_squared_error(y_test, pred_lasso_test, squared=False).round(4)\n",
    "test_r2_lasso = lasso_model.score(X_test, y_test).round(4)\n",
    "print(f\"\\nRMSE from Lasso model : {rmse_lasso}\")\n",
    "print(f\"R-squared from Lasso model : {test_r2_lasso}\")\n",
    "\n",
    "# ElasticNet Regression\n",
    "pred_enet_test = enet_model.predict(X_test)\n",
    "rmse_enet = mean_squared_error(y_test, pred_enet_test, squared=False).round(4)\n",
    "test_r2_enet = enet_model.score(X_test, y_test).round(4)\n",
    "print(f\"\\nRMSE from ElasticNet model : {rmse_enet}\")\n",
    "print(f\"R-squared from ElasticNet model : {test_r2_enet}\")"
   ]
  },
  {
   "cell_type": "markdown",
   "id": "2c7aff55",
   "metadata": {},
   "source": [
    "#### Very low R-squared it mean the model is performing slightly worse \n",
    "\n"
   ]
  },
  {
   "cell_type": "markdown",
   "id": "e5d7312d",
   "metadata": {},
   "source": [
    "#### So I just want to know tomorrow opening price are up or down from today closing price. Test by classifition model"
   ]
  },
  {
   "cell_type": "code",
   "execution_count": 48,
   "id": "9892bc24",
   "metadata": {},
   "outputs": [
    {
     "data": {
      "text/html": [
       "<div>\n",
       "<style scoped>\n",
       "    .dataframe tbody tr th:only-of-type {\n",
       "        vertical-align: middle;\n",
       "    }\n",
       "\n",
       "    .dataframe tbody tr th {\n",
       "        vertical-align: top;\n",
       "    }\n",
       "\n",
       "    .dataframe thead th {\n",
       "        text-align: right;\n",
       "    }\n",
       "</style>\n",
       "<table border=\"1\" class=\"dataframe\">\n",
       "  <thead>\n",
       "    <tr style=\"text-align: right;\">\n",
       "      <th></th>\n",
       "      <th>Volume</th>\n",
       "      <th>Symbol</th>\n",
       "      <th>VolATO1</th>\n",
       "      <th>VolATO2</th>\n",
       "      <th>VolATC</th>\n",
       "      <th>PercentChgATC</th>\n",
       "      <th>ValueATC</th>\n",
       "      <th>chg_Ct_Ot1</th>\n",
       "      <th>today_jump</th>\n",
       "      <th>chg_Ct_Ot</th>\n",
       "      <th>chg_Ct_Ct1</th>\n",
       "      <th>comp5ma</th>\n",
       "      <th>PreComp5ma</th>\n",
       "      <th>swing</th>\n",
       "      <th>P_chg_ATO2_ATO1</th>\n",
       "      <th>P_chg_ATC_ATO2</th>\n",
       "      <th>rt_VolATO2_VolATO1</th>\n",
       "      <th>rt_VolATO1_PreVol</th>\n",
       "      <th>rt_VolATC_VolATO2</th>\n",
       "      <th>Target_Ct_Ot1</th>\n",
       "    </tr>\n",
       "  </thead>\n",
       "  <tbody>\n",
       "    <tr>\n",
       "      <th>5</th>\n",
       "      <td>4578400</td>\n",
       "      <td>DELTA</td>\n",
       "      <td>68500.0</td>\n",
       "      <td>15100.0</td>\n",
       "      <td>288600.0</td>\n",
       "      <td>0.55</td>\n",
       "      <td>210678000.0</td>\n",
       "      <td>0.0137</td>\n",
       "      <td>0.0275</td>\n",
       "      <td>-0.0214</td>\n",
       "      <td>0.0466</td>\n",
       "      <td>0.9872</td>\n",
       "      <td>2.1589</td>\n",
       "      <td>0.0912</td>\n",
       "      <td>-0.0027</td>\n",
       "      <td>-0.0188</td>\n",
       "      <td>0.2204</td>\n",
       "      <td>0.0082</td>\n",
       "      <td>19.1126</td>\n",
       "      <td>1</td>\n",
       "    </tr>\n",
       "    <tr>\n",
       "      <th>8</th>\n",
       "      <td>2553000</td>\n",
       "      <td>DELTA</td>\n",
       "      <td>18800.0</td>\n",
       "      <td>24400.0</td>\n",
       "      <td>500.0</td>\n",
       "      <td>0.53</td>\n",
       "      <td>382000.0</td>\n",
       "      <td>-0.0104</td>\n",
       "      <td>-0.0027</td>\n",
       "      <td>0.0378</td>\n",
       "      <td>-0.0312</td>\n",
       "      <td>0.6160</td>\n",
       "      <td>0.4331</td>\n",
       "      <td>0.0488</td>\n",
       "      <td>0.0243</td>\n",
       "      <td>0.0079</td>\n",
       "      <td>1.2979</td>\n",
       "      <td>0.0087</td>\n",
       "      <td>0.0205</td>\n",
       "      <td>0</td>\n",
       "    </tr>\n",
       "    <tr>\n",
       "      <th>9</th>\n",
       "      <td>1959800</td>\n",
       "      <td>DELTA</td>\n",
       "      <td>40200.0</td>\n",
       "      <td>6100.0</td>\n",
       "      <td>109700.0</td>\n",
       "      <td>-0.53</td>\n",
       "      <td>81616800.0</td>\n",
       "      <td>0.0242</td>\n",
       "      <td>-0.0104</td>\n",
       "      <td>-0.0211</td>\n",
       "      <td>0.0215</td>\n",
       "      <td>0.6855</td>\n",
       "      <td>0.6160</td>\n",
       "      <td>0.0430</td>\n",
       "      <td>-0.0053</td>\n",
       "      <td>-0.0159</td>\n",
       "      <td>0.1517</td>\n",
       "      <td>0.0157</td>\n",
       "      <td>17.9836</td>\n",
       "      <td>1</td>\n",
       "    </tr>\n",
       "    <tr>\n",
       "      <th>10</th>\n",
       "      <td>1560900</td>\n",
       "      <td>DELTA</td>\n",
       "      <td>38600.0</td>\n",
       "      <td>16100.0</td>\n",
       "      <td>123300.0</td>\n",
       "      <td>0.00</td>\n",
       "      <td>93708000.0</td>\n",
       "      <td>-0.0053</td>\n",
       "      <td>0.0242</td>\n",
       "      <td>-0.0026</td>\n",
       "      <td>-0.1421</td>\n",
       "      <td>0.6921</td>\n",
       "      <td>0.6855</td>\n",
       "      <td>0.0293</td>\n",
       "      <td>0.0079</td>\n",
       "      <td>-0.0104</td>\n",
       "      <td>0.4171</td>\n",
       "      <td>0.0197</td>\n",
       "      <td>7.6584</td>\n",
       "      <td>0</td>\n",
       "    </tr>\n",
       "    <tr>\n",
       "      <th>16</th>\n",
       "      <td>2686800</td>\n",
       "      <td>DELTA</td>\n",
       "      <td>69600.0</td>\n",
       "      <td>15000.0</td>\n",
       "      <td>213000.0</td>\n",
       "      <td>0.00</td>\n",
       "      <td>118428000.0</td>\n",
       "      <td>-0.0072</td>\n",
       "      <td>0.0071</td>\n",
       "      <td>-0.0246</td>\n",
       "      <td>-0.1043</td>\n",
       "      <td>0.5568</td>\n",
       "      <td>0.9726</td>\n",
       "      <td>0.0325</td>\n",
       "      <td>-0.0175</td>\n",
       "      <td>-0.0071</td>\n",
       "      <td>0.2155</td>\n",
       "      <td>0.0141</td>\n",
       "      <td>14.2000</td>\n",
       "      <td>0</td>\n",
       "    </tr>\n",
       "  </tbody>\n",
       "</table>\n",
       "</div>"
      ],
      "text/plain": [
       "     Volume Symbol  VolATO1  VolATO2    VolATC  PercentChgATC     ValueATC  \\\n",
       "5   4578400  DELTA  68500.0  15100.0  288600.0           0.55  210678000.0   \n",
       "8   2553000  DELTA  18800.0  24400.0     500.0           0.53     382000.0   \n",
       "9   1959800  DELTA  40200.0   6100.0  109700.0          -0.53   81616800.0   \n",
       "10  1560900  DELTA  38600.0  16100.0  123300.0           0.00   93708000.0   \n",
       "16  2686800  DELTA  69600.0  15000.0  213000.0           0.00  118428000.0   \n",
       "\n",
       "    chg_Ct_Ot1  today_jump  chg_Ct_Ot  chg_Ct_Ct1  comp5ma  PreComp5ma  \\\n",
       "5       0.0137      0.0275    -0.0214      0.0466   0.9872      2.1589   \n",
       "8      -0.0104     -0.0027     0.0378     -0.0312   0.6160      0.4331   \n",
       "9       0.0242     -0.0104    -0.0211      0.0215   0.6855      0.6160   \n",
       "10     -0.0053      0.0242    -0.0026     -0.1421   0.6921      0.6855   \n",
       "16     -0.0072      0.0071    -0.0246     -0.1043   0.5568      0.9726   \n",
       "\n",
       "     swing  P_chg_ATO2_ATO1  P_chg_ATC_ATO2  rt_VolATO2_VolATO1  \\\n",
       "5   0.0912          -0.0027         -0.0188              0.2204   \n",
       "8   0.0488           0.0243          0.0079              1.2979   \n",
       "9   0.0430          -0.0053         -0.0159              0.1517   \n",
       "10  0.0293           0.0079         -0.0104              0.4171   \n",
       "16  0.0325          -0.0175         -0.0071              0.2155   \n",
       "\n",
       "    rt_VolATO1_PreVol  rt_VolATC_VolATO2  Target_Ct_Ot1  \n",
       "5              0.0082            19.1126              1  \n",
       "8              0.0087             0.0205              0  \n",
       "9              0.0157            17.9836              1  \n",
       "10             0.0197             7.6584              0  \n",
       "16             0.0141            14.2000              0  "
      ]
     },
     "execution_count": 48,
     "metadata": {},
     "output_type": "execute_result"
    }
   ],
   "source": [
    "# Change Target pameter to 1= Up, 0 = Don't up\n",
    "\n",
    "clean_stacked['Target_Ct_Ot1'] = np.where(clean_stacked['chg_Ct_Ot1'] > 0, 1, 0)\n",
    "clean_stacked.head()"
   ]
  },
  {
   "cell_type": "code",
   "execution_count": 49,
   "id": "84a49cd7",
   "metadata": {},
   "outputs": [
    {
     "name": "stdout",
     "output_type": "stream",
     "text": [
      "(1827, 16)\n",
      "(1827,)\n"
     ]
    }
   ],
   "source": [
    "# X = feature variables, y = a target variable\n",
    "\n",
    "X = clean_stacked.drop([\"chg_Ct_Ot1\",\"chg_Ct_Ct1\",\"Target_Ct_Ot1\",\"Symbol\"], axis=1)\n",
    "y = clean_stacked['Target_Ct_Ot1']\n",
    "\n",
    "print(X.shape)\n",
    "print(y.shape)"
   ]
  },
  {
   "cell_type": "code",
   "execution_count": 50,
   "id": "567b66c3",
   "metadata": {},
   "outputs": [
    {
     "name": "stdout",
     "output_type": "stream",
     "text": [
      "X_train: (1461, 16)\n",
      "y_train: (1461,)\n",
      "X_test:  (366, 16)\n",
      "y_test:  (366,)\n"
     ]
    }
   ],
   "source": [
    "# split data 80% for train data set\n",
    "X_train, X_test, y_train, y_test = train_test_split(X, y, test_size = 0.2, random_state = 42)\n",
    "\n",
    "print(f\"X_train: {X_train.shape}\")\n",
    "print(f\"y_train: {y_train.shape}\")\n",
    "print(f\"X_test:  {X_test.shape}\")\n",
    "print(f\"y_test:  {y_test.shape}\")"
   ]
  },
  {
   "cell_type": "markdown",
   "id": "f4988888",
   "metadata": {},
   "source": [
    "### Classification Model fitting"
   ]
  },
  {
   "cell_type": "code",
   "execution_count": 51,
   "id": "b0f552f7",
   "metadata": {},
   "outputs": [
    {
     "name": "stdout",
     "output_type": "stream",
     "text": [
      "Accuracy of DecisionTree model from train data : 0.9904175222450377\n"
     ]
    }
   ],
   "source": [
    "# DecisionTree Classifier\n",
    "\n",
    "from sklearn.tree import DecisionTreeClassifier\n",
    "dt = DecisionTreeClassifier()\n",
    "dt_model = dt.fit(X_train, y_train)\n",
    "\n",
    "# Evaluate model\n",
    "dt_train_pred = dt_model.predict(X_train)\n",
    "dt_train_acc = accuracy_score(y_train, dt_train_pred)\n",
    "print(f\"Accuracy of DecisionTree model from train data : {dt_train_acc}\")"
   ]
  },
  {
   "cell_type": "code",
   "execution_count": 52,
   "id": "89b4a99d",
   "metadata": {},
   "outputs": [
    {
     "name": "stdout",
     "output_type": "stream",
     "text": [
      "Accuracy of K-Nearest Neighbors model from train data : 0.7015742642026009\n"
     ]
    }
   ],
   "source": [
    "# K-Nearest Neighbors (KNN) Classifier\n",
    "\n",
    "from sklearn.neighbors import KNeighborsClassifier\n",
    "knn = KNeighborsClassifier()\n",
    "knn_model = knn.fit(X_train, y_train)\n",
    "\n",
    "# Evaluate model\n",
    "knn_train_pred = knn_model.predict(X_train)\n",
    "knn_train_acc = accuracy_score(y_train, knn_train_pred)\n",
    "print(f\"Accuracy of K-Nearest Neighbors model from train data : {knn_train_acc}\")"
   ]
  },
  {
   "cell_type": "code",
   "execution_count": 53,
   "id": "d1f8bfda",
   "metadata": {},
   "outputs": [
    {
     "name": "stdout",
     "output_type": "stream",
     "text": [
      "Accuracy of K-Nearest Neighbors model from train data : 0.972621492128679\n"
     ]
    }
   ],
   "source": [
    "# Random Forest Classifier\n",
    "\n",
    "from sklearn.ensemble import RandomForestClassifier\n",
    "rf = RandomForestClassifier(n_estimators=10, random_state=42)\n",
    "rf_model = rf.fit(X_train, y_train)\n",
    "\n",
    "# Evaluate model\n",
    "rf_train_pred = rf_model.predict(X_train)\n",
    "rf_train_acc = accuracy_score(y_train, rf_train_pred)\n",
    "print(f\"Accuracy of K-Nearest Neighbors model from train data : {rf_train_acc}\")"
   ]
  },
  {
   "cell_type": "markdown",
   "id": "e02599d5",
   "metadata": {},
   "source": [
    "### Classification Model evaluation"
   ]
  },
  {
   "cell_type": "code",
   "execution_count": 54,
   "id": "031c9abf",
   "metadata": {},
   "outputs": [
    {
     "name": "stdout",
     "output_type": "stream",
     "text": [
      "DecisionTree Accuracy score: 0.53\n",
      "DecisionTree Precision score: 0.53\n",
      "DecisionTree Recall score: 0.53\n",
      "DecisionTree F1 score: 0.53\n"
     ]
    }
   ],
   "source": [
    "# DecisionTree Classifier\n",
    "dt_pred = dt_model.predict(X_test)\n",
    "\n",
    "dt_acc = accuracy_score(y_test, dt_pred)\n",
    "dt_prec = precision_score(y_test, dt_pred, average='micro')\n",
    "dt_rec = recall_score(y_test, dt_pred, average='micro')\n",
    "dt_f1 = f1_score(y_test, dt_pred, average = 'micro')\n",
    "\n",
    "\n",
    "print(f\"DecisionTree Accuracy score: {round(dt_acc,2)}\")\n",
    "print(f\"DecisionTree Precision score: {round(dt_prec,2)}\")\n",
    "print(f\"DecisionTree Recall score: {round(dt_rec,2)}\")\n",
    "print(f\"DecisionTree F1 score: {round(dt_f1,2)}\")"
   ]
  },
  {
   "cell_type": "code",
   "execution_count": 55,
   "id": "9b4763b3",
   "metadata": {},
   "outputs": [
    {
     "name": "stdout",
     "output_type": "stream",
     "text": [
      "K-Nearest Neighbors Accuracy score: 0.58\n",
      "K-Nearest Neighbors Precision score: 0.58\n",
      "K-Nearest Neighbors Recall score: 0.58\n",
      "K-Nearest Neighbors F1 score: 0.58\n"
     ]
    }
   ],
   "source": [
    "# K-Nearest Neighbors (KNN) Classifier\n",
    "knn_pred = knn_model.predict(X_test)\n",
    "\n",
    "knn_acc = accuracy_score(y_test, knn_pred)\n",
    "knn_prec = precision_score(y_test, knn_pred, average='micro')\n",
    "knn_rec = recall_score(y_test, knn_pred, average='micro')\n",
    "knn_f1 = f1_score(y_test, knn_pred, average = 'micro')\n",
    "\n",
    "\n",
    "print(f\"K-Nearest Neighbors Accuracy score: {round(knn_acc,2)}\")\n",
    "print(f\"K-Nearest Neighbors Precision score: {round(knn_prec,2)}\")\n",
    "print(f\"K-Nearest Neighbors Recall score: {round(knn_rec,2)}\")\n",
    "print(f\"K-Nearest Neighbors F1 score: {round(knn_f1,2)}\")"
   ]
  },
  {
   "cell_type": "code",
   "execution_count": 56,
   "id": "1edfbfcd",
   "metadata": {},
   "outputs": [
    {
     "name": "stdout",
     "output_type": "stream",
     "text": [
      "Random Forest Accuracy score: 0.59\n",
      "Random Forest Precision score: 0.59\n",
      "Random Forest Recall score: 0.59\n",
      "Random Forest F1 score: 0.59\n"
     ]
    }
   ],
   "source": [
    "# Random Forest Classifier\n",
    "rf_pred = rf_model.predict(X_test)\n",
    "\n",
    "rf_acc = accuracy_score(y_test, rf_pred)\n",
    "rf_prec = precision_score(y_test, rf_pred, average='micro')\n",
    "rf_rec = recall_score(y_test, rf_pred, average='micro')\n",
    "rf_f1 = f1_score(y_test, rf_pred, average = 'micro')\n",
    "\n",
    "\n",
    "print(f\"Random Forest Accuracy score: {round(rf_acc,2)}\")\n",
    "print(f\"Random Forest Precision score: {round(rf_prec,2)}\")\n",
    "print(f\"Random Forest Recall score: {round(rf_rec,2)}\")\n",
    "print(f\"Random Forest F1 score: {round(rf_f1,2)}\")"
   ]
  },
  {
   "cell_type": "markdown",
   "id": "1dbb58e6",
   "metadata": {},
   "source": [
    "### The highest score to prediction that tomorrow opening price will be above from today closing price or not is \"Random Forest model\". However it still low score (0.59)"
   ]
  },
  {
   "cell_type": "markdown",
   "id": "6d72b777",
   "metadata": {},
   "source": [
    "### Idea : Can we make a profit with \"Buy today close price then Sold tomorrow close price\"\n",
    "\n",
    "Select parameter\n",
    "- `Volume` : Today trading volumn = Yes , we pretty know before closing day\n",
    "- `Symbol` : Stock symbol = **No, we don't**\n",
    "- `VolATO1` : Today Morning Opening volumn = Yes, we can know  \n",
    "- `VolATO2` : Afternoon Opening volumn = Yes, we can know\n",
    "- `VolATC` : At the close volumn = Yes , we pretty know before closing day \n",
    "- `PercentChgATC` : Percent Change of ATC price from 16:30PM price = Yes , we pretty know before closing day\n",
    "- `ValueATC` : Value of ATC = Yes , we pretty know before closing day \n",
    "- `chg_Ct_Ot1` : Percent change between today closing price and tomorow opening price = **No, we can't**\n",
    "- `chg_Ct_Ot` : Percent change between today closing price and today opening price = Yes , we pretty know before closing day\n",
    "- `chg_Ct_Ct1` : Percent change between today closing price and tomorow closing price = This is **Target**\n",
    "- `today_jump` : Percent change between today morning opening price and yesterday closing price = Yes, we can know\n",
    "- `comp5ma` : Ratio of today volumn and average 5 day volumn = Yes , we pretty know before closing day\n",
    "- `PreComp5ma` : Ratio of previous volumn and average 5 day volumn = Yes, we can know\n",
    "- `swing` : Percent swing of daily swing (high - low)/low = Yes, we can know\n",
    "- `rt_VolATO1_PreVol` : Ratio of today opening volmn in the morning and previos day volumn = Yes, we can know\n",
    "- `P_chg_ATO2_ATO1` : Percent change between Afternoon price from Morning price = Yes, we can know\n",
    "- `rt_VolATO2_VolATO1` : Ratio of Afternoon opening volumn and Morning opening volumn = Yes, we can know\n",
    "- `rt_VolATC_VolATO2` : Ratio of Closing volumn and Afternoon opening volumn  = Yes , we pretty know before closing day\n",
    "- `P_chg_ATC_ATO2` : Percent change between Closing price and Afternoon opening price = Yes , we pretty know before closing day"
   ]
  },
  {
   "cell_type": "code",
   "execution_count": 57,
   "id": "ae2ab74d",
   "metadata": {},
   "outputs": [],
   "source": [
    "# Delete previos Target column\n",
    "\n",
    "del clean_stacked['Target_Ct_Ot1']"
   ]
  },
  {
   "cell_type": "code",
   "execution_count": 58,
   "id": "688de7e2",
   "metadata": {},
   "outputs": [
    {
     "name": "stdout",
     "output_type": "stream",
     "text": [
      "(1827, 16)\n",
      "(1827,)\n"
     ]
    }
   ],
   "source": [
    "# X = feature variables, y = a target variable\n",
    "\n",
    "X = clean_stacked.drop([\"chg_Ct_Ot1\",\"chg_Ct_Ct1\",'Symbol'], axis=1)\n",
    "y = clean_stacked['chg_Ct_Ct1']\n",
    "\n",
    "print(X.shape)\n",
    "print(y.shape)"
   ]
  },
  {
   "cell_type": "code",
   "execution_count": 59,
   "id": "c6e913e6",
   "metadata": {},
   "outputs": [
    {
     "name": "stdout",
     "output_type": "stream",
     "text": [
      "X_train: (1461, 16)\n",
      "y_train: (1461,)\n",
      "X_test:  (366, 16)\n",
      "y_test:  (366,)\n"
     ]
    }
   ],
   "source": [
    "# split data 80% for train data set\n",
    "X_train, X_test, y_train, y_test = train_test_split(X, y, test_size = 0.2, random_state = 42)\n",
    "\n",
    "print(f\"X_train: {X_train.shape}\")\n",
    "print(f\"y_train: {y_train.shape}\")\n",
    "print(f\"X_test:  {X_test.shape}\")\n",
    "print(f\"y_test:  {y_test.shape}\")"
   ]
  },
  {
   "cell_type": "markdown",
   "id": "e843dd86",
   "metadata": {},
   "source": [
    "### Model fitting"
   ]
  },
  {
   "cell_type": "code",
   "execution_count": 60,
   "id": "8cee1f89",
   "metadata": {},
   "outputs": [
    {
     "name": "stderr",
     "output_type": "stream",
     "text": [
      "C:\\Users\\USER\\anaconda3\\lib\\site-packages\\sklearn\\linear_model\\_ridge.py:216: LinAlgWarning: Ill-conditioned matrix (rcond=2.82477e-22): result may not be accurate.\n",
      "  return linalg.solve(A, Xy, assume_a=\"pos\", overwrite_a=True).T\n"
     ]
    },
    {
     "data": {
      "text/html": [
       "<style>#sk-container-id-2 {color: black;background-color: white;}#sk-container-id-2 pre{padding: 0;}#sk-container-id-2 div.sk-toggleable {background-color: white;}#sk-container-id-2 label.sk-toggleable__label {cursor: pointer;display: block;width: 100%;margin-bottom: 0;padding: 0.3em;box-sizing: border-box;text-align: center;}#sk-container-id-2 label.sk-toggleable__label-arrow:before {content: \"▸\";float: left;margin-right: 0.25em;color: #696969;}#sk-container-id-2 label.sk-toggleable__label-arrow:hover:before {color: black;}#sk-container-id-2 div.sk-estimator:hover label.sk-toggleable__label-arrow:before {color: black;}#sk-container-id-2 div.sk-toggleable__content {max-height: 0;max-width: 0;overflow: hidden;text-align: left;background-color: #f0f8ff;}#sk-container-id-2 div.sk-toggleable__content pre {margin: 0.2em;color: black;border-radius: 0.25em;background-color: #f0f8ff;}#sk-container-id-2 input.sk-toggleable__control:checked~div.sk-toggleable__content {max-height: 200px;max-width: 100%;overflow: auto;}#sk-container-id-2 input.sk-toggleable__control:checked~label.sk-toggleable__label-arrow:before {content: \"▾\";}#sk-container-id-2 div.sk-estimator input.sk-toggleable__control:checked~label.sk-toggleable__label {background-color: #d4ebff;}#sk-container-id-2 div.sk-label input.sk-toggleable__control:checked~label.sk-toggleable__label {background-color: #d4ebff;}#sk-container-id-2 input.sk-hidden--visually {border: 0;clip: rect(1px 1px 1px 1px);clip: rect(1px, 1px, 1px, 1px);height: 1px;margin: -1px;overflow: hidden;padding: 0;position: absolute;width: 1px;}#sk-container-id-2 div.sk-estimator {font-family: monospace;background-color: #f0f8ff;border: 1px dotted black;border-radius: 0.25em;box-sizing: border-box;margin-bottom: 0.5em;}#sk-container-id-2 div.sk-estimator:hover {background-color: #d4ebff;}#sk-container-id-2 div.sk-parallel-item::after {content: \"\";width: 100%;border-bottom: 1px solid gray;flex-grow: 1;}#sk-container-id-2 div.sk-label:hover label.sk-toggleable__label {background-color: #d4ebff;}#sk-container-id-2 div.sk-serial::before {content: \"\";position: absolute;border-left: 1px solid gray;box-sizing: border-box;top: 0;bottom: 0;left: 50%;z-index: 0;}#sk-container-id-2 div.sk-serial {display: flex;flex-direction: column;align-items: center;background-color: white;padding-right: 0.2em;padding-left: 0.2em;position: relative;}#sk-container-id-2 div.sk-item {position: relative;z-index: 1;}#sk-container-id-2 div.sk-parallel {display: flex;align-items: stretch;justify-content: center;background-color: white;position: relative;}#sk-container-id-2 div.sk-item::before, #sk-container-id-2 div.sk-parallel-item::before {content: \"\";position: absolute;border-left: 1px solid gray;box-sizing: border-box;top: 0;bottom: 0;left: 50%;z-index: -1;}#sk-container-id-2 div.sk-parallel-item {display: flex;flex-direction: column;z-index: 1;position: relative;background-color: white;}#sk-container-id-2 div.sk-parallel-item:first-child::after {align-self: flex-end;width: 50%;}#sk-container-id-2 div.sk-parallel-item:last-child::after {align-self: flex-start;width: 50%;}#sk-container-id-2 div.sk-parallel-item:only-child::after {width: 0;}#sk-container-id-2 div.sk-dashed-wrapped {border: 1px dashed gray;margin: 0 0.4em 0.5em 0.4em;box-sizing: border-box;padding-bottom: 0.4em;background-color: white;}#sk-container-id-2 div.sk-label label {font-family: monospace;font-weight: bold;display: inline-block;line-height: 1.2em;}#sk-container-id-2 div.sk-label-container {text-align: center;}#sk-container-id-2 div.sk-container {/* jupyter's `normalize.less` sets `[hidden] { display: none; }` but bootstrap.min.css set `[hidden] { display: none !important; }` so we also need the `!important` here to be able to override the default hidden behavior on the sphinx rendered scikit-learn.org. See: https://github.com/scikit-learn/scikit-learn/issues/21755 */display: inline-block !important;position: relative;}#sk-container-id-2 div.sk-text-repr-fallback {display: none;}</style><div id=\"sk-container-id-2\" class=\"sk-top-container\"><div class=\"sk-text-repr-fallback\"><pre>ElasticNet(alpha=0.01)</pre><b>In a Jupyter environment, please rerun this cell to show the HTML representation or trust the notebook. <br />On GitHub, the HTML representation is unable to render, please try loading this page with nbviewer.org.</b></div><div class=\"sk-container\" hidden><div class=\"sk-item\"><div class=\"sk-estimator sk-toggleable\"><input class=\"sk-toggleable__control sk-hidden--visually\" id=\"sk-estimator-id-2\" type=\"checkbox\" checked><label for=\"sk-estimator-id-2\" class=\"sk-toggleable__label sk-toggleable__label-arrow\">ElasticNet</label><div class=\"sk-toggleable__content\"><pre>ElasticNet(alpha=0.01)</pre></div></div></div></div></div>"
      ],
      "text/plain": [
       "ElasticNet(alpha=0.01)"
      ]
     },
     "execution_count": 60,
     "metadata": {},
     "output_type": "execute_result"
    }
   ],
   "source": [
    "# Linear regression\n",
    "li_model = LinearRegression()\n",
    "li_model.fit(X_train, y_train)\n",
    "\n",
    "# Logistic regression\n",
    "logis_model = LinearRegression()\n",
    "logis_model.fit(X_train, y_train)\n",
    "\n",
    "# Ridge Regression\n",
    "ridge_model = Ridge(alpha=0.01)\n",
    "ridge_model.fit(X_train, y_train)\n",
    "\n",
    "# Lasso Regression\n",
    "lasso_model = Lasso(alpha=0.01)\n",
    "lasso_model.fit(X_train, y_train)\n",
    "\n",
    "# ElasticNet Regression\n",
    "enet_model = ElasticNet(alpha = 0.01)\n",
    "enet_model.fit(X_train, y_train)"
   ]
  },
  {
   "cell_type": "markdown",
   "id": "4b634d08",
   "metadata": {},
   "source": [
    "### Model evaluation"
   ]
  },
  {
   "cell_type": "code",
   "execution_count": 61,
   "id": "d095497a",
   "metadata": {},
   "outputs": [
    {
     "name": "stdout",
     "output_type": "stream",
     "text": [
      "RMSE from Linear model : 0.0202\n",
      "R-squared from Linear model : -0.0017\n",
      "\n",
      "RMSE from Logistic model : 0.0202\n",
      "R-squared from Logistic model : -0.0017\n",
      "\n",
      "RMSE from Ridge model : 0.0202\n",
      "R-squared from Ridge model : -0.0016\n",
      "\n",
      "RMSE from Lasso model : 0.0204\n",
      "R-squared from Lasso model : -0.0168\n",
      "\n",
      "RMSE from ElasticNet model : 0.0204\n",
      "R-squared from ElasticNet model : -0.0166\n"
     ]
    }
   ],
   "source": [
    "# Linear regression\n",
    "pred_li_test = li_model.predict(X_test)\n",
    "rmse_li = mean_squared_error(y_test, pred_li_test, squared=False).round(4)\n",
    "test_r2_li = li_model.score(X_test, y_test).round(4)\n",
    "print(f\"RMSE from Linear model : {rmse_li}\")\n",
    "print(f\"R-squared from Linear model : {test_r2_li}\")\n",
    "\n",
    "# Logistic regression\n",
    "pred_logis_test = logis_model.predict(X_test)\n",
    "rmse_logis = mean_squared_error(y_test, pred_logis_test, squared=False).round(4)\n",
    "test_r2_logis = logis_model.score(X_test, y_test).round(4)\n",
    "print(f\"\\nRMSE from Logistic model : {rmse_logis}\")\n",
    "print(f\"R-squared from Logistic model : {test_r2_logis}\")\n",
    "\n",
    "# Ridge Regression\n",
    "pred_ridge_test = ridge_model.predict(X_test)\n",
    "rmse_ridge = mean_squared_error(y_test, pred_ridge_test, squared=False).round(4)\n",
    "test_r2_ridge = ridge_model.score(X_test, y_test).round(4)\n",
    "print(f\"\\nRMSE from Ridge model : {rmse_ridge}\")\n",
    "print(f\"R-squared from Ridge model : {test_r2_ridge}\")\n",
    "\n",
    "# Lasso Regression\n",
    "pred_lasso_test = lasso_model.predict(X_test)\n",
    "rmse_lasso = mean_squared_error(y_test, pred_lasso_test, squared=False).round(4)\n",
    "test_r2_lasso = lasso_model.score(X_test, y_test).round(4)\n",
    "print(f\"\\nRMSE from Lasso model : {rmse_lasso}\")\n",
    "print(f\"R-squared from Lasso model : {test_r2_lasso}\")\n",
    "\n",
    "# ElasticNet Regression\n",
    "pred_enet_test = enet_model.predict(X_test)\n",
    "rmse_enet = mean_squared_error(y_test, pred_enet_test, squared=False).round(4)\n",
    "test_r2_enet = enet_model.score(X_test, y_test).round(4)\n",
    "print(f\"\\nRMSE from ElasticNet model : {rmse_enet}\")\n",
    "print(f\"R-squared from ElasticNet model : {test_r2_enet}\")"
   ]
  },
  {
   "cell_type": "markdown",
   "id": "e7cbb902",
   "metadata": {},
   "source": [
    "#### Very low R-squared it mean the model is performing slightly worse "
   ]
  },
  {
   "cell_type": "markdown",
   "id": "0dcc1d6f",
   "metadata": {},
   "source": [
    "#### So I just want to know tomorrow closing price are up or down from today closing price. Test by classifition model"
   ]
  },
  {
   "cell_type": "code",
   "execution_count": 62,
   "id": "3ba1ab90",
   "metadata": {},
   "outputs": [
    {
     "data": {
      "text/html": [
       "<div>\n",
       "<style scoped>\n",
       "    .dataframe tbody tr th:only-of-type {\n",
       "        vertical-align: middle;\n",
       "    }\n",
       "\n",
       "    .dataframe tbody tr th {\n",
       "        vertical-align: top;\n",
       "    }\n",
       "\n",
       "    .dataframe thead th {\n",
       "        text-align: right;\n",
       "    }\n",
       "</style>\n",
       "<table border=\"1\" class=\"dataframe\">\n",
       "  <thead>\n",
       "    <tr style=\"text-align: right;\">\n",
       "      <th></th>\n",
       "      <th>Volume</th>\n",
       "      <th>Symbol</th>\n",
       "      <th>VolATO1</th>\n",
       "      <th>VolATO2</th>\n",
       "      <th>VolATC</th>\n",
       "      <th>PercentChgATC</th>\n",
       "      <th>ValueATC</th>\n",
       "      <th>chg_Ct_Ot1</th>\n",
       "      <th>today_jump</th>\n",
       "      <th>chg_Ct_Ot</th>\n",
       "      <th>chg_Ct_Ct1</th>\n",
       "      <th>comp5ma</th>\n",
       "      <th>PreComp5ma</th>\n",
       "      <th>swing</th>\n",
       "      <th>P_chg_ATO2_ATO1</th>\n",
       "      <th>P_chg_ATC_ATO2</th>\n",
       "      <th>rt_VolATO2_VolATO1</th>\n",
       "      <th>rt_VolATO1_PreVol</th>\n",
       "      <th>rt_VolATC_VolATO2</th>\n",
       "      <th>Target_Ct_Ct1</th>\n",
       "    </tr>\n",
       "  </thead>\n",
       "  <tbody>\n",
       "    <tr>\n",
       "      <th>5</th>\n",
       "      <td>4578400</td>\n",
       "      <td>DELTA</td>\n",
       "      <td>68500.0</td>\n",
       "      <td>15100.0</td>\n",
       "      <td>288600.0</td>\n",
       "      <td>0.55</td>\n",
       "      <td>210678000.0</td>\n",
       "      <td>0.0137</td>\n",
       "      <td>0.0275</td>\n",
       "      <td>-0.0214</td>\n",
       "      <td>0.0466</td>\n",
       "      <td>0.9872</td>\n",
       "      <td>2.1589</td>\n",
       "      <td>0.0912</td>\n",
       "      <td>-0.0027</td>\n",
       "      <td>-0.0188</td>\n",
       "      <td>0.2204</td>\n",
       "      <td>0.0082</td>\n",
       "      <td>19.1126</td>\n",
       "      <td>1</td>\n",
       "    </tr>\n",
       "    <tr>\n",
       "      <th>8</th>\n",
       "      <td>2553000</td>\n",
       "      <td>DELTA</td>\n",
       "      <td>18800.0</td>\n",
       "      <td>24400.0</td>\n",
       "      <td>500.0</td>\n",
       "      <td>0.53</td>\n",
       "      <td>382000.0</td>\n",
       "      <td>-0.0104</td>\n",
       "      <td>-0.0027</td>\n",
       "      <td>0.0378</td>\n",
       "      <td>-0.0312</td>\n",
       "      <td>0.6160</td>\n",
       "      <td>0.4331</td>\n",
       "      <td>0.0488</td>\n",
       "      <td>0.0243</td>\n",
       "      <td>0.0079</td>\n",
       "      <td>1.2979</td>\n",
       "      <td>0.0087</td>\n",
       "      <td>0.0205</td>\n",
       "      <td>0</td>\n",
       "    </tr>\n",
       "    <tr>\n",
       "      <th>9</th>\n",
       "      <td>1959800</td>\n",
       "      <td>DELTA</td>\n",
       "      <td>40200.0</td>\n",
       "      <td>6100.0</td>\n",
       "      <td>109700.0</td>\n",
       "      <td>-0.53</td>\n",
       "      <td>81616800.0</td>\n",
       "      <td>0.0242</td>\n",
       "      <td>-0.0104</td>\n",
       "      <td>-0.0211</td>\n",
       "      <td>0.0215</td>\n",
       "      <td>0.6855</td>\n",
       "      <td>0.6160</td>\n",
       "      <td>0.0430</td>\n",
       "      <td>-0.0053</td>\n",
       "      <td>-0.0159</td>\n",
       "      <td>0.1517</td>\n",
       "      <td>0.0157</td>\n",
       "      <td>17.9836</td>\n",
       "      <td>1</td>\n",
       "    </tr>\n",
       "    <tr>\n",
       "      <th>10</th>\n",
       "      <td>1560900</td>\n",
       "      <td>DELTA</td>\n",
       "      <td>38600.0</td>\n",
       "      <td>16100.0</td>\n",
       "      <td>123300.0</td>\n",
       "      <td>0.00</td>\n",
       "      <td>93708000.0</td>\n",
       "      <td>-0.0053</td>\n",
       "      <td>0.0242</td>\n",
       "      <td>-0.0026</td>\n",
       "      <td>-0.1421</td>\n",
       "      <td>0.6921</td>\n",
       "      <td>0.6855</td>\n",
       "      <td>0.0293</td>\n",
       "      <td>0.0079</td>\n",
       "      <td>-0.0104</td>\n",
       "      <td>0.4171</td>\n",
       "      <td>0.0197</td>\n",
       "      <td>7.6584</td>\n",
       "      <td>0</td>\n",
       "    </tr>\n",
       "    <tr>\n",
       "      <th>16</th>\n",
       "      <td>2686800</td>\n",
       "      <td>DELTA</td>\n",
       "      <td>69600.0</td>\n",
       "      <td>15000.0</td>\n",
       "      <td>213000.0</td>\n",
       "      <td>0.00</td>\n",
       "      <td>118428000.0</td>\n",
       "      <td>-0.0072</td>\n",
       "      <td>0.0071</td>\n",
       "      <td>-0.0246</td>\n",
       "      <td>-0.1043</td>\n",
       "      <td>0.5568</td>\n",
       "      <td>0.9726</td>\n",
       "      <td>0.0325</td>\n",
       "      <td>-0.0175</td>\n",
       "      <td>-0.0071</td>\n",
       "      <td>0.2155</td>\n",
       "      <td>0.0141</td>\n",
       "      <td>14.2000</td>\n",
       "      <td>0</td>\n",
       "    </tr>\n",
       "  </tbody>\n",
       "</table>\n",
       "</div>"
      ],
      "text/plain": [
       "     Volume Symbol  VolATO1  VolATO2    VolATC  PercentChgATC     ValueATC  \\\n",
       "5   4578400  DELTA  68500.0  15100.0  288600.0           0.55  210678000.0   \n",
       "8   2553000  DELTA  18800.0  24400.0     500.0           0.53     382000.0   \n",
       "9   1959800  DELTA  40200.0   6100.0  109700.0          -0.53   81616800.0   \n",
       "10  1560900  DELTA  38600.0  16100.0  123300.0           0.00   93708000.0   \n",
       "16  2686800  DELTA  69600.0  15000.0  213000.0           0.00  118428000.0   \n",
       "\n",
       "    chg_Ct_Ot1  today_jump  chg_Ct_Ot  chg_Ct_Ct1  comp5ma  PreComp5ma  \\\n",
       "5       0.0137      0.0275    -0.0214      0.0466   0.9872      2.1589   \n",
       "8      -0.0104     -0.0027     0.0378     -0.0312   0.6160      0.4331   \n",
       "9       0.0242     -0.0104    -0.0211      0.0215   0.6855      0.6160   \n",
       "10     -0.0053      0.0242    -0.0026     -0.1421   0.6921      0.6855   \n",
       "16     -0.0072      0.0071    -0.0246     -0.1043   0.5568      0.9726   \n",
       "\n",
       "     swing  P_chg_ATO2_ATO1  P_chg_ATC_ATO2  rt_VolATO2_VolATO1  \\\n",
       "5   0.0912          -0.0027         -0.0188              0.2204   \n",
       "8   0.0488           0.0243          0.0079              1.2979   \n",
       "9   0.0430          -0.0053         -0.0159              0.1517   \n",
       "10  0.0293           0.0079         -0.0104              0.4171   \n",
       "16  0.0325          -0.0175         -0.0071              0.2155   \n",
       "\n",
       "    rt_VolATO1_PreVol  rt_VolATC_VolATO2  Target_Ct_Ct1  \n",
       "5              0.0082            19.1126              1  \n",
       "8              0.0087             0.0205              0  \n",
       "9              0.0157            17.9836              1  \n",
       "10             0.0197             7.6584              0  \n",
       "16             0.0141            14.2000              0  "
      ]
     },
     "execution_count": 62,
     "metadata": {},
     "output_type": "execute_result"
    }
   ],
   "source": [
    "# Change Target pameter to 1= Up, 0 = Don't up\n",
    "\n",
    "clean_stacked['Target_Ct_Ct1'] = np.where(clean_stacked['chg_Ct_Ct1'] > 0, 1, 0)\n",
    "clean_stacked.head()"
   ]
  },
  {
   "cell_type": "code",
   "execution_count": 63,
   "id": "bb7b54b8",
   "metadata": {},
   "outputs": [
    {
     "name": "stdout",
     "output_type": "stream",
     "text": [
      "(1827, 16)\n",
      "(1827,)\n"
     ]
    }
   ],
   "source": [
    "# X = feature variables, y = a target variable\n",
    "\n",
    "X = clean_stacked.drop([\"chg_Ct_Ot1\",\"chg_Ct_Ct1\",\"Target_Ct_Ct1\",'Symbol'], axis=1)\n",
    "y = clean_stacked['Target_Ct_Ct1']\n",
    "\n",
    "print(X.shape)\n",
    "print(y.shape)"
   ]
  },
  {
   "cell_type": "code",
   "execution_count": 64,
   "id": "b8e8c64b",
   "metadata": {},
   "outputs": [
    {
     "name": "stdout",
     "output_type": "stream",
     "text": [
      "X_train: (1461, 16)\n",
      "y_train: (1461,)\n",
      "X_test:  (366, 16)\n",
      "y_test:  (366,)\n"
     ]
    }
   ],
   "source": [
    "# split data 80% for train data set\n",
    "X_train, X_test, y_train, y_test = train_test_split(X, y, test_size = 0.2, random_state = 42)\n",
    "\n",
    "print(f\"X_train: {X_train.shape}\")\n",
    "print(f\"y_train: {y_train.shape}\")\n",
    "print(f\"X_test:  {X_test.shape}\")\n",
    "print(f\"y_test:  {y_test.shape}\")"
   ]
  },
  {
   "cell_type": "markdown",
   "id": "85b48278",
   "metadata": {},
   "source": [
    "### Classification Model fitting"
   ]
  },
  {
   "cell_type": "code",
   "execution_count": 65,
   "id": "50a10596",
   "metadata": {},
   "outputs": [
    {
     "name": "stdout",
     "output_type": "stream",
     "text": [
      "Accuracy of DecisionTree model from train data : 0.9911019849418207\n"
     ]
    }
   ],
   "source": [
    "# DecisionTree Classifier\n",
    "\n",
    "from sklearn.tree import DecisionTreeClassifier\n",
    "dt = DecisionTreeClassifier()\n",
    "dt_model = dt.fit(X_train, y_train)\n",
    "\n",
    "# Evaluate model\n",
    "dt_train_pred = dt_model.predict(X_train)\n",
    "dt_train_acc = accuracy_score(y_train, dt_train_pred)\n",
    "print(f\"Accuracy of DecisionTree model from train data : {dt_train_acc}\")"
   ]
  },
  {
   "cell_type": "code",
   "execution_count": 66,
   "id": "f9032ad7",
   "metadata": {},
   "outputs": [
    {
     "name": "stdout",
     "output_type": "stream",
     "text": [
      "Accuracy of K-Nearest Neighbors model from train data : 0.6789869952087612\n"
     ]
    }
   ],
   "source": [
    "# K-Nearest Neighbors (KNN) Classifier\n",
    "\n",
    "from sklearn.neighbors import KNeighborsClassifier\n",
    "knn = KNeighborsClassifier()\n",
    "knn_model = knn.fit(X_train, y_train)\n",
    "\n",
    "# Evaluate model\n",
    "knn_train_pred = knn_model.predict(X_train)\n",
    "knn_train_acc = accuracy_score(y_train, knn_train_pred)\n",
    "print(f\"Accuracy of K-Nearest Neighbors model from train data : {knn_train_acc}\")"
   ]
  },
  {
   "cell_type": "code",
   "execution_count": 67,
   "id": "e093855f",
   "metadata": {},
   "outputs": [
    {
     "name": "stdout",
     "output_type": "stream",
     "text": [
      "Accuracy of K-Nearest Neighbors model from train data : 0.973990417522245\n"
     ]
    }
   ],
   "source": [
    "# Random Forest Classifier\n",
    "\n",
    "from sklearn.ensemble import RandomForestClassifier\n",
    "rf = RandomForestClassifier(n_estimators=10, random_state=42)\n",
    "rf_model = rf.fit(X_train, y_train)\n",
    "\n",
    "# Evaluate model\n",
    "rf_train_pred = rf_model.predict(X_train)\n",
    "rf_train_acc = accuracy_score(y_train, rf_train_pred)\n",
    "print(f\"Accuracy of K-Nearest Neighbors model from train data : {rf_train_acc}\")"
   ]
  },
  {
   "cell_type": "markdown",
   "id": "ac608a7d",
   "metadata": {},
   "source": [
    "### Classification Model evaluation"
   ]
  },
  {
   "cell_type": "code",
   "execution_count": 68,
   "id": "4e8be504",
   "metadata": {},
   "outputs": [
    {
     "name": "stdout",
     "output_type": "stream",
     "text": [
      "DecisionTree Accuracy score: 0.55\n",
      "DecisionTree Precision score: 0.55\n",
      "DecisionTree Recall score: 0.55\n",
      "DecisionTree F1 score: 0.55\n"
     ]
    }
   ],
   "source": [
    "# DecisionTree Classifier\n",
    "dt_pred = dt_model.predict(X_test)\n",
    "\n",
    "dt_acc = accuracy_score(y_test, dt_pred)\n",
    "dt_prec = precision_score(y_test, dt_pred, average='micro')\n",
    "dt_rec = recall_score(y_test, dt_pred, average='micro')\n",
    "dt_f1 = f1_score(y_test, dt_pred, average = 'micro')\n",
    "\n",
    "\n",
    "print(f\"DecisionTree Accuracy score: {round(dt_acc,2)}\")\n",
    "print(f\"DecisionTree Precision score: {round(dt_prec,2)}\")\n",
    "print(f\"DecisionTree Recall score: {round(dt_rec,2)}\")\n",
    "print(f\"DecisionTree F1 score: {round(dt_f1,2)}\")"
   ]
  },
  {
   "cell_type": "code",
   "execution_count": 69,
   "id": "72eda27d",
   "metadata": {},
   "outputs": [
    {
     "name": "stdout",
     "output_type": "stream",
     "text": [
      "K-Nearest Neighbors Accuracy score: 0.54\n",
      "K-Nearest Neighbors Precision score: 0.54\n",
      "K-Nearest Neighbors Recall score: 0.54\n",
      "K-Nearest Neighbors F1 score: 0.54\n"
     ]
    }
   ],
   "source": [
    "# K-Nearest Neighbors (KNN) Classifier\n",
    "knn_pred = knn_model.predict(X_test)\n",
    "\n",
    "knn_acc = accuracy_score(y_test, knn_pred)\n",
    "knn_prec = precision_score(y_test, knn_pred, average='micro')\n",
    "knn_rec = recall_score(y_test, knn_pred, average='micro')\n",
    "knn_f1 = f1_score(y_test, knn_pred, average = 'micro')\n",
    "\n",
    "\n",
    "print(f\"K-Nearest Neighbors Accuracy score: {round(knn_acc,2)}\")\n",
    "print(f\"K-Nearest Neighbors Precision score: {round(knn_prec,2)}\")\n",
    "print(f\"K-Nearest Neighbors Recall score: {round(knn_rec,2)}\")\n",
    "print(f\"K-Nearest Neighbors F1 score: {round(knn_f1,2)}\")"
   ]
  },
  {
   "cell_type": "code",
   "execution_count": 70,
   "id": "0f98f5e0",
   "metadata": {},
   "outputs": [
    {
     "name": "stdout",
     "output_type": "stream",
     "text": [
      "Random Forest Accuracy score: 0.57\n",
      "Random Forest Precision score: 0.57\n",
      "Random Forest Recall score: 0.57\n",
      "Random Forest F1 score: 0.57\n"
     ]
    }
   ],
   "source": [
    "# Random Forest Classifier\n",
    "rf_pred = rf_model.predict(X_test)\n",
    "\n",
    "rf_acc = accuracy_score(y_test, rf_pred)\n",
    "rf_prec = precision_score(y_test, rf_pred, average='micro')\n",
    "rf_rec = recall_score(y_test, rf_pred, average='micro')\n",
    "rf_f1 = f1_score(y_test, rf_pred, average = 'micro')\n",
    "\n",
    "\n",
    "print(f\"Random Forest Accuracy score: {round(rf_acc,2)}\")\n",
    "print(f\"Random Forest Precision score: {round(rf_prec,2)}\")\n",
    "print(f\"Random Forest Recall score: {round(rf_rec,2)}\")\n",
    "print(f\"Random Forest F1 score: {round(rf_f1,2)}\")"
   ]
  },
  {
   "cell_type": "markdown",
   "id": "6f12544c",
   "metadata": {},
   "source": [
    "### The highest score to prediction that tomorrow closing price will be above from today closing price or not is \"Random Forest model\". However it still low score (0.57)"
   ]
  },
  {
   "cell_type": "markdown",
   "id": "4ff01c89",
   "metadata": {},
   "source": [
    "### Idea : Can we make a profit with \"Buy today morning open price then Sold today closing price\"\n",
    "\n",
    "Select parameter\n",
    "- `Volume` : Today trading volumn = **No, we can't**\n",
    "- `Symbol` : Stock symbol = **No, we don't**\n",
    "- `VolATO1` : Today Morning Opening volumn = Yes, we can know  \n",
    "- `VolATO2` : Afternoon Opening volumn = **No, we can't**\n",
    "- `VolATC` : At the close volumn = **No, we can't** \n",
    "- `PercentChgATC` : Percent Change of ATC price from 16:30PM price = **No, we can't**\n",
    "- `ValueATC` : Value of ATC = **No, we can't** \n",
    "- `chg_Ct_Ot1` : Percent change between today closing price and tomorow opening price = **No, we can't**\n",
    "- `chg_Ct_Ot` : Percent change between today closing price and today opening price = This is **Target**\n",
    "- `chg_Ct_Ct1` : Percent change between today closing price and tomorow closing price = **No, we can't**\n",
    "- `today_jump` : Percent change between today morning opening price and yesterday closing price = Yes, we can know\n",
    "- `comp5ma` : Ratio of today volumn and average 5 day volumn = **No, we can't**\n",
    "- `PreComp5ma` : Ratio of previous volumn and average 5 day volumn = Yes, we can know\n",
    "- `swing` : Percent swing of daily swing (high - low)/low = **No, we can't**\n",
    "- `rt_VolATO1_PreVol` : Ratio of today opening volmn in the morning and previos day volumn = Yes, we can know\n",
    "- `P_chg_ATO2_ATO1` : Percent change between Afternoon price from Morning price = **No, we can't**\n",
    "- `rt_VolATO2_VolATO1` : Ratio of Afternoon opening volumn and Morning opening volumn = **No, we can't**\n",
    "- `rt_VolATC_VolATO2` : Ratio of Closing volumn and Afternoon opening volumn  = **No, we can't**\n",
    "- `P_chg_ATC_ATO2` : Percent change between Closing price and Afternoon opening price = **No, we can't**"
   ]
  },
  {
   "cell_type": "code",
   "execution_count": 71,
   "id": "af4191df",
   "metadata": {},
   "outputs": [
    {
     "data": {
      "text/html": [
       "<div>\n",
       "<style scoped>\n",
       "    .dataframe tbody tr th:only-of-type {\n",
       "        vertical-align: middle;\n",
       "    }\n",
       "\n",
       "    .dataframe tbody tr th {\n",
       "        vertical-align: top;\n",
       "    }\n",
       "\n",
       "    .dataframe thead th {\n",
       "        text-align: right;\n",
       "    }\n",
       "</style>\n",
       "<table border=\"1\" class=\"dataframe\">\n",
       "  <thead>\n",
       "    <tr style=\"text-align: right;\">\n",
       "      <th></th>\n",
       "      <th>Volume</th>\n",
       "      <th>Symbol</th>\n",
       "      <th>VolATO1</th>\n",
       "      <th>VolATO2</th>\n",
       "      <th>VolATC</th>\n",
       "      <th>PercentChgATC</th>\n",
       "      <th>ValueATC</th>\n",
       "      <th>chg_Ct_Ot1</th>\n",
       "      <th>today_jump</th>\n",
       "      <th>chg_Ct_Ot</th>\n",
       "      <th>chg_Ct_Ct1</th>\n",
       "      <th>comp5ma</th>\n",
       "      <th>PreComp5ma</th>\n",
       "      <th>swing</th>\n",
       "      <th>P_chg_ATO2_ATO1</th>\n",
       "      <th>P_chg_ATC_ATO2</th>\n",
       "      <th>rt_VolATO2_VolATO1</th>\n",
       "      <th>rt_VolATO1_PreVol</th>\n",
       "      <th>rt_VolATC_VolATO2</th>\n",
       "    </tr>\n",
       "  </thead>\n",
       "  <tbody>\n",
       "    <tr>\n",
       "      <th>5</th>\n",
       "      <td>4578400</td>\n",
       "      <td>DELTA</td>\n",
       "      <td>68500.0</td>\n",
       "      <td>15100.0</td>\n",
       "      <td>288600.0</td>\n",
       "      <td>0.55</td>\n",
       "      <td>210678000.0</td>\n",
       "      <td>0.0137</td>\n",
       "      <td>0.0275</td>\n",
       "      <td>-0.0214</td>\n",
       "      <td>0.0466</td>\n",
       "      <td>0.9872</td>\n",
       "      <td>2.1589</td>\n",
       "      <td>0.0912</td>\n",
       "      <td>-0.0027</td>\n",
       "      <td>-0.0188</td>\n",
       "      <td>0.2204</td>\n",
       "      <td>0.0082</td>\n",
       "      <td>19.1126</td>\n",
       "    </tr>\n",
       "    <tr>\n",
       "      <th>8</th>\n",
       "      <td>2553000</td>\n",
       "      <td>DELTA</td>\n",
       "      <td>18800.0</td>\n",
       "      <td>24400.0</td>\n",
       "      <td>500.0</td>\n",
       "      <td>0.53</td>\n",
       "      <td>382000.0</td>\n",
       "      <td>-0.0104</td>\n",
       "      <td>-0.0027</td>\n",
       "      <td>0.0378</td>\n",
       "      <td>-0.0312</td>\n",
       "      <td>0.6160</td>\n",
       "      <td>0.4331</td>\n",
       "      <td>0.0488</td>\n",
       "      <td>0.0243</td>\n",
       "      <td>0.0079</td>\n",
       "      <td>1.2979</td>\n",
       "      <td>0.0087</td>\n",
       "      <td>0.0205</td>\n",
       "    </tr>\n",
       "    <tr>\n",
       "      <th>9</th>\n",
       "      <td>1959800</td>\n",
       "      <td>DELTA</td>\n",
       "      <td>40200.0</td>\n",
       "      <td>6100.0</td>\n",
       "      <td>109700.0</td>\n",
       "      <td>-0.53</td>\n",
       "      <td>81616800.0</td>\n",
       "      <td>0.0242</td>\n",
       "      <td>-0.0104</td>\n",
       "      <td>-0.0211</td>\n",
       "      <td>0.0215</td>\n",
       "      <td>0.6855</td>\n",
       "      <td>0.6160</td>\n",
       "      <td>0.0430</td>\n",
       "      <td>-0.0053</td>\n",
       "      <td>-0.0159</td>\n",
       "      <td>0.1517</td>\n",
       "      <td>0.0157</td>\n",
       "      <td>17.9836</td>\n",
       "    </tr>\n",
       "    <tr>\n",
       "      <th>10</th>\n",
       "      <td>1560900</td>\n",
       "      <td>DELTA</td>\n",
       "      <td>38600.0</td>\n",
       "      <td>16100.0</td>\n",
       "      <td>123300.0</td>\n",
       "      <td>0.00</td>\n",
       "      <td>93708000.0</td>\n",
       "      <td>-0.0053</td>\n",
       "      <td>0.0242</td>\n",
       "      <td>-0.0026</td>\n",
       "      <td>-0.1421</td>\n",
       "      <td>0.6921</td>\n",
       "      <td>0.6855</td>\n",
       "      <td>0.0293</td>\n",
       "      <td>0.0079</td>\n",
       "      <td>-0.0104</td>\n",
       "      <td>0.4171</td>\n",
       "      <td>0.0197</td>\n",
       "      <td>7.6584</td>\n",
       "    </tr>\n",
       "    <tr>\n",
       "      <th>16</th>\n",
       "      <td>2686800</td>\n",
       "      <td>DELTA</td>\n",
       "      <td>69600.0</td>\n",
       "      <td>15000.0</td>\n",
       "      <td>213000.0</td>\n",
       "      <td>0.00</td>\n",
       "      <td>118428000.0</td>\n",
       "      <td>-0.0072</td>\n",
       "      <td>0.0071</td>\n",
       "      <td>-0.0246</td>\n",
       "      <td>-0.1043</td>\n",
       "      <td>0.5568</td>\n",
       "      <td>0.9726</td>\n",
       "      <td>0.0325</td>\n",
       "      <td>-0.0175</td>\n",
       "      <td>-0.0071</td>\n",
       "      <td>0.2155</td>\n",
       "      <td>0.0141</td>\n",
       "      <td>14.2000</td>\n",
       "    </tr>\n",
       "  </tbody>\n",
       "</table>\n",
       "</div>"
      ],
      "text/plain": [
       "     Volume Symbol  VolATO1  VolATO2    VolATC  PercentChgATC     ValueATC  \\\n",
       "5   4578400  DELTA  68500.0  15100.0  288600.0           0.55  210678000.0   \n",
       "8   2553000  DELTA  18800.0  24400.0     500.0           0.53     382000.0   \n",
       "9   1959800  DELTA  40200.0   6100.0  109700.0          -0.53   81616800.0   \n",
       "10  1560900  DELTA  38600.0  16100.0  123300.0           0.00   93708000.0   \n",
       "16  2686800  DELTA  69600.0  15000.0  213000.0           0.00  118428000.0   \n",
       "\n",
       "    chg_Ct_Ot1  today_jump  chg_Ct_Ot  chg_Ct_Ct1  comp5ma  PreComp5ma  \\\n",
       "5       0.0137      0.0275    -0.0214      0.0466   0.9872      2.1589   \n",
       "8      -0.0104     -0.0027     0.0378     -0.0312   0.6160      0.4331   \n",
       "9       0.0242     -0.0104    -0.0211      0.0215   0.6855      0.6160   \n",
       "10     -0.0053      0.0242    -0.0026     -0.1421   0.6921      0.6855   \n",
       "16     -0.0072      0.0071    -0.0246     -0.1043   0.5568      0.9726   \n",
       "\n",
       "     swing  P_chg_ATO2_ATO1  P_chg_ATC_ATO2  rt_VolATO2_VolATO1  \\\n",
       "5   0.0912          -0.0027         -0.0188              0.2204   \n",
       "8   0.0488           0.0243          0.0079              1.2979   \n",
       "9   0.0430          -0.0053         -0.0159              0.1517   \n",
       "10  0.0293           0.0079         -0.0104              0.4171   \n",
       "16  0.0325          -0.0175         -0.0071              0.2155   \n",
       "\n",
       "    rt_VolATO1_PreVol  rt_VolATC_VolATO2  \n",
       "5              0.0082            19.1126  \n",
       "8              0.0087             0.0205  \n",
       "9              0.0157            17.9836  \n",
       "10             0.0197             7.6584  \n",
       "16             0.0141            14.2000  "
      ]
     },
     "execution_count": 71,
     "metadata": {},
     "output_type": "execute_result"
    }
   ],
   "source": [
    "# Delete previos Target column\n",
    "\n",
    "del clean_stacked['Target_Ct_Ct1']\n",
    "clean_stacked.head()"
   ]
  },
  {
   "cell_type": "code",
   "execution_count": 72,
   "id": "ebfdff39",
   "metadata": {},
   "outputs": [
    {
     "name": "stdout",
     "output_type": "stream",
     "text": [
      "(1827, 4)\n",
      "(1827,)\n"
     ]
    }
   ],
   "source": [
    "# X = feature variables, y = a target variable\n",
    "\n",
    "X = clean_stacked[['VolATO1','today_jump','rt_VolATO1_PreVol','PreComp5ma']]\n",
    "y = clean_stacked['chg_Ct_Ot']\n",
    "\n",
    "print(X.shape)\n",
    "print(y.shape)"
   ]
  },
  {
   "cell_type": "code",
   "execution_count": 73,
   "id": "7eeb36bc",
   "metadata": {},
   "outputs": [
    {
     "name": "stdout",
     "output_type": "stream",
     "text": [
      "X_train: (1461, 4)\n",
      "y_train: (1461,)\n",
      "X_test:  (366, 4)\n",
      "y_test:  (366,)\n"
     ]
    }
   ],
   "source": [
    "# split data 80% for train data set\n",
    "X_train, X_test, y_train, y_test = train_test_split(X, y, test_size = 0.2, random_state = 42)\n",
    "\n",
    "print(f\"X_train: {X_train.shape}\")\n",
    "print(f\"y_train: {y_train.shape}\")\n",
    "print(f\"X_test:  {X_test.shape}\")\n",
    "print(f\"y_test:  {y_test.shape}\")"
   ]
  },
  {
   "cell_type": "markdown",
   "id": "2be38431",
   "metadata": {},
   "source": [
    "### Model fitting"
   ]
  },
  {
   "cell_type": "code",
   "execution_count": 74,
   "id": "1a3087a2",
   "metadata": {},
   "outputs": [
    {
     "data": {
      "text/html": [
       "<style>#sk-container-id-3 {color: black;background-color: white;}#sk-container-id-3 pre{padding: 0;}#sk-container-id-3 div.sk-toggleable {background-color: white;}#sk-container-id-3 label.sk-toggleable__label {cursor: pointer;display: block;width: 100%;margin-bottom: 0;padding: 0.3em;box-sizing: border-box;text-align: center;}#sk-container-id-3 label.sk-toggleable__label-arrow:before {content: \"▸\";float: left;margin-right: 0.25em;color: #696969;}#sk-container-id-3 label.sk-toggleable__label-arrow:hover:before {color: black;}#sk-container-id-3 div.sk-estimator:hover label.sk-toggleable__label-arrow:before {color: black;}#sk-container-id-3 div.sk-toggleable__content {max-height: 0;max-width: 0;overflow: hidden;text-align: left;background-color: #f0f8ff;}#sk-container-id-3 div.sk-toggleable__content pre {margin: 0.2em;color: black;border-radius: 0.25em;background-color: #f0f8ff;}#sk-container-id-3 input.sk-toggleable__control:checked~div.sk-toggleable__content {max-height: 200px;max-width: 100%;overflow: auto;}#sk-container-id-3 input.sk-toggleable__control:checked~label.sk-toggleable__label-arrow:before {content: \"▾\";}#sk-container-id-3 div.sk-estimator input.sk-toggleable__control:checked~label.sk-toggleable__label {background-color: #d4ebff;}#sk-container-id-3 div.sk-label input.sk-toggleable__control:checked~label.sk-toggleable__label {background-color: #d4ebff;}#sk-container-id-3 input.sk-hidden--visually {border: 0;clip: rect(1px 1px 1px 1px);clip: rect(1px, 1px, 1px, 1px);height: 1px;margin: -1px;overflow: hidden;padding: 0;position: absolute;width: 1px;}#sk-container-id-3 div.sk-estimator {font-family: monospace;background-color: #f0f8ff;border: 1px dotted black;border-radius: 0.25em;box-sizing: border-box;margin-bottom: 0.5em;}#sk-container-id-3 div.sk-estimator:hover {background-color: #d4ebff;}#sk-container-id-3 div.sk-parallel-item::after {content: \"\";width: 100%;border-bottom: 1px solid gray;flex-grow: 1;}#sk-container-id-3 div.sk-label:hover label.sk-toggleable__label {background-color: #d4ebff;}#sk-container-id-3 div.sk-serial::before {content: \"\";position: absolute;border-left: 1px solid gray;box-sizing: border-box;top: 0;bottom: 0;left: 50%;z-index: 0;}#sk-container-id-3 div.sk-serial {display: flex;flex-direction: column;align-items: center;background-color: white;padding-right: 0.2em;padding-left: 0.2em;position: relative;}#sk-container-id-3 div.sk-item {position: relative;z-index: 1;}#sk-container-id-3 div.sk-parallel {display: flex;align-items: stretch;justify-content: center;background-color: white;position: relative;}#sk-container-id-3 div.sk-item::before, #sk-container-id-3 div.sk-parallel-item::before {content: \"\";position: absolute;border-left: 1px solid gray;box-sizing: border-box;top: 0;bottom: 0;left: 50%;z-index: -1;}#sk-container-id-3 div.sk-parallel-item {display: flex;flex-direction: column;z-index: 1;position: relative;background-color: white;}#sk-container-id-3 div.sk-parallel-item:first-child::after {align-self: flex-end;width: 50%;}#sk-container-id-3 div.sk-parallel-item:last-child::after {align-self: flex-start;width: 50%;}#sk-container-id-3 div.sk-parallel-item:only-child::after {width: 0;}#sk-container-id-3 div.sk-dashed-wrapped {border: 1px dashed gray;margin: 0 0.4em 0.5em 0.4em;box-sizing: border-box;padding-bottom: 0.4em;background-color: white;}#sk-container-id-3 div.sk-label label {font-family: monospace;font-weight: bold;display: inline-block;line-height: 1.2em;}#sk-container-id-3 div.sk-label-container {text-align: center;}#sk-container-id-3 div.sk-container {/* jupyter's `normalize.less` sets `[hidden] { display: none; }` but bootstrap.min.css set `[hidden] { display: none !important; }` so we also need the `!important` here to be able to override the default hidden behavior on the sphinx rendered scikit-learn.org. See: https://github.com/scikit-learn/scikit-learn/issues/21755 */display: inline-block !important;position: relative;}#sk-container-id-3 div.sk-text-repr-fallback {display: none;}</style><div id=\"sk-container-id-3\" class=\"sk-top-container\"><div class=\"sk-text-repr-fallback\"><pre>ElasticNet(alpha=0.01)</pre><b>In a Jupyter environment, please rerun this cell to show the HTML representation or trust the notebook. <br />On GitHub, the HTML representation is unable to render, please try loading this page with nbviewer.org.</b></div><div class=\"sk-container\" hidden><div class=\"sk-item\"><div class=\"sk-estimator sk-toggleable\"><input class=\"sk-toggleable__control sk-hidden--visually\" id=\"sk-estimator-id-3\" type=\"checkbox\" checked><label for=\"sk-estimator-id-3\" class=\"sk-toggleable__label sk-toggleable__label-arrow\">ElasticNet</label><div class=\"sk-toggleable__content\"><pre>ElasticNet(alpha=0.01)</pre></div></div></div></div></div>"
      ],
      "text/plain": [
       "ElasticNet(alpha=0.01)"
      ]
     },
     "execution_count": 74,
     "metadata": {},
     "output_type": "execute_result"
    }
   ],
   "source": [
    "# Linear regression\n",
    "li_model = LinearRegression()\n",
    "li_model.fit(X_train, y_train)\n",
    "\n",
    "# Logistic regression\n",
    "logis_model = LinearRegression()\n",
    "logis_model.fit(X_train, y_train)\n",
    "\n",
    "# Ridge Regression\n",
    "ridge_model = Ridge(alpha=0.01)\n",
    "ridge_model.fit(X_train, y_train)\n",
    "\n",
    "# Lasso Regression\n",
    "lasso_model = Lasso(alpha=0.01)\n",
    "lasso_model.fit(X_train, y_train)\n",
    "\n",
    "# ElasticNet Regression\n",
    "enet_model = ElasticNet(alpha = 0.01)\n",
    "enet_model.fit(X_train, y_train)"
   ]
  },
  {
   "cell_type": "markdown",
   "id": "113bb4d5",
   "metadata": {},
   "source": [
    "### Model evaluation"
   ]
  },
  {
   "cell_type": "code",
   "execution_count": 75,
   "id": "f9f56864",
   "metadata": {},
   "outputs": [
    {
     "name": "stdout",
     "output_type": "stream",
     "text": [
      "RMSE from Linear model : 0.0172\n",
      "R-squared from Linear model : -0.0083\n",
      "\n",
      "RMSE from Logistic model : 0.0172\n",
      "R-squared from Logistic model : -0.0083\n",
      "\n",
      "RMSE from Ridge model : 0.0172\n",
      "R-squared from Ridge model : -0.0081\n",
      "\n",
      "RMSE from Lasso model : 0.0171\n",
      "R-squared from Lasso model : 0.0013\n",
      "\n",
      "RMSE from ElasticNet model : 0.0171\n",
      "R-squared from ElasticNet model : 0.0013\n"
     ]
    }
   ],
   "source": [
    "# Linear regression\n",
    "pred_li_test = li_model.predict(X_test)\n",
    "rmse_li = mean_squared_error(y_test, pred_li_test, squared=False).round(4)\n",
    "test_r2_li = li_model.score(X_test, y_test).round(4)\n",
    "print(f\"RMSE from Linear model : {rmse_li}\")\n",
    "print(f\"R-squared from Linear model : {test_r2_li}\")\n",
    "\n",
    "# Logistic regression\n",
    "pred_logis_test = logis_model.predict(X_test)\n",
    "rmse_logis = mean_squared_error(y_test, pred_logis_test, squared=False).round(4)\n",
    "test_r2_logis = logis_model.score(X_test, y_test).round(4)\n",
    "print(f\"\\nRMSE from Logistic model : {rmse_logis}\")\n",
    "print(f\"R-squared from Logistic model : {test_r2_logis}\")\n",
    "\n",
    "# Ridge Regression\n",
    "pred_ridge_test = ridge_model.predict(X_test)\n",
    "rmse_ridge = mean_squared_error(y_test, pred_ridge_test, squared=False).round(4)\n",
    "test_r2_ridge = ridge_model.score(X_test, y_test).round(4)\n",
    "print(f\"\\nRMSE from Ridge model : {rmse_ridge}\")\n",
    "print(f\"R-squared from Ridge model : {test_r2_ridge}\")\n",
    "\n",
    "# Lasso Regression\n",
    "pred_lasso_test = lasso_model.predict(X_test)\n",
    "rmse_lasso = mean_squared_error(y_test, pred_lasso_test, squared=False).round(4)\n",
    "test_r2_lasso = lasso_model.score(X_test, y_test).round(4)\n",
    "print(f\"\\nRMSE from Lasso model : {rmse_lasso}\")\n",
    "print(f\"R-squared from Lasso model : {test_r2_lasso}\")\n",
    "\n",
    "# ElasticNet Regression\n",
    "pred_enet_test = enet_model.predict(X_test)\n",
    "rmse_enet = mean_squared_error(y_test, pred_enet_test, squared=False).round(4)\n",
    "test_r2_enet = enet_model.score(X_test, y_test).round(4)\n",
    "print(f\"\\nRMSE from ElasticNet model : {rmse_enet}\")\n",
    "print(f\"R-squared from ElasticNet model : {test_r2_enet}\")"
   ]
  },
  {
   "cell_type": "markdown",
   "id": "2623ed14",
   "metadata": {},
   "source": [
    "#### Very low R-squared it mean the model is performing slightly worse "
   ]
  },
  {
   "cell_type": "markdown",
   "id": "b16bc499",
   "metadata": {},
   "source": [
    "#### So I just want to know today closing price are up or down from today opening price. Test by classification model"
   ]
  },
  {
   "cell_type": "code",
   "execution_count": 76,
   "id": "382800ba",
   "metadata": {},
   "outputs": [
    {
     "data": {
      "text/html": [
       "<div>\n",
       "<style scoped>\n",
       "    .dataframe tbody tr th:only-of-type {\n",
       "        vertical-align: middle;\n",
       "    }\n",
       "\n",
       "    .dataframe tbody tr th {\n",
       "        vertical-align: top;\n",
       "    }\n",
       "\n",
       "    .dataframe thead th {\n",
       "        text-align: right;\n",
       "    }\n",
       "</style>\n",
       "<table border=\"1\" class=\"dataframe\">\n",
       "  <thead>\n",
       "    <tr style=\"text-align: right;\">\n",
       "      <th></th>\n",
       "      <th>Volume</th>\n",
       "      <th>Symbol</th>\n",
       "      <th>VolATO1</th>\n",
       "      <th>VolATO2</th>\n",
       "      <th>VolATC</th>\n",
       "      <th>PercentChgATC</th>\n",
       "      <th>ValueATC</th>\n",
       "      <th>chg_Ct_Ot1</th>\n",
       "      <th>today_jump</th>\n",
       "      <th>chg_Ct_Ot</th>\n",
       "      <th>chg_Ct_Ct1</th>\n",
       "      <th>comp5ma</th>\n",
       "      <th>PreComp5ma</th>\n",
       "      <th>swing</th>\n",
       "      <th>P_chg_ATO2_ATO1</th>\n",
       "      <th>P_chg_ATC_ATO2</th>\n",
       "      <th>rt_VolATO2_VolATO1</th>\n",
       "      <th>rt_VolATO1_PreVol</th>\n",
       "      <th>rt_VolATC_VolATO2</th>\n",
       "      <th>Target_Ct_Ot</th>\n",
       "    </tr>\n",
       "  </thead>\n",
       "  <tbody>\n",
       "    <tr>\n",
       "      <th>5</th>\n",
       "      <td>4578400</td>\n",
       "      <td>DELTA</td>\n",
       "      <td>68500.0</td>\n",
       "      <td>15100.0</td>\n",
       "      <td>288600.0</td>\n",
       "      <td>0.55</td>\n",
       "      <td>210678000.0</td>\n",
       "      <td>0.0137</td>\n",
       "      <td>0.0275</td>\n",
       "      <td>-0.0214</td>\n",
       "      <td>0.0466</td>\n",
       "      <td>0.9872</td>\n",
       "      <td>2.1589</td>\n",
       "      <td>0.0912</td>\n",
       "      <td>-0.0027</td>\n",
       "      <td>-0.0188</td>\n",
       "      <td>0.2204</td>\n",
       "      <td>0.0082</td>\n",
       "      <td>19.1126</td>\n",
       "      <td>0</td>\n",
       "    </tr>\n",
       "    <tr>\n",
       "      <th>8</th>\n",
       "      <td>2553000</td>\n",
       "      <td>DELTA</td>\n",
       "      <td>18800.0</td>\n",
       "      <td>24400.0</td>\n",
       "      <td>500.0</td>\n",
       "      <td>0.53</td>\n",
       "      <td>382000.0</td>\n",
       "      <td>-0.0104</td>\n",
       "      <td>-0.0027</td>\n",
       "      <td>0.0378</td>\n",
       "      <td>-0.0312</td>\n",
       "      <td>0.6160</td>\n",
       "      <td>0.4331</td>\n",
       "      <td>0.0488</td>\n",
       "      <td>0.0243</td>\n",
       "      <td>0.0079</td>\n",
       "      <td>1.2979</td>\n",
       "      <td>0.0087</td>\n",
       "      <td>0.0205</td>\n",
       "      <td>1</td>\n",
       "    </tr>\n",
       "    <tr>\n",
       "      <th>9</th>\n",
       "      <td>1959800</td>\n",
       "      <td>DELTA</td>\n",
       "      <td>40200.0</td>\n",
       "      <td>6100.0</td>\n",
       "      <td>109700.0</td>\n",
       "      <td>-0.53</td>\n",
       "      <td>81616800.0</td>\n",
       "      <td>0.0242</td>\n",
       "      <td>-0.0104</td>\n",
       "      <td>-0.0211</td>\n",
       "      <td>0.0215</td>\n",
       "      <td>0.6855</td>\n",
       "      <td>0.6160</td>\n",
       "      <td>0.0430</td>\n",
       "      <td>-0.0053</td>\n",
       "      <td>-0.0159</td>\n",
       "      <td>0.1517</td>\n",
       "      <td>0.0157</td>\n",
       "      <td>17.9836</td>\n",
       "      <td>0</td>\n",
       "    </tr>\n",
       "    <tr>\n",
       "      <th>10</th>\n",
       "      <td>1560900</td>\n",
       "      <td>DELTA</td>\n",
       "      <td>38600.0</td>\n",
       "      <td>16100.0</td>\n",
       "      <td>123300.0</td>\n",
       "      <td>0.00</td>\n",
       "      <td>93708000.0</td>\n",
       "      <td>-0.0053</td>\n",
       "      <td>0.0242</td>\n",
       "      <td>-0.0026</td>\n",
       "      <td>-0.1421</td>\n",
       "      <td>0.6921</td>\n",
       "      <td>0.6855</td>\n",
       "      <td>0.0293</td>\n",
       "      <td>0.0079</td>\n",
       "      <td>-0.0104</td>\n",
       "      <td>0.4171</td>\n",
       "      <td>0.0197</td>\n",
       "      <td>7.6584</td>\n",
       "      <td>0</td>\n",
       "    </tr>\n",
       "    <tr>\n",
       "      <th>16</th>\n",
       "      <td>2686800</td>\n",
       "      <td>DELTA</td>\n",
       "      <td>69600.0</td>\n",
       "      <td>15000.0</td>\n",
       "      <td>213000.0</td>\n",
       "      <td>0.00</td>\n",
       "      <td>118428000.0</td>\n",
       "      <td>-0.0072</td>\n",
       "      <td>0.0071</td>\n",
       "      <td>-0.0246</td>\n",
       "      <td>-0.1043</td>\n",
       "      <td>0.5568</td>\n",
       "      <td>0.9726</td>\n",
       "      <td>0.0325</td>\n",
       "      <td>-0.0175</td>\n",
       "      <td>-0.0071</td>\n",
       "      <td>0.2155</td>\n",
       "      <td>0.0141</td>\n",
       "      <td>14.2000</td>\n",
       "      <td>0</td>\n",
       "    </tr>\n",
       "  </tbody>\n",
       "</table>\n",
       "</div>"
      ],
      "text/plain": [
       "     Volume Symbol  VolATO1  VolATO2    VolATC  PercentChgATC     ValueATC  \\\n",
       "5   4578400  DELTA  68500.0  15100.0  288600.0           0.55  210678000.0   \n",
       "8   2553000  DELTA  18800.0  24400.0     500.0           0.53     382000.0   \n",
       "9   1959800  DELTA  40200.0   6100.0  109700.0          -0.53   81616800.0   \n",
       "10  1560900  DELTA  38600.0  16100.0  123300.0           0.00   93708000.0   \n",
       "16  2686800  DELTA  69600.0  15000.0  213000.0           0.00  118428000.0   \n",
       "\n",
       "    chg_Ct_Ot1  today_jump  chg_Ct_Ot  chg_Ct_Ct1  comp5ma  PreComp5ma  \\\n",
       "5       0.0137      0.0275    -0.0214      0.0466   0.9872      2.1589   \n",
       "8      -0.0104     -0.0027     0.0378     -0.0312   0.6160      0.4331   \n",
       "9       0.0242     -0.0104    -0.0211      0.0215   0.6855      0.6160   \n",
       "10     -0.0053      0.0242    -0.0026     -0.1421   0.6921      0.6855   \n",
       "16     -0.0072      0.0071    -0.0246     -0.1043   0.5568      0.9726   \n",
       "\n",
       "     swing  P_chg_ATO2_ATO1  P_chg_ATC_ATO2  rt_VolATO2_VolATO1  \\\n",
       "5   0.0912          -0.0027         -0.0188              0.2204   \n",
       "8   0.0488           0.0243          0.0079              1.2979   \n",
       "9   0.0430          -0.0053         -0.0159              0.1517   \n",
       "10  0.0293           0.0079         -0.0104              0.4171   \n",
       "16  0.0325          -0.0175         -0.0071              0.2155   \n",
       "\n",
       "    rt_VolATO1_PreVol  rt_VolATC_VolATO2  Target_Ct_Ot  \n",
       "5              0.0082            19.1126             0  \n",
       "8              0.0087             0.0205             1  \n",
       "9              0.0157            17.9836             0  \n",
       "10             0.0197             7.6584             0  \n",
       "16             0.0141            14.2000             0  "
      ]
     },
     "execution_count": 76,
     "metadata": {},
     "output_type": "execute_result"
    }
   ],
   "source": [
    "# Change Target pameter to 1= Up, 0 = Don't up\n",
    "\n",
    "clean_stacked['Target_Ct_Ot'] = np.where(clean_stacked['chg_Ct_Ot'] > 0, 1, 0)\n",
    "clean_stacked.head()"
   ]
  },
  {
   "cell_type": "code",
   "execution_count": 77,
   "id": "a4fc1d7c",
   "metadata": {},
   "outputs": [
    {
     "name": "stdout",
     "output_type": "stream",
     "text": [
      "(1827, 4)\n",
      "(1827,)\n"
     ]
    }
   ],
   "source": [
    "# X = feature variables, y = a target variable\n",
    "\n",
    "X = clean_stacked[['VolATO1','today_jump','rt_VolATO1_PreVol','PreComp5ma']]\n",
    "y = clean_stacked['Target_Ct_Ot']\n",
    "\n",
    "print(X.shape)\n",
    "print(y.shape)"
   ]
  },
  {
   "cell_type": "code",
   "execution_count": 78,
   "id": "c6b20e25",
   "metadata": {},
   "outputs": [
    {
     "name": "stdout",
     "output_type": "stream",
     "text": [
      "X_train: (1461, 4)\n",
      "y_train: (1461,)\n",
      "X_test:  (366, 4)\n",
      "y_test:  (366,)\n"
     ]
    }
   ],
   "source": [
    "# split data 80% for train data set\n",
    "X_train, X_test, y_train, y_test = train_test_split(X, y, test_size = 0.2, random_state = 42)\n",
    "\n",
    "print(f\"X_train: {X_train.shape}\")\n",
    "print(f\"y_train: {y_train.shape}\")\n",
    "print(f\"X_test:  {X_test.shape}\")\n",
    "print(f\"y_test:  {y_test.shape}\")"
   ]
  },
  {
   "cell_type": "markdown",
   "id": "52ee556e",
   "metadata": {},
   "source": [
    "### Classification Model fitting"
   ]
  },
  {
   "cell_type": "code",
   "execution_count": 79,
   "id": "b365b8f0",
   "metadata": {},
   "outputs": [
    {
     "name": "stdout",
     "output_type": "stream",
     "text": [
      "Accuracy of DecisionTree model from train data : 1.0\n"
     ]
    }
   ],
   "source": [
    "# DecisionTree Classifier\n",
    "\n",
    "from sklearn.tree import DecisionTreeClassifier\n",
    "dt = DecisionTreeClassifier()\n",
    "dt_model = dt.fit(X_train, y_train)\n",
    "\n",
    "# Evaluate model\n",
    "dt_train_pred = dt_model.predict(X_train)\n",
    "dt_train_acc = accuracy_score(y_train, dt_train_pred)\n",
    "print(f\"Accuracy of DecisionTree model from train data : {dt_train_acc}\")"
   ]
  },
  {
   "cell_type": "code",
   "execution_count": 80,
   "id": "162c3b4d",
   "metadata": {},
   "outputs": [
    {
     "name": "stdout",
     "output_type": "stream",
     "text": [
      "Accuracy of K-Nearest Neighbors model from train data : 0.7077344284736482\n"
     ]
    }
   ],
   "source": [
    "# K-Nearest Neighbors (KNN) Classifier\n",
    "\n",
    "from sklearn.neighbors import KNeighborsClassifier\n",
    "knn = KNeighborsClassifier()\n",
    "knn_model = knn.fit(X_train, y_train)\n",
    "\n",
    "# Evaluate model\n",
    "knn_train_pred = knn_model.predict(X_train)\n",
    "knn_train_acc = accuracy_score(y_train, knn_train_pred)\n",
    "print(f\"Accuracy of K-Nearest Neighbors model from train data : {knn_train_acc}\")"
   ]
  },
  {
   "cell_type": "code",
   "execution_count": 81,
   "id": "eb529c93",
   "metadata": {},
   "outputs": [
    {
     "name": "stdout",
     "output_type": "stream",
     "text": [
      "Accuracy of K-Nearest Neighbors model from train data : 0.973990417522245\n"
     ]
    }
   ],
   "source": [
    "# Random Forest Classifier\n",
    "\n",
    "from sklearn.ensemble import RandomForestClassifier\n",
    "rf = RandomForestClassifier(n_estimators=10, random_state=42)\n",
    "rf_model = rf.fit(X_train, y_train)\n",
    "\n",
    "# Evaluate model\n",
    "rf_train_pred = rf_model.predict(X_train)\n",
    "rf_train_acc = accuracy_score(y_train, rf_train_pred)\n",
    "print(f\"Accuracy of K-Nearest Neighbors model from train data : {rf_train_acc}\")"
   ]
  },
  {
   "cell_type": "markdown",
   "id": "561ce54f",
   "metadata": {},
   "source": [
    "### Classification Model evaluation"
   ]
  },
  {
   "cell_type": "code",
   "execution_count": 82,
   "id": "2063da53",
   "metadata": {},
   "outputs": [
    {
     "name": "stdout",
     "output_type": "stream",
     "text": [
      "DecisionTree Accuracy score: 0.57\n",
      "DecisionTree Precision score: 0.57\n",
      "DecisionTree Recall score: 0.57\n",
      "DecisionTree F1 score: 0.57\n"
     ]
    }
   ],
   "source": [
    "# DecisionTree Classifier\n",
    "dt_pred = dt_model.predict(X_test)\n",
    "\n",
    "dt_acc = accuracy_score(y_test, dt_pred)\n",
    "dt_prec = precision_score(y_test, dt_pred, average='micro')\n",
    "dt_rec = recall_score(y_test, dt_pred, average='micro')\n",
    "dt_f1 = f1_score(y_test, dt_pred, average = 'micro')\n",
    "\n",
    "\n",
    "print(f\"DecisionTree Accuracy score: {round(dt_acc,2)}\")\n",
    "print(f\"DecisionTree Precision score: {round(dt_prec,2)}\")\n",
    "print(f\"DecisionTree Recall score: {round(dt_rec,2)}\")\n",
    "print(f\"DecisionTree F1 score: {round(dt_f1,2)}\")"
   ]
  },
  {
   "cell_type": "code",
   "execution_count": 83,
   "id": "86d453ca",
   "metadata": {},
   "outputs": [
    {
     "name": "stdout",
     "output_type": "stream",
     "text": [
      "K-Nearest Neighbors Accuracy score: 0.55\n",
      "K-Nearest Neighbors Precision score: 0.55\n",
      "K-Nearest Neighbors Recall score: 0.55\n",
      "K-Nearest Neighbors F1 score: 0.55\n"
     ]
    }
   ],
   "source": [
    "# K-Nearest Neighbors (KNN) Classifier\n",
    "knn_pred = knn_model.predict(X_test)\n",
    "\n",
    "knn_acc = accuracy_score(y_test, knn_pred)\n",
    "knn_prec = precision_score(y_test, knn_pred, average='micro')\n",
    "knn_rec = recall_score(y_test, knn_pred, average='micro')\n",
    "knn_f1 = f1_score(y_test, knn_pred, average = 'micro')\n",
    "\n",
    "\n",
    "print(f\"K-Nearest Neighbors Accuracy score: {round(knn_acc,2)}\")\n",
    "print(f\"K-Nearest Neighbors Precision score: {round(knn_prec,2)}\")\n",
    "print(f\"K-Nearest Neighbors Recall score: {round(knn_rec,2)}\")\n",
    "print(f\"K-Nearest Neighbors F1 score: {round(knn_f1,2)}\")"
   ]
  },
  {
   "cell_type": "code",
   "execution_count": 84,
   "id": "035def1f",
   "metadata": {},
   "outputs": [
    {
     "name": "stdout",
     "output_type": "stream",
     "text": [
      "Random Forest Accuracy score: 0.59\n",
      "Random Forest Precision score: 0.59\n",
      "Random Forest Recall score: 0.59\n",
      "Random Forest F1 score: 0.59\n"
     ]
    }
   ],
   "source": [
    "# Random Forest Classifier\n",
    "rf_pred = rf_model.predict(X_test)\n",
    "\n",
    "rf_acc = accuracy_score(y_test, rf_pred)\n",
    "rf_prec = precision_score(y_test, rf_pred, average='micro')\n",
    "rf_rec = recall_score(y_test, rf_pred, average='micro')\n",
    "rf_f1 = f1_score(y_test, rf_pred, average = 'micro')\n",
    "\n",
    "\n",
    "print(f\"Random Forest Accuracy score: {round(rf_acc,2)}\")\n",
    "print(f\"Random Forest Precision score: {round(rf_prec,2)}\")\n",
    "print(f\"Random Forest Recall score: {round(rf_rec,2)}\")\n",
    "print(f\"Random Forest F1 score: {round(rf_f1,2)}\")"
   ]
  },
  {
   "cell_type": "markdown",
   "id": "00956ef5",
   "metadata": {},
   "source": [
    "### The highest score to prediction that today closing price will be above from today opening price or not is \"Random Forest Model\". However it still low score (0.59)"
   ]
  },
  {
   "cell_type": "markdown",
   "id": "5996e4ee",
   "metadata": {},
   "source": [
    "### Idea : Can we make a profit with \"Buy today afternoon open price then Sold today closing price\"\n",
    "\n",
    "Select parameter\n",
    "- `Volume` : Today trading volumn = Yes, we can use real time trading volumn\n",
    "- `Symbol` : Stock symbol = **No, we don't**\n",
    "- `VolATO1` : Today Morning Opening volumn = Yes, we can know  \n",
    "- `VolATO2` : Afternoon Opening volumn = Yes, we can know\n",
    "- `VolATC` : At the close volumn = **No, we can't** \n",
    "- `PercentChgATC` : Percent Change of ATC price from 16:30PM price = **No, we can't**\n",
    "- `ValueATC` : Value of ATC = **No, we can't** \n",
    "- `chg_Ct_Ot1` : Percent change between today closing price and tomorow opening price = **No, we can't**\n",
    "- `chg_Ct_Ot` : Percent change between today closing price and today opening price = **No, we can't**\n",
    "- `chg_Ct_Ct1` : Percent change between today closing price and tomorow closing price = **No, we can't**\n",
    "- `today_jump` : Percent change between today morning opening price and yesterday closing price = Yes, we can know\n",
    "- `comp5ma` : Ratio of today volumn and average 5 day volumn = Yes, we can assume half day volumn change\n",
    "- `PreComp5ma` : Ratio of previous volumn and average 5 day volumn = Yes, we can know\n",
    "- `swing` : Percent swing of daily swing (high - low)/low = **No, we can't**\n",
    "- `rt_VolATO1_PreVol` : Ratio of today opening volmn in the morning and previos day volumn = Yes, we can know\n",
    "- `P_chg_ATO2_ATO1` : Percent change between Afternoon price from Morning price = Yes, we can know\n",
    "- `rt_VolATO2_VolATO1` : Ratio of Afternoon opening volumn and Morning opening volumn = Yes, we can know\n",
    "- `rt_VolATC_VolATO2` : Ratio of Closing volumn and Afternoon opening volumn  = **No, we can't**\n",
    "- `P_chg_ATC_ATO2` : Percent change between Closing price and Afternoon opening price = This is **Target**"
   ]
  },
  {
   "cell_type": "code",
   "execution_count": 85,
   "id": "9aefe5a0",
   "metadata": {},
   "outputs": [
    {
     "name": "stdout",
     "output_type": "stream",
     "text": [
      "(1827, 9)\n",
      "(1827,)\n"
     ]
    }
   ],
   "source": [
    "# X = feature variables, y = a target variable\n",
    "\n",
    "X = clean_stacked[['Volume','VolATO1','VolATO2','today_jump','comp5ma','PreComp5ma',\n",
    "                   'rt_VolATO1_PreVol','P_chg_ATO2_ATO1','rt_VolATO2_VolATO1']]\n",
    "y = clean_stacked['P_chg_ATC_ATO2']\n",
    "\n",
    "print(X.shape)\n",
    "print(y.shape)"
   ]
  },
  {
   "cell_type": "code",
   "execution_count": 86,
   "id": "79b9f8d7",
   "metadata": {},
   "outputs": [
    {
     "name": "stdout",
     "output_type": "stream",
     "text": [
      "X_train: (1461, 9)\n",
      "y_train: (1461,)\n",
      "X_test:  (366, 9)\n",
      "y_test:  (366,)\n"
     ]
    }
   ],
   "source": [
    "# split data 80% for train data set\n",
    "X_train, X_test, y_train, y_test = train_test_split(X, y, test_size = 0.2, random_state = 42)\n",
    "\n",
    "print(f\"X_train: {X_train.shape}\")\n",
    "print(f\"y_train: {y_train.shape}\")\n",
    "print(f\"X_test:  {X_test.shape}\")\n",
    "print(f\"y_test:  {y_test.shape}\")"
   ]
  },
  {
   "cell_type": "markdown",
   "id": "6e705f24",
   "metadata": {},
   "source": [
    "### Model fitting"
   ]
  },
  {
   "cell_type": "code",
   "execution_count": 87,
   "id": "3a6ff6ce",
   "metadata": {},
   "outputs": [
    {
     "name": "stderr",
     "output_type": "stream",
     "text": [
      "C:\\Users\\USER\\anaconda3\\lib\\site-packages\\sklearn\\linear_model\\_ridge.py:216: LinAlgWarning: Ill-conditioned matrix (rcond=1.42119e-19): result may not be accurate.\n",
      "  return linalg.solve(A, Xy, assume_a=\"pos\", overwrite_a=True).T\n"
     ]
    },
    {
     "data": {
      "text/html": [
       "<style>#sk-container-id-4 {color: black;background-color: white;}#sk-container-id-4 pre{padding: 0;}#sk-container-id-4 div.sk-toggleable {background-color: white;}#sk-container-id-4 label.sk-toggleable__label {cursor: pointer;display: block;width: 100%;margin-bottom: 0;padding: 0.3em;box-sizing: border-box;text-align: center;}#sk-container-id-4 label.sk-toggleable__label-arrow:before {content: \"▸\";float: left;margin-right: 0.25em;color: #696969;}#sk-container-id-4 label.sk-toggleable__label-arrow:hover:before {color: black;}#sk-container-id-4 div.sk-estimator:hover label.sk-toggleable__label-arrow:before {color: black;}#sk-container-id-4 div.sk-toggleable__content {max-height: 0;max-width: 0;overflow: hidden;text-align: left;background-color: #f0f8ff;}#sk-container-id-4 div.sk-toggleable__content pre {margin: 0.2em;color: black;border-radius: 0.25em;background-color: #f0f8ff;}#sk-container-id-4 input.sk-toggleable__control:checked~div.sk-toggleable__content {max-height: 200px;max-width: 100%;overflow: auto;}#sk-container-id-4 input.sk-toggleable__control:checked~label.sk-toggleable__label-arrow:before {content: \"▾\";}#sk-container-id-4 div.sk-estimator input.sk-toggleable__control:checked~label.sk-toggleable__label {background-color: #d4ebff;}#sk-container-id-4 div.sk-label input.sk-toggleable__control:checked~label.sk-toggleable__label {background-color: #d4ebff;}#sk-container-id-4 input.sk-hidden--visually {border: 0;clip: rect(1px 1px 1px 1px);clip: rect(1px, 1px, 1px, 1px);height: 1px;margin: -1px;overflow: hidden;padding: 0;position: absolute;width: 1px;}#sk-container-id-4 div.sk-estimator {font-family: monospace;background-color: #f0f8ff;border: 1px dotted black;border-radius: 0.25em;box-sizing: border-box;margin-bottom: 0.5em;}#sk-container-id-4 div.sk-estimator:hover {background-color: #d4ebff;}#sk-container-id-4 div.sk-parallel-item::after {content: \"\";width: 100%;border-bottom: 1px solid gray;flex-grow: 1;}#sk-container-id-4 div.sk-label:hover label.sk-toggleable__label {background-color: #d4ebff;}#sk-container-id-4 div.sk-serial::before {content: \"\";position: absolute;border-left: 1px solid gray;box-sizing: border-box;top: 0;bottom: 0;left: 50%;z-index: 0;}#sk-container-id-4 div.sk-serial {display: flex;flex-direction: column;align-items: center;background-color: white;padding-right: 0.2em;padding-left: 0.2em;position: relative;}#sk-container-id-4 div.sk-item {position: relative;z-index: 1;}#sk-container-id-4 div.sk-parallel {display: flex;align-items: stretch;justify-content: center;background-color: white;position: relative;}#sk-container-id-4 div.sk-item::before, #sk-container-id-4 div.sk-parallel-item::before {content: \"\";position: absolute;border-left: 1px solid gray;box-sizing: border-box;top: 0;bottom: 0;left: 50%;z-index: -1;}#sk-container-id-4 div.sk-parallel-item {display: flex;flex-direction: column;z-index: 1;position: relative;background-color: white;}#sk-container-id-4 div.sk-parallel-item:first-child::after {align-self: flex-end;width: 50%;}#sk-container-id-4 div.sk-parallel-item:last-child::after {align-self: flex-start;width: 50%;}#sk-container-id-4 div.sk-parallel-item:only-child::after {width: 0;}#sk-container-id-4 div.sk-dashed-wrapped {border: 1px dashed gray;margin: 0 0.4em 0.5em 0.4em;box-sizing: border-box;padding-bottom: 0.4em;background-color: white;}#sk-container-id-4 div.sk-label label {font-family: monospace;font-weight: bold;display: inline-block;line-height: 1.2em;}#sk-container-id-4 div.sk-label-container {text-align: center;}#sk-container-id-4 div.sk-container {/* jupyter's `normalize.less` sets `[hidden] { display: none; }` but bootstrap.min.css set `[hidden] { display: none !important; }` so we also need the `!important` here to be able to override the default hidden behavior on the sphinx rendered scikit-learn.org. See: https://github.com/scikit-learn/scikit-learn/issues/21755 */display: inline-block !important;position: relative;}#sk-container-id-4 div.sk-text-repr-fallback {display: none;}</style><div id=\"sk-container-id-4\" class=\"sk-top-container\"><div class=\"sk-text-repr-fallback\"><pre>ElasticNet(alpha=0.01)</pre><b>In a Jupyter environment, please rerun this cell to show the HTML representation or trust the notebook. <br />On GitHub, the HTML representation is unable to render, please try loading this page with nbviewer.org.</b></div><div class=\"sk-container\" hidden><div class=\"sk-item\"><div class=\"sk-estimator sk-toggleable\"><input class=\"sk-toggleable__control sk-hidden--visually\" id=\"sk-estimator-id-4\" type=\"checkbox\" checked><label for=\"sk-estimator-id-4\" class=\"sk-toggleable__label sk-toggleable__label-arrow\">ElasticNet</label><div class=\"sk-toggleable__content\"><pre>ElasticNet(alpha=0.01)</pre></div></div></div></div></div>"
      ],
      "text/plain": [
       "ElasticNet(alpha=0.01)"
      ]
     },
     "execution_count": 87,
     "metadata": {},
     "output_type": "execute_result"
    }
   ],
   "source": [
    "# Linear regression\n",
    "li_model = LinearRegression()\n",
    "li_model.fit(X_train, y_train)\n",
    "\n",
    "# Logistic regression\n",
    "logis_model = LinearRegression()\n",
    "logis_model.fit(X_train, y_train)\n",
    "\n",
    "# Ridge Regression\n",
    "ridge_model = Ridge(alpha=0.01)\n",
    "ridge_model.fit(X_train, y_train)\n",
    "\n",
    "# Lasso Regression\n",
    "lasso_model = Lasso(alpha=0.01)\n",
    "lasso_model.fit(X_train, y_train)\n",
    "\n",
    "# ElasticNet Regression\n",
    "enet_model = ElasticNet(alpha = 0.01)\n",
    "enet_model.fit(X_train, y_train)"
   ]
  },
  {
   "cell_type": "markdown",
   "id": "5a223749",
   "metadata": {},
   "source": [
    "### Model evaluation"
   ]
  },
  {
   "cell_type": "code",
   "execution_count": 88,
   "id": "fff63614",
   "metadata": {},
   "outputs": [
    {
     "name": "stdout",
     "output_type": "stream",
     "text": [
      "RMSE from Linear model : 0.0097\n",
      "R-squared from Linear model : -0.027\n",
      "\n",
      "RMSE from Logistic model : 0.0097\n",
      "R-squared from Logistic model : -0.027\n",
      "\n",
      "RMSE from Ridge model : 0.0097\n",
      "R-squared from Ridge model : -0.0267\n",
      "\n",
      "RMSE from Lasso model : 0.0096\n",
      "R-squared from Lasso model : -0.0079\n",
      "\n",
      "RMSE from ElasticNet model : 0.0096\n",
      "R-squared from ElasticNet model : -0.0079\n"
     ]
    }
   ],
   "source": [
    "# Linear regression\n",
    "pred_li_test = li_model.predict(X_test)\n",
    "rmse_li = mean_squared_error(y_test, pred_li_test, squared=False).round(4)\n",
    "test_r2_li = li_model.score(X_test, y_test).round(4)\n",
    "print(f\"RMSE from Linear model : {rmse_li}\")\n",
    "print(f\"R-squared from Linear model : {test_r2_li}\")\n",
    "\n",
    "# Logistic regression\n",
    "pred_logis_test = logis_model.predict(X_test)\n",
    "rmse_logis = mean_squared_error(y_test, pred_logis_test, squared=False).round(4)\n",
    "test_r2_logis = logis_model.score(X_test, y_test).round(4)\n",
    "print(f\"\\nRMSE from Logistic model : {rmse_logis}\")\n",
    "print(f\"R-squared from Logistic model : {test_r2_logis}\")\n",
    "\n",
    "# Ridge Regression\n",
    "pred_ridge_test = ridge_model.predict(X_test)\n",
    "rmse_ridge = mean_squared_error(y_test, pred_ridge_test, squared=False).round(4)\n",
    "test_r2_ridge = ridge_model.score(X_test, y_test).round(4)\n",
    "print(f\"\\nRMSE from Ridge model : {rmse_ridge}\")\n",
    "print(f\"R-squared from Ridge model : {test_r2_ridge}\")\n",
    "\n",
    "# Lasso Regression\n",
    "pred_lasso_test = lasso_model.predict(X_test)\n",
    "rmse_lasso = mean_squared_error(y_test, pred_lasso_test, squared=False).round(4)\n",
    "test_r2_lasso = lasso_model.score(X_test, y_test).round(4)\n",
    "print(f\"\\nRMSE from Lasso model : {rmse_lasso}\")\n",
    "print(f\"R-squared from Lasso model : {test_r2_lasso}\")\n",
    "\n",
    "# ElasticNet Regression\n",
    "pred_enet_test = enet_model.predict(X_test)\n",
    "rmse_enet = mean_squared_error(y_test, pred_enet_test, squared=False).round(4)\n",
    "test_r2_enet = enet_model.score(X_test, y_test).round(4)\n",
    "print(f\"\\nRMSE from ElasticNet model : {rmse_enet}\")\n",
    "print(f\"R-squared from ElasticNet model : {test_r2_enet}\")"
   ]
  },
  {
   "cell_type": "markdown",
   "id": "923cba75",
   "metadata": {},
   "source": [
    "#### Very low R-squared it mean the model is performing slightly worse "
   ]
  },
  {
   "cell_type": "markdown",
   "id": "2b675a40",
   "metadata": {},
   "source": [
    "#### So I just want to know today closing price are up or down from today aftermoon opening price. Test by classification model"
   ]
  },
  {
   "cell_type": "code",
   "execution_count": 89,
   "id": "2adc1a3e",
   "metadata": {},
   "outputs": [
    {
     "data": {
      "text/html": [
       "<div>\n",
       "<style scoped>\n",
       "    .dataframe tbody tr th:only-of-type {\n",
       "        vertical-align: middle;\n",
       "    }\n",
       "\n",
       "    .dataframe tbody tr th {\n",
       "        vertical-align: top;\n",
       "    }\n",
       "\n",
       "    .dataframe thead th {\n",
       "        text-align: right;\n",
       "    }\n",
       "</style>\n",
       "<table border=\"1\" class=\"dataframe\">\n",
       "  <thead>\n",
       "    <tr style=\"text-align: right;\">\n",
       "      <th></th>\n",
       "      <th>Volume</th>\n",
       "      <th>Symbol</th>\n",
       "      <th>VolATO1</th>\n",
       "      <th>VolATO2</th>\n",
       "      <th>VolATC</th>\n",
       "      <th>PercentChgATC</th>\n",
       "      <th>ValueATC</th>\n",
       "      <th>chg_Ct_Ot1</th>\n",
       "      <th>today_jump</th>\n",
       "      <th>chg_Ct_Ot</th>\n",
       "      <th>...</th>\n",
       "      <th>comp5ma</th>\n",
       "      <th>PreComp5ma</th>\n",
       "      <th>swing</th>\n",
       "      <th>P_chg_ATO2_ATO1</th>\n",
       "      <th>P_chg_ATC_ATO2</th>\n",
       "      <th>rt_VolATO2_VolATO1</th>\n",
       "      <th>rt_VolATO1_PreVol</th>\n",
       "      <th>rt_VolATC_VolATO2</th>\n",
       "      <th>Target_Ct_Ot</th>\n",
       "      <th>Target_Ct_ATO2</th>\n",
       "    </tr>\n",
       "  </thead>\n",
       "  <tbody>\n",
       "    <tr>\n",
       "      <th>5</th>\n",
       "      <td>4578400</td>\n",
       "      <td>DELTA</td>\n",
       "      <td>68500.0</td>\n",
       "      <td>15100.0</td>\n",
       "      <td>288600.0</td>\n",
       "      <td>0.55</td>\n",
       "      <td>210678000.0</td>\n",
       "      <td>0.0137</td>\n",
       "      <td>0.0275</td>\n",
       "      <td>-0.0214</td>\n",
       "      <td>...</td>\n",
       "      <td>0.9872</td>\n",
       "      <td>2.1589</td>\n",
       "      <td>0.0912</td>\n",
       "      <td>-0.0027</td>\n",
       "      <td>-0.0188</td>\n",
       "      <td>0.2204</td>\n",
       "      <td>0.0082</td>\n",
       "      <td>19.1126</td>\n",
       "      <td>0</td>\n",
       "      <td>0</td>\n",
       "    </tr>\n",
       "    <tr>\n",
       "      <th>8</th>\n",
       "      <td>2553000</td>\n",
       "      <td>DELTA</td>\n",
       "      <td>18800.0</td>\n",
       "      <td>24400.0</td>\n",
       "      <td>500.0</td>\n",
       "      <td>0.53</td>\n",
       "      <td>382000.0</td>\n",
       "      <td>-0.0104</td>\n",
       "      <td>-0.0027</td>\n",
       "      <td>0.0378</td>\n",
       "      <td>...</td>\n",
       "      <td>0.6160</td>\n",
       "      <td>0.4331</td>\n",
       "      <td>0.0488</td>\n",
       "      <td>0.0243</td>\n",
       "      <td>0.0079</td>\n",
       "      <td>1.2979</td>\n",
       "      <td>0.0087</td>\n",
       "      <td>0.0205</td>\n",
       "      <td>1</td>\n",
       "      <td>1</td>\n",
       "    </tr>\n",
       "    <tr>\n",
       "      <th>9</th>\n",
       "      <td>1959800</td>\n",
       "      <td>DELTA</td>\n",
       "      <td>40200.0</td>\n",
       "      <td>6100.0</td>\n",
       "      <td>109700.0</td>\n",
       "      <td>-0.53</td>\n",
       "      <td>81616800.0</td>\n",
       "      <td>0.0242</td>\n",
       "      <td>-0.0104</td>\n",
       "      <td>-0.0211</td>\n",
       "      <td>...</td>\n",
       "      <td>0.6855</td>\n",
       "      <td>0.6160</td>\n",
       "      <td>0.0430</td>\n",
       "      <td>-0.0053</td>\n",
       "      <td>-0.0159</td>\n",
       "      <td>0.1517</td>\n",
       "      <td>0.0157</td>\n",
       "      <td>17.9836</td>\n",
       "      <td>0</td>\n",
       "      <td>0</td>\n",
       "    </tr>\n",
       "    <tr>\n",
       "      <th>10</th>\n",
       "      <td>1560900</td>\n",
       "      <td>DELTA</td>\n",
       "      <td>38600.0</td>\n",
       "      <td>16100.0</td>\n",
       "      <td>123300.0</td>\n",
       "      <td>0.00</td>\n",
       "      <td>93708000.0</td>\n",
       "      <td>-0.0053</td>\n",
       "      <td>0.0242</td>\n",
       "      <td>-0.0026</td>\n",
       "      <td>...</td>\n",
       "      <td>0.6921</td>\n",
       "      <td>0.6855</td>\n",
       "      <td>0.0293</td>\n",
       "      <td>0.0079</td>\n",
       "      <td>-0.0104</td>\n",
       "      <td>0.4171</td>\n",
       "      <td>0.0197</td>\n",
       "      <td>7.6584</td>\n",
       "      <td>0</td>\n",
       "      <td>0</td>\n",
       "    </tr>\n",
       "    <tr>\n",
       "      <th>16</th>\n",
       "      <td>2686800</td>\n",
       "      <td>DELTA</td>\n",
       "      <td>69600.0</td>\n",
       "      <td>15000.0</td>\n",
       "      <td>213000.0</td>\n",
       "      <td>0.00</td>\n",
       "      <td>118428000.0</td>\n",
       "      <td>-0.0072</td>\n",
       "      <td>0.0071</td>\n",
       "      <td>-0.0246</td>\n",
       "      <td>...</td>\n",
       "      <td>0.5568</td>\n",
       "      <td>0.9726</td>\n",
       "      <td>0.0325</td>\n",
       "      <td>-0.0175</td>\n",
       "      <td>-0.0071</td>\n",
       "      <td>0.2155</td>\n",
       "      <td>0.0141</td>\n",
       "      <td>14.2000</td>\n",
       "      <td>0</td>\n",
       "      <td>0</td>\n",
       "    </tr>\n",
       "  </tbody>\n",
       "</table>\n",
       "<p>5 rows × 21 columns</p>\n",
       "</div>"
      ],
      "text/plain": [
       "     Volume Symbol  VolATO1  VolATO2    VolATC  PercentChgATC     ValueATC  \\\n",
       "5   4578400  DELTA  68500.0  15100.0  288600.0           0.55  210678000.0   \n",
       "8   2553000  DELTA  18800.0  24400.0     500.0           0.53     382000.0   \n",
       "9   1959800  DELTA  40200.0   6100.0  109700.0          -0.53   81616800.0   \n",
       "10  1560900  DELTA  38600.0  16100.0  123300.0           0.00   93708000.0   \n",
       "16  2686800  DELTA  69600.0  15000.0  213000.0           0.00  118428000.0   \n",
       "\n",
       "    chg_Ct_Ot1  today_jump  chg_Ct_Ot  ...  comp5ma  PreComp5ma   swing  \\\n",
       "5       0.0137      0.0275    -0.0214  ...   0.9872      2.1589  0.0912   \n",
       "8      -0.0104     -0.0027     0.0378  ...   0.6160      0.4331  0.0488   \n",
       "9       0.0242     -0.0104    -0.0211  ...   0.6855      0.6160  0.0430   \n",
       "10     -0.0053      0.0242    -0.0026  ...   0.6921      0.6855  0.0293   \n",
       "16     -0.0072      0.0071    -0.0246  ...   0.5568      0.9726  0.0325   \n",
       "\n",
       "    P_chg_ATO2_ATO1  P_chg_ATC_ATO2  rt_VolATO2_VolATO1  rt_VolATO1_PreVol  \\\n",
       "5           -0.0027         -0.0188              0.2204             0.0082   \n",
       "8            0.0243          0.0079              1.2979             0.0087   \n",
       "9           -0.0053         -0.0159              0.1517             0.0157   \n",
       "10           0.0079         -0.0104              0.4171             0.0197   \n",
       "16          -0.0175         -0.0071              0.2155             0.0141   \n",
       "\n",
       "    rt_VolATC_VolATO2  Target_Ct_Ot  Target_Ct_ATO2  \n",
       "5             19.1126             0               0  \n",
       "8              0.0205             1               1  \n",
       "9             17.9836             0               0  \n",
       "10             7.6584             0               0  \n",
       "16            14.2000             0               0  \n",
       "\n",
       "[5 rows x 21 columns]"
      ]
     },
     "execution_count": 89,
     "metadata": {},
     "output_type": "execute_result"
    }
   ],
   "source": [
    "# Change Target pameter to 1= Up, 0 = Don't up\n",
    "\n",
    "clean_stacked['Target_Ct_ATO2'] = np.where(clean_stacked['P_chg_ATC_ATO2'] > 0, 1, 0)\n",
    "clean_stacked.head()"
   ]
  },
  {
   "cell_type": "code",
   "execution_count": 90,
   "id": "52cfc63e",
   "metadata": {},
   "outputs": [
    {
     "name": "stdout",
     "output_type": "stream",
     "text": [
      "(1827, 9)\n",
      "(1827,)\n"
     ]
    }
   ],
   "source": [
    "# X = feature variables, y = a target variable\n",
    "\n",
    "X = clean_stacked[['Volume','VolATO1','VolATO2','today_jump','comp5ma','PreComp5ma',\n",
    "                   'rt_VolATO1_PreVol','P_chg_ATO2_ATO1','rt_VolATO2_VolATO1']]\n",
    "y = clean_stacked['Target_Ct_ATO2']\n",
    "\n",
    "print(X.shape)\n",
    "print(y.shape)"
   ]
  },
  {
   "cell_type": "code",
   "execution_count": 91,
   "id": "4f4fb9ad",
   "metadata": {},
   "outputs": [
    {
     "name": "stdout",
     "output_type": "stream",
     "text": [
      "X_train: (1461, 9)\n",
      "y_train: (1461,)\n",
      "X_test:  (366, 9)\n",
      "y_test:  (366,)\n"
     ]
    }
   ],
   "source": [
    "# split data 80% for train data set\n",
    "X_train, X_test, y_train, y_test = train_test_split(X, y, test_size = 0.2, random_state = 42)\n",
    "\n",
    "print(f\"X_train: {X_train.shape}\")\n",
    "print(f\"y_train: {y_train.shape}\")\n",
    "print(f\"X_test:  {X_test.shape}\")\n",
    "print(f\"y_test:  {y_test.shape}\")"
   ]
  },
  {
   "cell_type": "markdown",
   "id": "16f71df5",
   "metadata": {},
   "source": [
    "### Classification Model fitting"
   ]
  },
  {
   "cell_type": "code",
   "execution_count": 92,
   "id": "3ecf0c97",
   "metadata": {},
   "outputs": [
    {
     "name": "stdout",
     "output_type": "stream",
     "text": [
      "Accuracy of DecisionTree model from train data : 1.0\n"
     ]
    }
   ],
   "source": [
    "# DecisionTree Classifier\n",
    "\n",
    "from sklearn.tree import DecisionTreeClassifier\n",
    "dt = DecisionTreeClassifier()\n",
    "dt_model = dt.fit(X_train, y_train)\n",
    "\n",
    "# Evaluate model\n",
    "dt_train_pred = dt_model.predict(X_train)\n",
    "dt_train_acc = accuracy_score(y_train, dt_train_pred)\n",
    "print(f\"Accuracy of DecisionTree model from train data : {dt_train_acc}\")"
   ]
  },
  {
   "cell_type": "code",
   "execution_count": 93,
   "id": "50dbd304",
   "metadata": {},
   "outputs": [
    {
     "name": "stdout",
     "output_type": "stream",
     "text": [
      "Accuracy of K-Nearest Neighbors model from train data : 0.7193702943189596\n"
     ]
    }
   ],
   "source": [
    "# K-Nearest Neighbors (KNN) Classifier\n",
    "\n",
    "from sklearn.neighbors import KNeighborsClassifier\n",
    "knn = KNeighborsClassifier()\n",
    "knn_model = knn.fit(X_train, y_train)\n",
    "\n",
    "# Evaluate model\n",
    "knn_train_pred = knn_model.predict(X_train)\n",
    "knn_train_acc = accuracy_score(y_train, knn_train_pred)\n",
    "print(f\"Accuracy of K-Nearest Neighbors model from train data : {knn_train_acc}\")"
   ]
  },
  {
   "cell_type": "code",
   "execution_count": 94,
   "id": "4626b697",
   "metadata": {},
   "outputs": [
    {
     "name": "stdout",
     "output_type": "stream",
     "text": [
      "Accuracy of K-Nearest Neighbors model from train data : 0.9774127310061602\n"
     ]
    }
   ],
   "source": [
    "# Random Forest Classifier\n",
    "\n",
    "from sklearn.ensemble import RandomForestClassifier\n",
    "rf = RandomForestClassifier(n_estimators=10, random_state=42)\n",
    "rf_model = rf.fit(X_train, y_train)\n",
    "\n",
    "# Evaluate model\n",
    "rf_train_pred = rf_model.predict(X_train)\n",
    "rf_train_acc = accuracy_score(y_train, rf_train_pred)\n",
    "print(f\"Accuracy of K-Nearest Neighbors model from train data : {rf_train_acc}\")"
   ]
  },
  {
   "cell_type": "markdown",
   "id": "f0304672",
   "metadata": {},
   "source": [
    "### Classification Model evaluation"
   ]
  },
  {
   "cell_type": "code",
   "execution_count": 95,
   "id": "6098a260",
   "metadata": {},
   "outputs": [
    {
     "name": "stdout",
     "output_type": "stream",
     "text": [
      "DecisionTree Accuracy score: 0.56\n",
      "DecisionTree Precision score: 0.56\n",
      "DecisionTree Recall score: 0.56\n",
      "DecisionTree F1 score: 0.56\n"
     ]
    }
   ],
   "source": [
    "# DecisionTree Classifier\n",
    "dt_pred = dt_model.predict(X_test)\n",
    "\n",
    "dt_acc = accuracy_score(y_test, dt_pred)\n",
    "dt_prec = precision_score(y_test, dt_pred, average='micro')\n",
    "dt_rec = recall_score(y_test, dt_pred, average='micro')\n",
    "dt_f1 = f1_score(y_test, dt_pred, average = 'micro')\n",
    "\n",
    "\n",
    "print(f\"DecisionTree Accuracy score: {round(dt_acc,2)}\")\n",
    "print(f\"DecisionTree Precision score: {round(dt_prec,2)}\")\n",
    "print(f\"DecisionTree Recall score: {round(dt_rec,2)}\")\n",
    "print(f\"DecisionTree F1 score: {round(dt_f1,2)}\")"
   ]
  },
  {
   "cell_type": "code",
   "execution_count": 96,
   "id": "1e7c724c",
   "metadata": {},
   "outputs": [
    {
     "name": "stdout",
     "output_type": "stream",
     "text": [
      "K-Nearest Neighbors Accuracy score: 0.57\n",
      "K-Nearest Neighbors Precision score: 0.57\n",
      "K-Nearest Neighbors Recall score: 0.57\n",
      "K-Nearest Neighbors F1 score: 0.57\n"
     ]
    }
   ],
   "source": [
    "# K-Nearest Neighbors (KNN) Classifier\n",
    "knn_pred = knn_model.predict(X_test)\n",
    "\n",
    "knn_acc = accuracy_score(y_test, knn_pred)\n",
    "knn_prec = precision_score(y_test, knn_pred, average='micro')\n",
    "knn_rec = recall_score(y_test, knn_pred, average='micro')\n",
    "knn_f1 = f1_score(y_test, knn_pred, average = 'micro')\n",
    "\n",
    "\n",
    "print(f\"K-Nearest Neighbors Accuracy score: {round(knn_acc,2)}\")\n",
    "print(f\"K-Nearest Neighbors Precision score: {round(knn_prec,2)}\")\n",
    "print(f\"K-Nearest Neighbors Recall score: {round(knn_rec,2)}\")\n",
    "print(f\"K-Nearest Neighbors F1 score: {round(knn_f1,2)}\")"
   ]
  },
  {
   "cell_type": "code",
   "execution_count": 97,
   "id": "1cfc556f",
   "metadata": {},
   "outputs": [
    {
     "name": "stdout",
     "output_type": "stream",
     "text": [
      "Random Forest Accuracy score: 0.62\n",
      "Random Forest Precision score: 0.62\n",
      "Random Forest Recall score: 0.62\n",
      "Random Forest F1 score: 0.62\n"
     ]
    }
   ],
   "source": [
    "# Random Forest Classifier\n",
    "rf_pred = rf_model.predict(X_test)\n",
    "\n",
    "rf_acc = accuracy_score(y_test, rf_pred)\n",
    "rf_prec = precision_score(y_test, rf_pred, average='micro')\n",
    "rf_rec = recall_score(y_test, rf_pred, average='micro')\n",
    "rf_f1 = f1_score(y_test, rf_pred, average = 'micro')\n",
    "\n",
    "\n",
    "print(f\"Random Forest Accuracy score: {round(rf_acc,2)}\")\n",
    "print(f\"Random Forest Precision score: {round(rf_prec,2)}\")\n",
    "print(f\"Random Forest Recall score: {round(rf_rec,2)}\")\n",
    "print(f\"Random Forest F1 score: {round(rf_f1,2)}\")"
   ]
  },
  {
   "cell_type": "markdown",
   "id": "d8e7e230",
   "metadata": {},
   "source": [
    "### The highest score to prediction that today closing price will be above from today afternoon opening price or not is \"Random Forest\" model. However it still low score (0.62)"
   ]
  },
  {
   "cell_type": "markdown",
   "id": "a82cb4bd",
   "metadata": {},
   "source": [
    "## Conclusion\n",
    "\n",
    "Forth idea\n",
    "- If I want to buy this day then sold tomorrow open?\n",
    "- If I want to buy this day then sold tomorrow close?\n",
    "- If I want to buy today open then sold today close?\n",
    "- If I want to buy today afternoon open then sold today close?\n",
    "\n",
    "The fourth idea that involved predicting stock prices based on various buying and selling strategies did not yield successful results. The evaluation score was still low. However, this could potentially be improved by increasing the dataset size as the current dataset only contains 363 data points."
   ]
  },
  {
   "cell_type": "markdown",
   "id": "2884c323",
   "metadata": {},
   "source": [
    "## But...."
   ]
  },
  {
   "cell_type": "code",
   "execution_count": 98,
   "id": "9a504c2a",
   "metadata": {},
   "outputs": [
    {
     "name": "stdout",
     "output_type": "stream",
     "text": [
      "<class 'pandas.core.frame.DataFrame'>\n",
      "Int64Index: 1827 entries, 5 to 403\n",
      "Data columns (total 19 columns):\n",
      " #   Column              Non-Null Count  Dtype  \n",
      "---  ------              --------------  -----  \n",
      " 0   Volume              1827 non-null   int64  \n",
      " 1   Symbol              1827 non-null   object \n",
      " 2   VolATO1             1827 non-null   float64\n",
      " 3   VolATO2             1827 non-null   float64\n",
      " 4   VolATC              1827 non-null   float64\n",
      " 5   PercentChgATC       1827 non-null   float64\n",
      " 6   ValueATC            1827 non-null   float64\n",
      " 7   chg_Ct_Ot1          1827 non-null   float64\n",
      " 8   today_jump          1827 non-null   float64\n",
      " 9   chg_Ct_Ot           1827 non-null   float64\n",
      " 10  chg_Ct_Ct1          1827 non-null   float64\n",
      " 11  comp5ma             1827 non-null   float64\n",
      " 12  PreComp5ma          1827 non-null   float64\n",
      " 13  swing               1827 non-null   float64\n",
      " 14  P_chg_ATO2_ATO1     1827 non-null   float64\n",
      " 15  P_chg_ATC_ATO2      1827 non-null   float64\n",
      " 16  rt_VolATO2_VolATO1  1827 non-null   float64\n",
      " 17  rt_VolATO1_PreVol   1827 non-null   float64\n",
      " 18  rt_VolATC_VolATO2   1827 non-null   float64\n",
      "dtypes: float64(17), int64(1), object(1)\n",
      "memory usage: 285.5+ KB\n"
     ]
    }
   ],
   "source": [
    "# Drop temporary column\n",
    "\n",
    "del clean_stacked['Target_Ct_Ot']\n",
    "del clean_stacked['Target_Ct_ATO2']\n",
    "clean_stacked.info()"
   ]
  },
  {
   "cell_type": "code",
   "execution_count": 99,
   "id": "4f44e479",
   "metadata": {},
   "outputs": [
    {
     "name": "stderr",
     "output_type": "stream",
     "text": [
      "C:\\Users\\USER\\AppData\\Local\\Temp\\ipykernel_8112\\1785648429.py:7: FutureWarning: The default value of numeric_only in DataFrame.corr is deprecated. In a future version, it will default to False. Select only valid columns or specify the value of numeric_only to silence this warning.\n",
      "  sns.heatmap(clean_stacked.corr(),annot=True,cmap='hot')\n"
     ]
    },
    {
     "data": {
      "text/plain": [
       "<Axes: >"
      ]
     },
     "execution_count": 99,
     "metadata": {},
     "output_type": "execute_result"
    },
    {
     "data": {
      "image/png": "[encoded data removed]",
      "text/plain": [
       "<Figure size 1500x700 with 2 Axes>"
      ]
     },
     "metadata": {},
     "output_type": "display_data"
    }
   ],
   "source": [
    "# Correlation matrix\n",
    "\n",
    "import seaborn as sns\n",
    "import matplotlib.pyplot as plt\n",
    "\n",
    "plt.figure(figsize=(15,7))\n",
    "sns.heatmap(clean_stacked.corr(),annot=True,cmap='hot')"
   ]
  },
  {
   "cell_type": "markdown",
   "id": "0738d879",
   "metadata": {},
   "source": [
    "#### However, when I looked at the correlation heatmap, I found a strong positive correlation (0.84) between `P_chg_ATO2_ATO1` and `chg_Ct_Ot`. This means that if the afternoon opening price increases from the morning opening price, the closing price will also increase from the morning opening price."
   ]
  },
  {
   "cell_type": "code",
   "execution_count": 100,
   "id": "28e9fc5c",
   "metadata": {},
   "outputs": [
    {
     "data": {
      "image/png": "[encoded data removed]",
      "text/plain": [
       "<Figure size 640x480 with 1 Axes>"
      ]
     },
     "metadata": {},
     "output_type": "display_data"
    }
   ],
   "source": [
    "import numpy as np\n",
    "from scipy import stats\n",
    "\n",
    "# Create a scatter plot\n",
    "plt.scatter(clean_stacked['P_chg_ATO2_ATO1'], clean_stacked['chg_Ct_Ot'])\n",
    "\n",
    "# Perform linear regression\n",
    "slope, intercept, r_value, p_value, std_err = stats.linregress(clean_stacked['P_chg_ATO2_ATO1'], clean_stacked['chg_Ct_Ot'])\n",
    "\n",
    "# Create line equation\n",
    "line_eq = \"y = \" + str(round(slope,2)) + \"x + \" + str(round(intercept,2))\n",
    "\n",
    "# Add trend line\n",
    "plt.plot(clean_stacked['P_chg_ATO2_ATO1'], intercept + slope*clean_stacked['P_chg_ATO2_ATO1'], 'r', label='y={:.2f}x+{:.2f}'.format(slope,intercept))\n",
    "\n",
    "# Set the x and y axis labels\n",
    "plt.xlabel('%Chage of ATO2 Price and ATO1 Price')\n",
    "plt.ylabel('%Chage of Close Price and Open Price')\n",
    "\n",
    "# Set the plot title and legend\n",
    "plt.title('Scatter plot with trend line')\n",
    "plt.legend()\n",
    "\n",
    "# Add equation to the plot\n",
    "plt.annotate(line_eq, xy=(0.05, 0.95), xycoords='axes fraction', fontsize=12, color='r')\n",
    "\n",
    "# Show the plot\n",
    "plt.show()\n"
   ]
  },
  {
   "cell_type": "markdown",
   "id": "ac976828",
   "metadata": {},
   "source": [
    "The linear equation is \n",
    "    \n",
    "    y = 1.03x\n",
    "    \n",
    "    - where y represents the percentage change of today's closing price from today's morning opening price and \n",
    "    - x represents the percentage change of afternoon opening price from today's morning opening price.\n",
    "\n",
    "Example:\n",
    "\n",
    "- If we know that the afternoon opening price has increased by 2% from the morning opening price.\n",
    "- Then, y = 1.03 x 2% = 2.06%, meaning the closing price may increase by 2.26% from the morning opening price.\n",
    "- Now that the afternoon opening price has already risen by 2%, we can expect a remaining probability of 0.06% for the closing price to be higher than the afternoon opening price.\n",
    "- Therefore, we can buy ATO2 and sell ATC to expect a profit of 0.06%.    "
   ]
  },
  {
   "cell_type": "code",
   "execution_count": 101,
   "id": "17f03c16",
   "metadata": {},
   "outputs": [
    {
     "name": "stdout",
     "output_type": "stream",
     "text": [
      "RMSE : 0.0097\n",
      "R-squared : 0.705\n"
     ]
    }
   ],
   "source": [
    "# Find RMSE and R-squared\n",
    "\n",
    "Predict = clean_stacked['P_chg_ATO2_ATO1']*1.03\n",
    "Real = clean_stacked['chg_Ct_Ot']\n",
    "\n",
    "# Calculate\n",
    "\n",
    "from sklearn.metrics import r2_score\n",
    "rmse = mean_squared_error(Real, Predict, squared=False).round(4)\n",
    "r_squared = r2_score(Real, Predict).round(4)\n",
    "\n",
    "print(f\"RMSE : {rmse}\")\n",
    "print(f\"R-squared : {r_squared}\")"
   ]
  },
  {
   "cell_type": "code",
   "execution_count": 102,
   "id": "c0ca66eb",
   "metadata": {},
   "outputs": [
    {
     "name": "stdout",
     "output_type": "stream",
     "text": [
      "Mean of Predict diff from Real: -0.025\n",
      "Variance of Predict diff from Real: 0.9465\n"
     ]
    }
   ],
   "source": [
    "# Calculate the variance\n",
    "diff = (Predict-Real)*100\n",
    "mean = round(np.mean(diff),4)\n",
    "variance = round(np.var(diff),4)\n",
    "\n",
    "print(\"Mean of Predict diff from Real:\", mean)\n",
    "print(\"Variance of Predict diff from Real:\", variance)\n"
   ]
  },
  {
   "cell_type": "code",
   "execution_count": 103,
   "id": "1e0e6b24",
   "metadata": {},
   "outputs": [
    {
     "data": {
      "image/png": "[encoded data removed]",
      "text/plain": [
       "<Figure size 640x480 with 1 Axes>"
      ]
     },
     "metadata": {},
     "output_type": "display_data"
    }
   ],
   "source": [
    "# PLot boxplot\n",
    "\n",
    "import matplotlib.pyplot as plt\n",
    "\n",
    "# plot the boxplot\n",
    "plt.boxplot(diff)\n",
    "\n",
    "# add labels and title\n",
    "plt.xlabel('Data')\n",
    "plt.ylabel('% Diff')\n",
    "plt.title('Boxplot of Predict diff from Real')\n",
    "\n",
    "# display the plot\n",
    "plt.show()"
   ]
  },
  {
   "cell_type": "markdown",
   "id": "d7632178",
   "metadata": {},
   "source": [
    "# Next"
   ]
  },
  {
   "cell_type": "markdown",
   "id": "353f33c8",
   "metadata": {},
   "source": [
    "Now we will be focus only 2 paraemter `P_chg_ATO2_ATO1` and `chg_Ct_Ot`. "
   ]
  },
  {
   "cell_type": "code",
   "execution_count": 104,
   "id": "06bad683",
   "metadata": {},
   "outputs": [
    {
     "data": {
      "text/html": [
       "<div>\n",
       "<style scoped>\n",
       "    .dataframe tbody tr th:only-of-type {\n",
       "        vertical-align: middle;\n",
       "    }\n",
       "\n",
       "    .dataframe tbody tr th {\n",
       "        vertical-align: top;\n",
       "    }\n",
       "\n",
       "    .dataframe thead th {\n",
       "        text-align: right;\n",
       "    }\n",
       "</style>\n",
       "<table border=\"1\" class=\"dataframe\">\n",
       "  <thead>\n",
       "    <tr style=\"text-align: right;\">\n",
       "      <th></th>\n",
       "      <th>Volume</th>\n",
       "      <th>Symbol</th>\n",
       "      <th>VolATO1</th>\n",
       "      <th>VolATO2</th>\n",
       "      <th>VolATC</th>\n",
       "      <th>PercentChgATC</th>\n",
       "      <th>ValueATC</th>\n",
       "      <th>chg_Ct_Ot1</th>\n",
       "      <th>today_jump</th>\n",
       "      <th>chg_Ct_Ot</th>\n",
       "      <th>chg_Ct_Ct1</th>\n",
       "      <th>comp5ma</th>\n",
       "      <th>PreComp5ma</th>\n",
       "      <th>swing</th>\n",
       "      <th>P_chg_ATO2_ATO1</th>\n",
       "      <th>P_chg_ATC_ATO2</th>\n",
       "      <th>rt_VolATO2_VolATO1</th>\n",
       "      <th>rt_VolATO1_PreVol</th>\n",
       "      <th>rt_VolATC_VolATO2</th>\n",
       "    </tr>\n",
       "  </thead>\n",
       "  <tbody>\n",
       "    <tr>\n",
       "      <th>5</th>\n",
       "      <td>4578400</td>\n",
       "      <td>DELTA</td>\n",
       "      <td>68500.0</td>\n",
       "      <td>15100.0</td>\n",
       "      <td>288600.0</td>\n",
       "      <td>0.55</td>\n",
       "      <td>210678000.0</td>\n",
       "      <td>0.0137</td>\n",
       "      <td>0.0275</td>\n",
       "      <td>-0.0214</td>\n",
       "      <td>0.0466</td>\n",
       "      <td>0.9872</td>\n",
       "      <td>2.1589</td>\n",
       "      <td>0.0912</td>\n",
       "      <td>-0.0027</td>\n",
       "      <td>-0.0188</td>\n",
       "      <td>0.2204</td>\n",
       "      <td>0.0082</td>\n",
       "      <td>19.1126</td>\n",
       "    </tr>\n",
       "    <tr>\n",
       "      <th>8</th>\n",
       "      <td>2553000</td>\n",
       "      <td>DELTA</td>\n",
       "      <td>18800.0</td>\n",
       "      <td>24400.0</td>\n",
       "      <td>500.0</td>\n",
       "      <td>0.53</td>\n",
       "      <td>382000.0</td>\n",
       "      <td>-0.0104</td>\n",
       "      <td>-0.0027</td>\n",
       "      <td>0.0378</td>\n",
       "      <td>-0.0312</td>\n",
       "      <td>0.6160</td>\n",
       "      <td>0.4331</td>\n",
       "      <td>0.0488</td>\n",
       "      <td>0.0243</td>\n",
       "      <td>0.0079</td>\n",
       "      <td>1.2979</td>\n",
       "      <td>0.0087</td>\n",
       "      <td>0.0205</td>\n",
       "    </tr>\n",
       "    <tr>\n",
       "      <th>9</th>\n",
       "      <td>1959800</td>\n",
       "      <td>DELTA</td>\n",
       "      <td>40200.0</td>\n",
       "      <td>6100.0</td>\n",
       "      <td>109700.0</td>\n",
       "      <td>-0.53</td>\n",
       "      <td>81616800.0</td>\n",
       "      <td>0.0242</td>\n",
       "      <td>-0.0104</td>\n",
       "      <td>-0.0211</td>\n",
       "      <td>0.0215</td>\n",
       "      <td>0.6855</td>\n",
       "      <td>0.6160</td>\n",
       "      <td>0.0430</td>\n",
       "      <td>-0.0053</td>\n",
       "      <td>-0.0159</td>\n",
       "      <td>0.1517</td>\n",
       "      <td>0.0157</td>\n",
       "      <td>17.9836</td>\n",
       "    </tr>\n",
       "    <tr>\n",
       "      <th>10</th>\n",
       "      <td>1560900</td>\n",
       "      <td>DELTA</td>\n",
       "      <td>38600.0</td>\n",
       "      <td>16100.0</td>\n",
       "      <td>123300.0</td>\n",
       "      <td>0.00</td>\n",
       "      <td>93708000.0</td>\n",
       "      <td>-0.0053</td>\n",
       "      <td>0.0242</td>\n",
       "      <td>-0.0026</td>\n",
       "      <td>-0.1421</td>\n",
       "      <td>0.6921</td>\n",
       "      <td>0.6855</td>\n",
       "      <td>0.0293</td>\n",
       "      <td>0.0079</td>\n",
       "      <td>-0.0104</td>\n",
       "      <td>0.4171</td>\n",
       "      <td>0.0197</td>\n",
       "      <td>7.6584</td>\n",
       "    </tr>\n",
       "    <tr>\n",
       "      <th>16</th>\n",
       "      <td>2686800</td>\n",
       "      <td>DELTA</td>\n",
       "      <td>69600.0</td>\n",
       "      <td>15000.0</td>\n",
       "      <td>213000.0</td>\n",
       "      <td>0.00</td>\n",
       "      <td>118428000.0</td>\n",
       "      <td>-0.0072</td>\n",
       "      <td>0.0071</td>\n",
       "      <td>-0.0246</td>\n",
       "      <td>-0.1043</td>\n",
       "      <td>0.5568</td>\n",
       "      <td>0.9726</td>\n",
       "      <td>0.0325</td>\n",
       "      <td>-0.0175</td>\n",
       "      <td>-0.0071</td>\n",
       "      <td>0.2155</td>\n",
       "      <td>0.0141</td>\n",
       "      <td>14.2000</td>\n",
       "    </tr>\n",
       "  </tbody>\n",
       "</table>\n",
       "</div>"
      ],
      "text/plain": [
       "     Volume Symbol  VolATO1  VolATO2    VolATC  PercentChgATC     ValueATC  \\\n",
       "5   4578400  DELTA  68500.0  15100.0  288600.0           0.55  210678000.0   \n",
       "8   2553000  DELTA  18800.0  24400.0     500.0           0.53     382000.0   \n",
       "9   1959800  DELTA  40200.0   6100.0  109700.0          -0.53   81616800.0   \n",
       "10  1560900  DELTA  38600.0  16100.0  123300.0           0.00   93708000.0   \n",
       "16  2686800  DELTA  69600.0  15000.0  213000.0           0.00  118428000.0   \n",
       "\n",
       "    chg_Ct_Ot1  today_jump  chg_Ct_Ot  chg_Ct_Ct1  comp5ma  PreComp5ma  \\\n",
       "5       0.0137      0.0275    -0.0214      0.0466   0.9872      2.1589   \n",
       "8      -0.0104     -0.0027     0.0378     -0.0312   0.6160      0.4331   \n",
       "9       0.0242     -0.0104    -0.0211      0.0215   0.6855      0.6160   \n",
       "10     -0.0053      0.0242    -0.0026     -0.1421   0.6921      0.6855   \n",
       "16     -0.0072      0.0071    -0.0246     -0.1043   0.5568      0.9726   \n",
       "\n",
       "     swing  P_chg_ATO2_ATO1  P_chg_ATC_ATO2  rt_VolATO2_VolATO1  \\\n",
       "5   0.0912          -0.0027         -0.0188              0.2204   \n",
       "8   0.0488           0.0243          0.0079              1.2979   \n",
       "9   0.0430          -0.0053         -0.0159              0.1517   \n",
       "10  0.0293           0.0079         -0.0104              0.4171   \n",
       "16  0.0325          -0.0175         -0.0071              0.2155   \n",
       "\n",
       "    rt_VolATO1_PreVol  rt_VolATC_VolATO2  \n",
       "5              0.0082            19.1126  \n",
       "8              0.0087             0.0205  \n",
       "9              0.0157            17.9836  \n",
       "10             0.0197             7.6584  \n",
       "16             0.0141            14.2000  "
      ]
     },
     "execution_count": 104,
     "metadata": {},
     "output_type": "execute_result"
    }
   ],
   "source": [
    "clean_stacked.head()"
   ]
  },
  {
   "cell_type": "markdown",
   "id": "daac3fb2",
   "metadata": {},
   "source": [
    "### Idea : Can we make a profit with \"Buy today afternoon open price then Sold today closing price\" by focus on today closing price change from today morning open price \n",
    "\n",
    "Select parameter\n",
    "- `Volume` : Today trading volumn = Yes, we can use real time trading volume instead\n",
    "- `Symbol` : Stock symbol = **No, we don't**\n",
    "- `VolATO1` : Today Morning Opening volumn = Yes, we can know  \n",
    "- `VolATO2` : Afternoon Opening volumn = Yes, we can know\n",
    "- `VolATC` : At the close volumn = **No, we can't** \n",
    "- `PercentChgATC` : Percent Change of ATC price from 16:30PM price = **No, we can't**\n",
    "- `ValueATC` : Value of ATC = **No, we can't** \n",
    "- `chg_Ct_Ot1` : Percent change between today closing price and tomorow opening price = **No, we can't**\n",
    "- `chg_Ct_Ot` : Percent change between today closing price and today opening price = This is **Target**\n",
    "- `chg_Ct_Ct1` : Percent change between today closing price and tomorow closing price = **No, we can't**\n",
    "- `today_jump` : Percent change between today morning opening price and yesterday closing price = Yes, we can know\n",
    "- `comp5ma` : Ratio of today volumn and average 5 day volumn = Yes, we can use real time trading volume instead\n",
    "- `PreComp5ma` : Ratio of previous volumn and average 5 day volumn = Yes, we can know\n",
    "- `swing` : Percent swing of daily swing (high - low)/low = **No, we can't**\n",
    "- `rt_VolATO1_PreVol` : Ratio of today opening volmn in the morning and previos day volumn = Yes, we can know\n",
    "- `P_chg_ATO2_ATO1` : Percent change between Afternoon price from Morning price = Yes, we can know\n",
    "- `rt_VolATO2_VolATO1` : Ratio of Afternoon opening volumn and Morning opening volumn = Yes, we can know\n",
    "- `rt_VolATC_VolATO2` : Ratio of Closing volumn and Afternoon opening volumn  = **No, we can't**\n",
    "- `P_chg_ATC_ATO2` : Percent change between Closing price and Afternoon opening price = **No, we can't**"
   ]
  },
  {
   "cell_type": "code",
   "execution_count": 105,
   "id": "dc0e0943",
   "metadata": {},
   "outputs": [
    {
     "name": "stdout",
     "output_type": "stream",
     "text": [
      "(1827, 9)\n",
      "(1827,)\n"
     ]
    }
   ],
   "source": [
    "# X = feature variables, y = a target variable\n",
    "\n",
    "X = clean_stacked[['Volume','VolATO1','VolATO2','today_jump','comp5ma','PreComp5ma',\n",
    "                   'rt_VolATO1_PreVol','P_chg_ATO2_ATO1','rt_VolATO2_VolATO1']]\n",
    "y = clean_stacked['chg_Ct_Ot']\n",
    "\n",
    "print(X.shape)\n",
    "print(y.shape)"
   ]
  },
  {
   "cell_type": "code",
   "execution_count": 106,
   "id": "c3056f93",
   "metadata": {},
   "outputs": [
    {
     "name": "stdout",
     "output_type": "stream",
     "text": [
      "X_train: (1461, 9)\n",
      "y_train: (1461,)\n",
      "X_test:  (366, 9)\n",
      "y_test:  (366,)\n"
     ]
    }
   ],
   "source": [
    "# split data 80% for train data set\n",
    "X_train, X_test, y_train, y_test = train_test_split(X, y, test_size = 0.2, random_state = 42)\n",
    "\n",
    "print(f\"X_train: {X_train.shape}\")\n",
    "print(f\"y_train: {y_train.shape}\")\n",
    "print(f\"X_test:  {X_test.shape}\")\n",
    "print(f\"y_test:  {y_test.shape}\")"
   ]
  },
  {
   "cell_type": "code",
   "execution_count": 107,
   "id": "7043fa00",
   "metadata": {},
   "outputs": [
    {
     "name": "stderr",
     "output_type": "stream",
     "text": [
      "C:\\Users\\USER\\anaconda3\\lib\\site-packages\\sklearn\\linear_model\\_ridge.py:216: LinAlgWarning: Ill-conditioned matrix (rcond=1.42119e-19): result may not be accurate.\n",
      "  return linalg.solve(A, Xy, assume_a=\"pos\", overwrite_a=True).T\n"
     ]
    },
    {
     "data": {
      "text/html": [
       "<style>#sk-container-id-5 {color: black;background-color: white;}#sk-container-id-5 pre{padding: 0;}#sk-container-id-5 div.sk-toggleable {background-color: white;}#sk-container-id-5 label.sk-toggleable__label {cursor: pointer;display: block;width: 100%;margin-bottom: 0;padding: 0.3em;box-sizing: border-box;text-align: center;}#sk-container-id-5 label.sk-toggleable__label-arrow:before {content: \"▸\";float: left;margin-right: 0.25em;color: #696969;}#sk-container-id-5 label.sk-toggleable__label-arrow:hover:before {color: black;}#sk-container-id-5 div.sk-estimator:hover label.sk-toggleable__label-arrow:before {color: black;}#sk-container-id-5 div.sk-toggleable__content {max-height: 0;max-width: 0;overflow: hidden;text-align: left;background-color: #f0f8ff;}#sk-container-id-5 div.sk-toggleable__content pre {margin: 0.2em;color: black;border-radius: 0.25em;background-color: #f0f8ff;}#sk-container-id-5 input.sk-toggleable__control:checked~div.sk-toggleable__content {max-height: 200px;max-width: 100%;overflow: auto;}#sk-container-id-5 input.sk-toggleable__control:checked~label.sk-toggleable__label-arrow:before {content: \"▾\";}#sk-container-id-5 div.sk-estimator input.sk-toggleable__control:checked~label.sk-toggleable__label {background-color: #d4ebff;}#sk-container-id-5 div.sk-label input.sk-toggleable__control:checked~label.sk-toggleable__label {background-color: #d4ebff;}#sk-container-id-5 input.sk-hidden--visually {border: 0;clip: rect(1px 1px 1px 1px);clip: rect(1px, 1px, 1px, 1px);height: 1px;margin: -1px;overflow: hidden;padding: 0;position: absolute;width: 1px;}#sk-container-id-5 div.sk-estimator {font-family: monospace;background-color: #f0f8ff;border: 1px dotted black;border-radius: 0.25em;box-sizing: border-box;margin-bottom: 0.5em;}#sk-container-id-5 div.sk-estimator:hover {background-color: #d4ebff;}#sk-container-id-5 div.sk-parallel-item::after {content: \"\";width: 100%;border-bottom: 1px solid gray;flex-grow: 1;}#sk-container-id-5 div.sk-label:hover label.sk-toggleable__label {background-color: #d4ebff;}#sk-container-id-5 div.sk-serial::before {content: \"\";position: absolute;border-left: 1px solid gray;box-sizing: border-box;top: 0;bottom: 0;left: 50%;z-index: 0;}#sk-container-id-5 div.sk-serial {display: flex;flex-direction: column;align-items: center;background-color: white;padding-right: 0.2em;padding-left: 0.2em;position: relative;}#sk-container-id-5 div.sk-item {position: relative;z-index: 1;}#sk-container-id-5 div.sk-parallel {display: flex;align-items: stretch;justify-content: center;background-color: white;position: relative;}#sk-container-id-5 div.sk-item::before, #sk-container-id-5 div.sk-parallel-item::before {content: \"\";position: absolute;border-left: 1px solid gray;box-sizing: border-box;top: 0;bottom: 0;left: 50%;z-index: -1;}#sk-container-id-5 div.sk-parallel-item {display: flex;flex-direction: column;z-index: 1;position: relative;background-color: white;}#sk-container-id-5 div.sk-parallel-item:first-child::after {align-self: flex-end;width: 50%;}#sk-container-id-5 div.sk-parallel-item:last-child::after {align-self: flex-start;width: 50%;}#sk-container-id-5 div.sk-parallel-item:only-child::after {width: 0;}#sk-container-id-5 div.sk-dashed-wrapped {border: 1px dashed gray;margin: 0 0.4em 0.5em 0.4em;box-sizing: border-box;padding-bottom: 0.4em;background-color: white;}#sk-container-id-5 div.sk-label label {font-family: monospace;font-weight: bold;display: inline-block;line-height: 1.2em;}#sk-container-id-5 div.sk-label-container {text-align: center;}#sk-container-id-5 div.sk-container {/* jupyter's `normalize.less` sets `[hidden] { display: none; }` but bootstrap.min.css set `[hidden] { display: none !important; }` so we also need the `!important` here to be able to override the default hidden behavior on the sphinx rendered scikit-learn.org. See: https://github.com/scikit-learn/scikit-learn/issues/21755 */display: inline-block !important;position: relative;}#sk-container-id-5 div.sk-text-repr-fallback {display: none;}</style><div id=\"sk-container-id-5\" class=\"sk-top-container\"><div class=\"sk-text-repr-fallback\"><pre>ElasticNet(alpha=0.01)</pre><b>In a Jupyter environment, please rerun this cell to show the HTML representation or trust the notebook. <br />On GitHub, the HTML representation is unable to render, please try loading this page with nbviewer.org.</b></div><div class=\"sk-container\" hidden><div class=\"sk-item\"><div class=\"sk-estimator sk-toggleable\"><input class=\"sk-toggleable__control sk-hidden--visually\" id=\"sk-estimator-id-5\" type=\"checkbox\" checked><label for=\"sk-estimator-id-5\" class=\"sk-toggleable__label sk-toggleable__label-arrow\">ElasticNet</label><div class=\"sk-toggleable__content\"><pre>ElasticNet(alpha=0.01)</pre></div></div></div></div></div>"
      ],
      "text/plain": [
       "ElasticNet(alpha=0.01)"
      ]
     },
     "execution_count": 107,
     "metadata": {},
     "output_type": "execute_result"
    }
   ],
   "source": [
    "# Model fitting\n",
    "\n",
    "# Linear regression\n",
    "li_model = LinearRegression()\n",
    "li_model.fit(X_train, y_train)\n",
    "\n",
    "# Logistic regression\n",
    "logis_model = LinearRegression()\n",
    "logis_model.fit(X_train, y_train)\n",
    "\n",
    "# Ridge Regression\n",
    "ridge_model = Ridge(alpha=0.01)\n",
    "ridge_model.fit(X_train, y_train)\n",
    "\n",
    "# Lasso Regression\n",
    "lasso_model = Lasso(alpha=0.01)\n",
    "lasso_model.fit(X_train, y_train)\n",
    "\n",
    "# ElasticNet Regression\n",
    "enet_model = ElasticNet(alpha = 0.01)\n",
    "enet_model.fit(X_train, y_train)"
   ]
  },
  {
   "cell_type": "code",
   "execution_count": 108,
   "id": "540b9a4b",
   "metadata": {},
   "outputs": [
    {
     "name": "stdout",
     "output_type": "stream",
     "text": [
      "RMSE from Linear model : 0.01\n",
      "R-squared from Linear model : 0.6562\n",
      "\n",
      "RMSE from Logistic model : 0.01\n",
      "R-squared from Logistic model : 0.6562\n",
      "\n",
      "RMSE from Ridge model : 0.01\n",
      "R-squared from Ridge model : 0.6564\n",
      "\n",
      "RMSE from Lasso model : 0.0171\n",
      "R-squared from Lasso model : 0.0003\n",
      "\n",
      "RMSE from ElasticNet model : 0.0171\n",
      "R-squared from ElasticNet model : 0.0003\n"
     ]
    }
   ],
   "source": [
    "# Model evaluation\n",
    "\n",
    "# Linear regression\n",
    "pred_li_test = li_model.predict(X_test)\n",
    "rmse_li = mean_squared_error(y_test, pred_li_test, squared=False).round(4)\n",
    "test_r2_li = li_model.score(X_test, y_test).round(4)\n",
    "print(f\"RMSE from Linear model : {rmse_li}\")\n",
    "print(f\"R-squared from Linear model : {test_r2_li}\")\n",
    "\n",
    "# Logistic regression\n",
    "pred_logis_test = logis_model.predict(X_test)\n",
    "rmse_logis = mean_squared_error(y_test, pred_logis_test, squared=False).round(4)\n",
    "test_r2_logis = logis_model.score(X_test, y_test).round(4)\n",
    "print(f\"\\nRMSE from Logistic model : {rmse_logis}\")\n",
    "print(f\"R-squared from Logistic model : {test_r2_logis}\")\n",
    "\n",
    "# Ridge Regression\n",
    "pred_ridge_test = ridge_model.predict(X_test)\n",
    "rmse_ridge = mean_squared_error(y_test, pred_ridge_test, squared=False).round(4)\n",
    "test_r2_ridge = ridge_model.score(X_test, y_test).round(4)\n",
    "print(f\"\\nRMSE from Ridge model : {rmse_ridge}\")\n",
    "print(f\"R-squared from Ridge model : {test_r2_ridge}\")\n",
    "\n",
    "# Lasso Regression\n",
    "pred_lasso_test = lasso_model.predict(X_test)\n",
    "rmse_lasso = mean_squared_error(y_test, pred_lasso_test, squared=False).round(4)\n",
    "test_r2_lasso = lasso_model.score(X_test, y_test).round(4)\n",
    "print(f\"\\nRMSE from Lasso model : {rmse_lasso}\")\n",
    "print(f\"R-squared from Lasso model : {test_r2_lasso}\")\n",
    "\n",
    "# ElasticNet Regression\n",
    "pred_enet_test = enet_model.predict(X_test)\n",
    "rmse_enet = mean_squared_error(y_test, pred_enet_test, squared=False).round(4)\n",
    "test_r2_enet = enet_model.score(X_test, y_test).round(4)\n",
    "print(f\"\\nRMSE from ElasticNet model : {rmse_enet}\")\n",
    "print(f\"R-squared from ElasticNet model : {test_r2_enet}\")"
   ]
  },
  {
   "cell_type": "markdown",
   "id": "5aa054ea",
   "metadata": {},
   "source": [
    "#### It looking good in R-squared of Linear, Logistic and Ridge model. Now I will try select only the day that had **`P_chg_ATO2_ATO1` >= 0** cause we need take action on rising price day. "
   ]
  },
  {
   "cell_type": "code",
   "execution_count": 109,
   "id": "1f25e02f",
   "metadata": {},
   "outputs": [
    {
     "data": {
      "text/html": [
       "<div>\n",
       "<style scoped>\n",
       "    .dataframe tbody tr th:only-of-type {\n",
       "        vertical-align: middle;\n",
       "    }\n",
       "\n",
       "    .dataframe tbody tr th {\n",
       "        vertical-align: top;\n",
       "    }\n",
       "\n",
       "    .dataframe thead th {\n",
       "        text-align: right;\n",
       "    }\n",
       "</style>\n",
       "<table border=\"1\" class=\"dataframe\">\n",
       "  <thead>\n",
       "    <tr style=\"text-align: right;\">\n",
       "      <th></th>\n",
       "      <th>Volume</th>\n",
       "      <th>Symbol</th>\n",
       "      <th>VolATO1</th>\n",
       "      <th>VolATO2</th>\n",
       "      <th>VolATC</th>\n",
       "      <th>PercentChgATC</th>\n",
       "      <th>ValueATC</th>\n",
       "      <th>chg_Ct_Ot1</th>\n",
       "      <th>today_jump</th>\n",
       "      <th>chg_Ct_Ot</th>\n",
       "      <th>chg_Ct_Ct1</th>\n",
       "      <th>comp5ma</th>\n",
       "      <th>PreComp5ma</th>\n",
       "      <th>swing</th>\n",
       "      <th>P_chg_ATO2_ATO1</th>\n",
       "      <th>P_chg_ATC_ATO2</th>\n",
       "      <th>rt_VolATO2_VolATO1</th>\n",
       "      <th>rt_VolATO1_PreVol</th>\n",
       "      <th>rt_VolATC_VolATO2</th>\n",
       "    </tr>\n",
       "  </thead>\n",
       "  <tbody>\n",
       "    <tr>\n",
       "      <th>8</th>\n",
       "      <td>2553000</td>\n",
       "      <td>DELTA</td>\n",
       "      <td>18800.0</td>\n",
       "      <td>24400.0</td>\n",
       "      <td>500.0</td>\n",
       "      <td>0.53</td>\n",
       "      <td>382000.0</td>\n",
       "      <td>-0.0104</td>\n",
       "      <td>-0.0027</td>\n",
       "      <td>0.0378</td>\n",
       "      <td>-0.0312</td>\n",
       "      <td>0.6160</td>\n",
       "      <td>0.4331</td>\n",
       "      <td>0.0488</td>\n",
       "      <td>0.0243</td>\n",
       "      <td>0.0079</td>\n",
       "      <td>1.2979</td>\n",
       "      <td>0.0087</td>\n",
       "      <td>0.0205</td>\n",
       "    </tr>\n",
       "    <tr>\n",
       "      <th>10</th>\n",
       "      <td>1560900</td>\n",
       "      <td>DELTA</td>\n",
       "      <td>38600.0</td>\n",
       "      <td>16100.0</td>\n",
       "      <td>123300.0</td>\n",
       "      <td>0.00</td>\n",
       "      <td>93708000.0</td>\n",
       "      <td>-0.0053</td>\n",
       "      <td>0.0242</td>\n",
       "      <td>-0.0026</td>\n",
       "      <td>-0.1421</td>\n",
       "      <td>0.6921</td>\n",
       "      <td>0.6855</td>\n",
       "      <td>0.0293</td>\n",
       "      <td>0.0079</td>\n",
       "      <td>-0.0104</td>\n",
       "      <td>0.4171</td>\n",
       "      <td>0.0197</td>\n",
       "      <td>7.6584</td>\n",
       "    </tr>\n",
       "    <tr>\n",
       "      <th>27</th>\n",
       "      <td>2192200</td>\n",
       "      <td>DELTA</td>\n",
       "      <td>33900.0</td>\n",
       "      <td>5800.0</td>\n",
       "      <td>146400.0</td>\n",
       "      <td>-0.43</td>\n",
       "      <td>68515200.0</td>\n",
       "      <td>-0.0043</td>\n",
       "      <td>-0.0085</td>\n",
       "      <td>0.0043</td>\n",
       "      <td>0.0000</td>\n",
       "      <td>0.8004</td>\n",
       "      <td>1.1419</td>\n",
       "      <td>0.0435</td>\n",
       "      <td>0.0086</td>\n",
       "      <td>-0.0043</td>\n",
       "      <td>0.1711</td>\n",
       "      <td>0.0104</td>\n",
       "      <td>25.2414</td>\n",
       "    </tr>\n",
       "    <tr>\n",
       "      <th>28</th>\n",
       "      <td>2192200</td>\n",
       "      <td>DELTA</td>\n",
       "      <td>33900.0</td>\n",
       "      <td>5800.0</td>\n",
       "      <td>146400.0</td>\n",
       "      <td>-0.43</td>\n",
       "      <td>68515200.0</td>\n",
       "      <td>-0.0043</td>\n",
       "      <td>-0.0043</td>\n",
       "      <td>0.0043</td>\n",
       "      <td>0.0000</td>\n",
       "      <td>0.8004</td>\n",
       "      <td>0.8004</td>\n",
       "      <td>0.0435</td>\n",
       "      <td>0.0086</td>\n",
       "      <td>-0.0043</td>\n",
       "      <td>0.1711</td>\n",
       "      <td>0.0155</td>\n",
       "      <td>25.2414</td>\n",
       "    </tr>\n",
       "    <tr>\n",
       "      <th>29</th>\n",
       "      <td>2192200</td>\n",
       "      <td>DELTA</td>\n",
       "      <td>33900.0</td>\n",
       "      <td>5800.0</td>\n",
       "      <td>146400.0</td>\n",
       "      <td>-0.43</td>\n",
       "      <td>68515200.0</td>\n",
       "      <td>0.0043</td>\n",
       "      <td>-0.0043</td>\n",
       "      <td>0.0043</td>\n",
       "      <td>-0.0171</td>\n",
       "      <td>0.8004</td>\n",
       "      <td>0.8004</td>\n",
       "      <td>0.0435</td>\n",
       "      <td>0.0086</td>\n",
       "      <td>-0.0043</td>\n",
       "      <td>0.1711</td>\n",
       "      <td>0.0155</td>\n",
       "      <td>25.2414</td>\n",
       "    </tr>\n",
       "  </tbody>\n",
       "</table>\n",
       "</div>"
      ],
      "text/plain": [
       "     Volume Symbol  VolATO1  VolATO2    VolATC  PercentChgATC    ValueATC  \\\n",
       "8   2553000  DELTA  18800.0  24400.0     500.0           0.53    382000.0   \n",
       "10  1560900  DELTA  38600.0  16100.0  123300.0           0.00  93708000.0   \n",
       "27  2192200  DELTA  33900.0   5800.0  146400.0          -0.43  68515200.0   \n",
       "28  2192200  DELTA  33900.0   5800.0  146400.0          -0.43  68515200.0   \n",
       "29  2192200  DELTA  33900.0   5800.0  146400.0          -0.43  68515200.0   \n",
       "\n",
       "    chg_Ct_Ot1  today_jump  chg_Ct_Ot  chg_Ct_Ct1  comp5ma  PreComp5ma  \\\n",
       "8      -0.0104     -0.0027     0.0378     -0.0312   0.6160      0.4331   \n",
       "10     -0.0053      0.0242    -0.0026     -0.1421   0.6921      0.6855   \n",
       "27     -0.0043     -0.0085     0.0043      0.0000   0.8004      1.1419   \n",
       "28     -0.0043     -0.0043     0.0043      0.0000   0.8004      0.8004   \n",
       "29      0.0043     -0.0043     0.0043     -0.0171   0.8004      0.8004   \n",
       "\n",
       "     swing  P_chg_ATO2_ATO1  P_chg_ATC_ATO2  rt_VolATO2_VolATO1  \\\n",
       "8   0.0488           0.0243          0.0079              1.2979   \n",
       "10  0.0293           0.0079         -0.0104              0.4171   \n",
       "27  0.0435           0.0086         -0.0043              0.1711   \n",
       "28  0.0435           0.0086         -0.0043              0.1711   \n",
       "29  0.0435           0.0086         -0.0043              0.1711   \n",
       "\n",
       "    rt_VolATO1_PreVol  rt_VolATC_VolATO2  \n",
       "8              0.0087             0.0205  \n",
       "10             0.0197             7.6584  \n",
       "27             0.0104            25.2414  \n",
       "28             0.0155            25.2414  \n",
       "29             0.0155            25.2414  "
      ]
     },
     "execution_count": 109,
     "metadata": {},
     "output_type": "execute_result"
    }
   ],
   "source": [
    "up_data = clean_stacked[clean_stacked['P_chg_ATO2_ATO1'] >= 0]\n",
    "up_data.head()"
   ]
  },
  {
   "cell_type": "markdown",
   "id": "05a081e3",
   "metadata": {},
   "source": [
    "## Repeat ML"
   ]
  },
  {
   "cell_type": "code",
   "execution_count": 110,
   "id": "24b919c9",
   "metadata": {},
   "outputs": [
    {
     "name": "stdout",
     "output_type": "stream",
     "text": [
      "(1020, 9)\n",
      "(1020,)\n"
     ]
    }
   ],
   "source": [
    "# X = feature variables, y = a target variable\n",
    "\n",
    "X = up_data[['Volume','VolATO1','VolATO2','today_jump','comp5ma','PreComp5ma',\n",
    "                   'rt_VolATO1_PreVol','P_chg_ATO2_ATO1','rt_VolATO2_VolATO1']]\n",
    "y = up_data['chg_Ct_Ot']\n",
    "\n",
    "print(X.shape)\n",
    "print(y.shape)"
   ]
  },
  {
   "cell_type": "code",
   "execution_count": 111,
   "id": "c87f87d0",
   "metadata": {},
   "outputs": [
    {
     "name": "stdout",
     "output_type": "stream",
     "text": [
      "X_train: (816, 9)\n",
      "y_train: (816,)\n",
      "X_test:  (204, 9)\n",
      "y_test:  (204,)\n"
     ]
    }
   ],
   "source": [
    "# split data 80% for train data set\n",
    "X_train, X_test, y_train, y_test = train_test_split(X, y, test_size = 0.2, random_state = 42)\n",
    "\n",
    "print(f\"X_train: {X_train.shape}\")\n",
    "print(f\"y_train: {y_train.shape}\")\n",
    "print(f\"X_test:  {X_test.shape}\")\n",
    "print(f\"y_test:  {y_test.shape}\")"
   ]
  },
  {
   "cell_type": "code",
   "execution_count": 112,
   "id": "31e6e987",
   "metadata": {},
   "outputs": [
    {
     "name": "stderr",
     "output_type": "stream",
     "text": [
      "C:\\Users\\USER\\anaconda3\\lib\\site-packages\\sklearn\\linear_model\\_ridge.py:216: LinAlgWarning: Ill-conditioned matrix (rcond=1.4598e-19): result may not be accurate.\n",
      "  return linalg.solve(A, Xy, assume_a=\"pos\", overwrite_a=True).T\n"
     ]
    },
    {
     "data": {
      "text/html": [
       "<style>#sk-container-id-6 {color: black;background-color: white;}#sk-container-id-6 pre{padding: 0;}#sk-container-id-6 div.sk-toggleable {background-color: white;}#sk-container-id-6 label.sk-toggleable__label {cursor: pointer;display: block;width: 100%;margin-bottom: 0;padding: 0.3em;box-sizing: border-box;text-align: center;}#sk-container-id-6 label.sk-toggleable__label-arrow:before {content: \"▸\";float: left;margin-right: 0.25em;color: #696969;}#sk-container-id-6 label.sk-toggleable__label-arrow:hover:before {color: black;}#sk-container-id-6 div.sk-estimator:hover label.sk-toggleable__label-arrow:before {color: black;}#sk-container-id-6 div.sk-toggleable__content {max-height: 0;max-width: 0;overflow: hidden;text-align: left;background-color: #f0f8ff;}#sk-container-id-6 div.sk-toggleable__content pre {margin: 0.2em;color: black;border-radius: 0.25em;background-color: #f0f8ff;}#sk-container-id-6 input.sk-toggleable__control:checked~div.sk-toggleable__content {max-height: 200px;max-width: 100%;overflow: auto;}#sk-container-id-6 input.sk-toggleable__control:checked~label.sk-toggleable__label-arrow:before {content: \"▾\";}#sk-container-id-6 div.sk-estimator input.sk-toggleable__control:checked~label.sk-toggleable__label {background-color: #d4ebff;}#sk-container-id-6 div.sk-label input.sk-toggleable__control:checked~label.sk-toggleable__label {background-color: #d4ebff;}#sk-container-id-6 input.sk-hidden--visually {border: 0;clip: rect(1px 1px 1px 1px);clip: rect(1px, 1px, 1px, 1px);height: 1px;margin: -1px;overflow: hidden;padding: 0;position: absolute;width: 1px;}#sk-container-id-6 div.sk-estimator {font-family: monospace;background-color: #f0f8ff;border: 1px dotted black;border-radius: 0.25em;box-sizing: border-box;margin-bottom: 0.5em;}#sk-container-id-6 div.sk-estimator:hover {background-color: #d4ebff;}#sk-container-id-6 div.sk-parallel-item::after {content: \"\";width: 100%;border-bottom: 1px solid gray;flex-grow: 1;}#sk-container-id-6 div.sk-label:hover label.sk-toggleable__label {background-color: #d4ebff;}#sk-container-id-6 div.sk-serial::before {content: \"\";position: absolute;border-left: 1px solid gray;box-sizing: border-box;top: 0;bottom: 0;left: 50%;z-index: 0;}#sk-container-id-6 div.sk-serial {display: flex;flex-direction: column;align-items: center;background-color: white;padding-right: 0.2em;padding-left: 0.2em;position: relative;}#sk-container-id-6 div.sk-item {position: relative;z-index: 1;}#sk-container-id-6 div.sk-parallel {display: flex;align-items: stretch;justify-content: center;background-color: white;position: relative;}#sk-container-id-6 div.sk-item::before, #sk-container-id-6 div.sk-parallel-item::before {content: \"\";position: absolute;border-left: 1px solid gray;box-sizing: border-box;top: 0;bottom: 0;left: 50%;z-index: -1;}#sk-container-id-6 div.sk-parallel-item {display: flex;flex-direction: column;z-index: 1;position: relative;background-color: white;}#sk-container-id-6 div.sk-parallel-item:first-child::after {align-self: flex-end;width: 50%;}#sk-container-id-6 div.sk-parallel-item:last-child::after {align-self: flex-start;width: 50%;}#sk-container-id-6 div.sk-parallel-item:only-child::after {width: 0;}#sk-container-id-6 div.sk-dashed-wrapped {border: 1px dashed gray;margin: 0 0.4em 0.5em 0.4em;box-sizing: border-box;padding-bottom: 0.4em;background-color: white;}#sk-container-id-6 div.sk-label label {font-family: monospace;font-weight: bold;display: inline-block;line-height: 1.2em;}#sk-container-id-6 div.sk-label-container {text-align: center;}#sk-container-id-6 div.sk-container {/* jupyter's `normalize.less` sets `[hidden] { display: none; }` but bootstrap.min.css set `[hidden] { display: none !important; }` so we also need the `!important` here to be able to override the default hidden behavior on the sphinx rendered scikit-learn.org. See: https://github.com/scikit-learn/scikit-learn/issues/21755 */display: inline-block !important;position: relative;}#sk-container-id-6 div.sk-text-repr-fallback {display: none;}</style><div id=\"sk-container-id-6\" class=\"sk-top-container\"><div class=\"sk-text-repr-fallback\"><pre>Ridge(alpha=0.01)</pre><b>In a Jupyter environment, please rerun this cell to show the HTML representation or trust the notebook. <br />On GitHub, the HTML representation is unable to render, please try loading this page with nbviewer.org.</b></div><div class=\"sk-container\" hidden><div class=\"sk-item\"><div class=\"sk-estimator sk-toggleable\"><input class=\"sk-toggleable__control sk-hidden--visually\" id=\"sk-estimator-id-6\" type=\"checkbox\" checked><label for=\"sk-estimator-id-6\" class=\"sk-toggleable__label sk-toggleable__label-arrow\">Ridge</label><div class=\"sk-toggleable__content\"><pre>Ridge(alpha=0.01)</pre></div></div></div></div></div>"
      ],
      "text/plain": [
       "Ridge(alpha=0.01)"
      ]
     },
     "execution_count": 112,
     "metadata": {},
     "output_type": "execute_result"
    }
   ],
   "source": [
    "# Model fitting\n",
    "\n",
    "# Linear regression\n",
    "li_model = LinearRegression()\n",
    "li_model.fit(X_train, y_train)\n",
    "\n",
    "# Logistic regression\n",
    "logis_model = LinearRegression()\n",
    "logis_model.fit(X_train, y_train)\n",
    "\n",
    "# Ridge Regression\n",
    "ridge_model = Ridge(alpha=0.01)\n",
    "ridge_model.fit(X_train, y_train)\n"
   ]
  },
  {
   "cell_type": "code",
   "execution_count": 113,
   "id": "f47b1e1f",
   "metadata": {},
   "outputs": [
    {
     "name": "stdout",
     "output_type": "stream",
     "text": [
      "RMSE from Linear model : 0.0088\n",
      "R-squared from Linear model : 0.7726\n",
      "\n",
      "RMSE from Logistic model : 0.0088\n",
      "R-squared from Logistic model : 0.7726\n",
      "\n",
      "RMSE from Ridge model : 0.0094\n",
      "R-squared from Ridge model : 0.7433\n"
     ]
    }
   ],
   "source": [
    "# Model evaluation\n",
    "\n",
    "# Linear regression\n",
    "pred_li_test = li_model.predict(X_test)\n",
    "rmse_li = mean_squared_error(y_test, pred_li_test, squared=False).round(4)\n",
    "test_r2_li = li_model.score(X_test, y_test).round(4)\n",
    "print(f\"RMSE from Linear model : {rmse_li}\")\n",
    "print(f\"R-squared from Linear model : {test_r2_li}\")\n",
    "\n",
    "# Logistic regression\n",
    "pred_logis_test = logis_model.predict(X_test)\n",
    "rmse_logis = mean_squared_error(y_test, pred_logis_test, squared=False).round(4)\n",
    "test_r2_logis = logis_model.score(X_test, y_test).round(4)\n",
    "print(f\"\\nRMSE from Logistic model : {rmse_logis}\")\n",
    "print(f\"R-squared from Logistic model : {test_r2_logis}\")\n",
    "\n",
    "# Ridge Regression\n",
    "pred_ridge_test = ridge_model.predict(X_test)\n",
    "rmse_ridge = mean_squared_error(y_test, pred_ridge_test, squared=False).round(4)\n",
    "test_r2_ridge = ridge_model.score(X_test, y_test).round(4)\n",
    "print(f\"\\nRMSE from Ridge model : {rmse_ridge}\")\n",
    "print(f\"R-squared from Ridge model : {test_r2_ridge}\")\n",
    "\n"
   ]
  },
  {
   "cell_type": "markdown",
   "id": "5dbe7fe8",
   "metadata": {},
   "source": [
    "#### R-squared improve from 0.6562 to 0.7726 on Linear model"
   ]
  },
  {
   "cell_type": "code",
   "execution_count": 114,
   "id": "bcc15e05",
   "metadata": {},
   "outputs": [
    {
     "name": "stdout",
     "output_type": "stream",
     "text": [
      "              Feature   Coefficient\n",
      "7     P_chg_ATO2_ATO1  9.769795e-01\n",
      "3          today_jump  8.161079e-02\n",
      "6   rt_VolATO1_PreVol  5.987170e-02\n",
      "4             comp5ma  3.444431e-03\n",
      "5          PreComp5ma  1.331469e-03\n",
      "8  rt_VolATO2_VolATO1  2.379025e-04\n",
      "1             VolATO1  9.775532e-10\n",
      "2             VolATO2  9.248591e-11\n",
      "0              Volume  2.653082e-11\n"
     ]
    }
   ],
   "source": [
    "# Check variable importance \n",
    "\n",
    "# create a DataFrame to store the feature coefficients and absolute values\n",
    "coef_df = pd.DataFrame({'Feature': X_train.columns, 'Coefficient': abs(li_model.coef_)})\n",
    "\n",
    "# sort the coefficients by absolute value\n",
    "coef_df = coef_df.sort_values('Coefficient', ascending=False)\n",
    "\n",
    "# print the sorted coefficients\n",
    "print(coef_df)"
   ]
  },
  {
   "cell_type": "markdown",
   "id": "735bd7c1",
   "metadata": {},
   "source": [
    "Let's improve my select top 3 variable importance are `P_chg_ATO2_ATO1`, `today_jump` and `rt_VolATO1_PreVol`"
   ]
  },
  {
   "cell_type": "code",
   "execution_count": 115,
   "id": "68e80276",
   "metadata": {},
   "outputs": [
    {
     "data": {
      "text/html": [
       "<div>\n",
       "<style scoped>\n",
       "    .dataframe tbody tr th:only-of-type {\n",
       "        vertical-align: middle;\n",
       "    }\n",
       "\n",
       "    .dataframe tbody tr th {\n",
       "        vertical-align: top;\n",
       "    }\n",
       "\n",
       "    .dataframe thead th {\n",
       "        text-align: right;\n",
       "    }\n",
       "</style>\n",
       "<table border=\"1\" class=\"dataframe\">\n",
       "  <thead>\n",
       "    <tr style=\"text-align: right;\">\n",
       "      <th></th>\n",
       "      <th>P_chg_ATO2_ATO1</th>\n",
       "      <th>today_jump</th>\n",
       "      <th>rt_VolATO1_PreVol</th>\n",
       "      <th>chg_Ct_Ot</th>\n",
       "    </tr>\n",
       "  </thead>\n",
       "  <tbody>\n",
       "    <tr>\n",
       "      <th>8</th>\n",
       "      <td>0.0243</td>\n",
       "      <td>-0.0027</td>\n",
       "      <td>0.0087</td>\n",
       "      <td>0.0378</td>\n",
       "    </tr>\n",
       "    <tr>\n",
       "      <th>10</th>\n",
       "      <td>0.0079</td>\n",
       "      <td>0.0242</td>\n",
       "      <td>0.0197</td>\n",
       "      <td>-0.0026</td>\n",
       "    </tr>\n",
       "    <tr>\n",
       "      <th>27</th>\n",
       "      <td>0.0086</td>\n",
       "      <td>-0.0085</td>\n",
       "      <td>0.0104</td>\n",
       "      <td>0.0043</td>\n",
       "    </tr>\n",
       "    <tr>\n",
       "      <th>28</th>\n",
       "      <td>0.0086</td>\n",
       "      <td>-0.0043</td>\n",
       "      <td>0.0155</td>\n",
       "      <td>0.0043</td>\n",
       "    </tr>\n",
       "    <tr>\n",
       "      <th>29</th>\n",
       "      <td>0.0086</td>\n",
       "      <td>-0.0043</td>\n",
       "      <td>0.0155</td>\n",
       "      <td>0.0043</td>\n",
       "    </tr>\n",
       "  </tbody>\n",
       "</table>\n",
       "</div>"
      ],
      "text/plain": [
       "    P_chg_ATO2_ATO1  today_jump  rt_VolATO1_PreVol  chg_Ct_Ot\n",
       "8            0.0243     -0.0027             0.0087     0.0378\n",
       "10           0.0079      0.0242             0.0197    -0.0026\n",
       "27           0.0086     -0.0085             0.0104     0.0043\n",
       "28           0.0086     -0.0043             0.0155     0.0043\n",
       "29           0.0086     -0.0043             0.0155     0.0043"
      ]
     },
     "execution_count": 115,
     "metadata": {},
     "output_type": "execute_result"
    }
   ],
   "source": [
    "# Select variable importance \n",
    "\n",
    "new1_updata = up_data[['P_chg_ATO2_ATO1','today_jump','rt_VolATO1_PreVol','chg_Ct_Ot']]\n",
    "new1_updata.head()"
   ]
  },
  {
   "cell_type": "code",
   "execution_count": 116,
   "id": "f36298dd",
   "metadata": {},
   "outputs": [
    {
     "name": "stdout",
     "output_type": "stream",
     "text": [
      "(1020, 3)\n",
      "(1020,)\n"
     ]
    }
   ],
   "source": [
    "# X = feature variables, y = a target variable\n",
    "\n",
    "X = new1_updata.drop('chg_Ct_Ot',axis=1)\n",
    "y = new1_updata['chg_Ct_Ot']\n",
    "\n",
    "print(X.shape)\n",
    "print(y.shape)"
   ]
  },
  {
   "cell_type": "code",
   "execution_count": 117,
   "id": "e4406e6e",
   "metadata": {},
   "outputs": [
    {
     "name": "stdout",
     "output_type": "stream",
     "text": [
      "X_train: (816, 3)\n",
      "y_train: (816,)\n",
      "X_test:  (204, 3)\n",
      "y_test:  (204,)\n"
     ]
    }
   ],
   "source": [
    "# split data 80% for train data set\n",
    "X_train, X_test, y_train, y_test = train_test_split(X, y, test_size = 0.2, random_state = 42)\n",
    "\n",
    "print(f\"X_train: {X_train.shape}\")\n",
    "print(f\"y_train: {y_train.shape}\")\n",
    "print(f\"X_test:  {X_test.shape}\")\n",
    "print(f\"y_test:  {y_test.shape}\")"
   ]
  },
  {
   "cell_type": "code",
   "execution_count": 118,
   "id": "ee4685e0",
   "metadata": {},
   "outputs": [
    {
     "data": {
      "text/html": [
       "<style>#sk-container-id-7 {color: black;background-color: white;}#sk-container-id-7 pre{padding: 0;}#sk-container-id-7 div.sk-toggleable {background-color: white;}#sk-container-id-7 label.sk-toggleable__label {cursor: pointer;display: block;width: 100%;margin-bottom: 0;padding: 0.3em;box-sizing: border-box;text-align: center;}#sk-container-id-7 label.sk-toggleable__label-arrow:before {content: \"▸\";float: left;margin-right: 0.25em;color: #696969;}#sk-container-id-7 label.sk-toggleable__label-arrow:hover:before {color: black;}#sk-container-id-7 div.sk-estimator:hover label.sk-toggleable__label-arrow:before {color: black;}#sk-container-id-7 div.sk-toggleable__content {max-height: 0;max-width: 0;overflow: hidden;text-align: left;background-color: #f0f8ff;}#sk-container-id-7 div.sk-toggleable__content pre {margin: 0.2em;color: black;border-radius: 0.25em;background-color: #f0f8ff;}#sk-container-id-7 input.sk-toggleable__control:checked~div.sk-toggleable__content {max-height: 200px;max-width: 100%;overflow: auto;}#sk-container-id-7 input.sk-toggleable__control:checked~label.sk-toggleable__label-arrow:before {content: \"▾\";}#sk-container-id-7 div.sk-estimator input.sk-toggleable__control:checked~label.sk-toggleable__label {background-color: #d4ebff;}#sk-container-id-7 div.sk-label input.sk-toggleable__control:checked~label.sk-toggleable__label {background-color: #d4ebff;}#sk-container-id-7 input.sk-hidden--visually {border: 0;clip: rect(1px 1px 1px 1px);clip: rect(1px, 1px, 1px, 1px);height: 1px;margin: -1px;overflow: hidden;padding: 0;position: absolute;width: 1px;}#sk-container-id-7 div.sk-estimator {font-family: monospace;background-color: #f0f8ff;border: 1px dotted black;border-radius: 0.25em;box-sizing: border-box;margin-bottom: 0.5em;}#sk-container-id-7 div.sk-estimator:hover {background-color: #d4ebff;}#sk-container-id-7 div.sk-parallel-item::after {content: \"\";width: 100%;border-bottom: 1px solid gray;flex-grow: 1;}#sk-container-id-7 div.sk-label:hover label.sk-toggleable__label {background-color: #d4ebff;}#sk-container-id-7 div.sk-serial::before {content: \"\";position: absolute;border-left: 1px solid gray;box-sizing: border-box;top: 0;bottom: 0;left: 50%;z-index: 0;}#sk-container-id-7 div.sk-serial {display: flex;flex-direction: column;align-items: center;background-color: white;padding-right: 0.2em;padding-left: 0.2em;position: relative;}#sk-container-id-7 div.sk-item {position: relative;z-index: 1;}#sk-container-id-7 div.sk-parallel {display: flex;align-items: stretch;justify-content: center;background-color: white;position: relative;}#sk-container-id-7 div.sk-item::before, #sk-container-id-7 div.sk-parallel-item::before {content: \"\";position: absolute;border-left: 1px solid gray;box-sizing: border-box;top: 0;bottom: 0;left: 50%;z-index: -1;}#sk-container-id-7 div.sk-parallel-item {display: flex;flex-direction: column;z-index: 1;position: relative;background-color: white;}#sk-container-id-7 div.sk-parallel-item:first-child::after {align-self: flex-end;width: 50%;}#sk-container-id-7 div.sk-parallel-item:last-child::after {align-self: flex-start;width: 50%;}#sk-container-id-7 div.sk-parallel-item:only-child::after {width: 0;}#sk-container-id-7 div.sk-dashed-wrapped {border: 1px dashed gray;margin: 0 0.4em 0.5em 0.4em;box-sizing: border-box;padding-bottom: 0.4em;background-color: white;}#sk-container-id-7 div.sk-label label {font-family: monospace;font-weight: bold;display: inline-block;line-height: 1.2em;}#sk-container-id-7 div.sk-label-container {text-align: center;}#sk-container-id-7 div.sk-container {/* jupyter's `normalize.less` sets `[hidden] { display: none; }` but bootstrap.min.css set `[hidden] { display: none !important; }` so we also need the `!important` here to be able to override the default hidden behavior on the sphinx rendered scikit-learn.org. See: https://github.com/scikit-learn/scikit-learn/issues/21755 */display: inline-block !important;position: relative;}#sk-container-id-7 div.sk-text-repr-fallback {display: none;}</style><div id=\"sk-container-id-7\" class=\"sk-top-container\"><div class=\"sk-text-repr-fallback\"><pre>LinearRegression()</pre><b>In a Jupyter environment, please rerun this cell to show the HTML representation or trust the notebook. <br />On GitHub, the HTML representation is unable to render, please try loading this page with nbviewer.org.</b></div><div class=\"sk-container\" hidden><div class=\"sk-item\"><div class=\"sk-estimator sk-toggleable\"><input class=\"sk-toggleable__control sk-hidden--visually\" id=\"sk-estimator-id-7\" type=\"checkbox\" checked><label for=\"sk-estimator-id-7\" class=\"sk-toggleable__label sk-toggleable__label-arrow\">LinearRegression</label><div class=\"sk-toggleable__content\"><pre>LinearRegression()</pre></div></div></div></div></div>"
      ],
      "text/plain": [
       "LinearRegression()"
      ]
     },
     "execution_count": 118,
     "metadata": {},
     "output_type": "execute_result"
    }
   ],
   "source": [
    "# Model fitting (I slect the simple model with high R-squared)\n",
    "\n",
    "# Linear regression\n",
    "li1_model = LinearRegression()\n",
    "li1_model.fit(X_train, y_train)\n"
   ]
  },
  {
   "cell_type": "code",
   "execution_count": 119,
   "id": "25ae4bec",
   "metadata": {},
   "outputs": [
    {
     "name": "stdout",
     "output_type": "stream",
     "text": [
      "RMSE from Linear model : 0.0086\n",
      "R-squared from Linear model : 0.7869\n"
     ]
    }
   ],
   "source": [
    "# Model evaluation\n",
    "\n",
    "# Linear regression\n",
    "pred_li_test = li1_model.predict(X_test)\n",
    "rmse_li = mean_squared_error(y_test, pred_li_test, squared=False).round(4)\n",
    "test_r2_li = li1_model.score(X_test, y_test).round(4)\n",
    "print(f\"RMSE from Linear model : {rmse_li}\")\n",
    "print(f\"R-squared from Linear model : {test_r2_li}\")\n"
   ]
  },
  {
   "cell_type": "markdown",
   "id": "d885ed0a",
   "metadata": {},
   "source": [
    "#### R-squared little improve from  0.7726 to 0.7869 on Linear model"
   ]
  },
  {
   "cell_type": "code",
   "execution_count": 137,
   "id": "56ad14fa",
   "metadata": {},
   "outputs": [
    {
     "data": {
      "text/html": [
       "<div>\n",
       "<style scoped>\n",
       "    .dataframe tbody tr th:only-of-type {\n",
       "        vertical-align: middle;\n",
       "    }\n",
       "\n",
       "    .dataframe tbody tr th {\n",
       "        vertical-align: top;\n",
       "    }\n",
       "\n",
       "    .dataframe thead th {\n",
       "        text-align: right;\n",
       "    }\n",
       "</style>\n",
       "<table border=\"1\" class=\"dataframe\">\n",
       "  <thead>\n",
       "    <tr style=\"text-align: right;\">\n",
       "      <th></th>\n",
       "      <th>P_chg_ATO2_ATO1</th>\n",
       "      <th>today_jump</th>\n",
       "      <th>chg_Ct_Ot</th>\n",
       "    </tr>\n",
       "  </thead>\n",
       "  <tbody>\n",
       "    <tr>\n",
       "      <th>8</th>\n",
       "      <td>0.0243</td>\n",
       "      <td>-0.0027</td>\n",
       "      <td>0.0378</td>\n",
       "    </tr>\n",
       "    <tr>\n",
       "      <th>10</th>\n",
       "      <td>0.0079</td>\n",
       "      <td>0.0242</td>\n",
       "      <td>-0.0026</td>\n",
       "    </tr>\n",
       "    <tr>\n",
       "      <th>27</th>\n",
       "      <td>0.0086</td>\n",
       "      <td>-0.0085</td>\n",
       "      <td>0.0043</td>\n",
       "    </tr>\n",
       "    <tr>\n",
       "      <th>28</th>\n",
       "      <td>0.0086</td>\n",
       "      <td>-0.0043</td>\n",
       "      <td>0.0043</td>\n",
       "    </tr>\n",
       "    <tr>\n",
       "      <th>29</th>\n",
       "      <td>0.0086</td>\n",
       "      <td>-0.0043</td>\n",
       "      <td>0.0043</td>\n",
       "    </tr>\n",
       "  </tbody>\n",
       "</table>\n",
       "</div>"
      ],
      "text/plain": [
       "    P_chg_ATO2_ATO1  today_jump  chg_Ct_Ot\n",
       "8            0.0243     -0.0027     0.0378\n",
       "10           0.0079      0.0242    -0.0026\n",
       "27           0.0086     -0.0085     0.0043\n",
       "28           0.0086     -0.0043     0.0043\n",
       "29           0.0086     -0.0043     0.0043"
      ]
     },
     "execution_count": 137,
     "metadata": {},
     "output_type": "execute_result"
    }
   ],
   "source": [
    "# Select variable importance again\n",
    "\n",
    "new2_updata = up_data[['P_chg_ATO2_ATO1','today_jump','chg_Ct_Ot']]\n",
    "new2_updata.head()"
   ]
  },
  {
   "cell_type": "code",
   "execution_count": 138,
   "id": "d054ae67",
   "metadata": {},
   "outputs": [
    {
     "name": "stdout",
     "output_type": "stream",
     "text": [
      "(1020, 2)\n",
      "(1020,)\n"
     ]
    }
   ],
   "source": [
    "# X = feature variables, y = a target variable\n",
    "\n",
    "X = new2_updata.drop('chg_Ct_Ot',axis=1)\n",
    "y = new2_updata['chg_Ct_Ot']\n",
    "\n",
    "print(X.shape)\n",
    "print(y.shape)"
   ]
  },
  {
   "cell_type": "code",
   "execution_count": 139,
   "id": "b5e46b9b",
   "metadata": {},
   "outputs": [
    {
     "name": "stdout",
     "output_type": "stream",
     "text": [
      "X_train: (816, 2)\n",
      "y_train: (816,)\n",
      "X_test:  (204, 2)\n",
      "y_test:  (204,)\n"
     ]
    }
   ],
   "source": [
    "# split data 80% for train data set\n",
    "X_train, X_test, y_train, y_test = train_test_split(X, y, test_size = 0.2, random_state = 42)\n",
    "\n",
    "print(f\"X_train: {X_train.shape}\")\n",
    "print(f\"y_train: {y_train.shape}\")\n",
    "print(f\"X_test:  {X_test.shape}\")\n",
    "print(f\"y_test:  {y_test.shape}\")"
   ]
  },
  {
   "cell_type": "code",
   "execution_count": 140,
   "id": "66d9dde2",
   "metadata": {},
   "outputs": [
    {
     "data": {
      "text/html": [
       "<style>#sk-container-id-11 {color: black;background-color: white;}#sk-container-id-11 pre{padding: 0;}#sk-container-id-11 div.sk-toggleable {background-color: white;}#sk-container-id-11 label.sk-toggleable__label {cursor: pointer;display: block;width: 100%;margin-bottom: 0;padding: 0.3em;box-sizing: border-box;text-align: center;}#sk-container-id-11 label.sk-toggleable__label-arrow:before {content: \"▸\";float: left;margin-right: 0.25em;color: #696969;}#sk-container-id-11 label.sk-toggleable__label-arrow:hover:before {color: black;}#sk-container-id-11 div.sk-estimator:hover label.sk-toggleable__label-arrow:before {color: black;}#sk-container-id-11 div.sk-toggleable__content {max-height: 0;max-width: 0;overflow: hidden;text-align: left;background-color: #f0f8ff;}#sk-container-id-11 div.sk-toggleable__content pre {margin: 0.2em;color: black;border-radius: 0.25em;background-color: #f0f8ff;}#sk-container-id-11 input.sk-toggleable__control:checked~div.sk-toggleable__content {max-height: 200px;max-width: 100%;overflow: auto;}#sk-container-id-11 input.sk-toggleable__control:checked~label.sk-toggleable__label-arrow:before {content: \"▾\";}#sk-container-id-11 div.sk-estimator input.sk-toggleable__control:checked~label.sk-toggleable__label {background-color: #d4ebff;}#sk-container-id-11 div.sk-label input.sk-toggleable__control:checked~label.sk-toggleable__label {background-color: #d4ebff;}#sk-container-id-11 input.sk-hidden--visually {border: 0;clip: rect(1px 1px 1px 1px);clip: rect(1px, 1px, 1px, 1px);height: 1px;margin: -1px;overflow: hidden;padding: 0;position: absolute;width: 1px;}#sk-container-id-11 div.sk-estimator {font-family: monospace;background-color: #f0f8ff;border: 1px dotted black;border-radius: 0.25em;box-sizing: border-box;margin-bottom: 0.5em;}#sk-container-id-11 div.sk-estimator:hover {background-color: #d4ebff;}#sk-container-id-11 div.sk-parallel-item::after {content: \"\";width: 100%;border-bottom: 1px solid gray;flex-grow: 1;}#sk-container-id-11 div.sk-label:hover label.sk-toggleable__label {background-color: #d4ebff;}#sk-container-id-11 div.sk-serial::before {content: \"\";position: absolute;border-left: 1px solid gray;box-sizing: border-box;top: 0;bottom: 0;left: 50%;z-index: 0;}#sk-container-id-11 div.sk-serial {display: flex;flex-direction: column;align-items: center;background-color: white;padding-right: 0.2em;padding-left: 0.2em;position: relative;}#sk-container-id-11 div.sk-item {position: relative;z-index: 1;}#sk-container-id-11 div.sk-parallel {display: flex;align-items: stretch;justify-content: center;background-color: white;position: relative;}#sk-container-id-11 div.sk-item::before, #sk-container-id-11 div.sk-parallel-item::before {content: \"\";position: absolute;border-left: 1px solid gray;box-sizing: border-box;top: 0;bottom: 0;left: 50%;z-index: -1;}#sk-container-id-11 div.sk-parallel-item {display: flex;flex-direction: column;z-index: 1;position: relative;background-color: white;}#sk-container-id-11 div.sk-parallel-item:first-child::after {align-self: flex-end;width: 50%;}#sk-container-id-11 div.sk-parallel-item:last-child::after {align-self: flex-start;width: 50%;}#sk-container-id-11 div.sk-parallel-item:only-child::after {width: 0;}#sk-container-id-11 div.sk-dashed-wrapped {border: 1px dashed gray;margin: 0 0.4em 0.5em 0.4em;box-sizing: border-box;padding-bottom: 0.4em;background-color: white;}#sk-container-id-11 div.sk-label label {font-family: monospace;font-weight: bold;display: inline-block;line-height: 1.2em;}#sk-container-id-11 div.sk-label-container {text-align: center;}#sk-container-id-11 div.sk-container {/* jupyter's `normalize.less` sets `[hidden] { display: none; }` but bootstrap.min.css set `[hidden] { display: none !important; }` so we also need the `!important` here to be able to override the default hidden behavior on the sphinx rendered scikit-learn.org. See: https://github.com/scikit-learn/scikit-learn/issues/21755 */display: inline-block !important;position: relative;}#sk-container-id-11 div.sk-text-repr-fallback {display: none;}</style><div id=\"sk-container-id-11\" class=\"sk-top-container\"><div class=\"sk-text-repr-fallback\"><pre>LinearRegression()</pre><b>In a Jupyter environment, please rerun this cell to show the HTML representation or trust the notebook. <br />On GitHub, the HTML representation is unable to render, please try loading this page with nbviewer.org.</b></div><div class=\"sk-container\" hidden><div class=\"sk-item\"><div class=\"sk-estimator sk-toggleable\"><input class=\"sk-toggleable__control sk-hidden--visually\" id=\"sk-estimator-id-11\" type=\"checkbox\" checked><label for=\"sk-estimator-id-11\" class=\"sk-toggleable__label sk-toggleable__label-arrow\">LinearRegression</label><div class=\"sk-toggleable__content\"><pre>LinearRegression()</pre></div></div></div></div></div>"
      ],
      "text/plain": [
       "LinearRegression()"
      ]
     },
     "execution_count": 140,
     "metadata": {},
     "output_type": "execute_result"
    }
   ],
   "source": [
    "# Model fitting (I slect the simple model with high R-squared)\n",
    "\n",
    "# Linear regression\n",
    "li2_model = LinearRegression()\n",
    "li2_model.fit(X_train, y_train)\n"
   ]
  },
  {
   "cell_type": "code",
   "execution_count": 141,
   "id": "abcd9716",
   "metadata": {},
   "outputs": [
    {
     "name": "stdout",
     "output_type": "stream",
     "text": [
      "RMSE from Linear model : 0.0083\n",
      "R-squared from Linear model : 0.7981\n"
     ]
    }
   ],
   "source": [
    "# Model evaluation\n",
    "\n",
    "# Linear regression\n",
    "pred_li_test = li2_model.predict(X_test)\n",
    "rmse_li = mean_squared_error(y_test, pred_li_test, squared=False).round(4)\n",
    "test_r2_li = li2_model.score(X_test, y_test).round(4)\n",
    "print(f\"RMSE from Linear model : {rmse_li}\")\n",
    "print(f\"R-squared from Linear model : {test_r2_li}\")\n"
   ]
  },
  {
   "cell_type": "markdown",
   "id": "dd67ac6a",
   "metadata": {},
   "source": [
    "#### R-squared little improve from 0.7869 to 0.7981 on Linear model"
   ]
  },
  {
   "cell_type": "code",
   "execution_count": 125,
   "id": "6b2aa436",
   "metadata": {},
   "outputs": [
    {
     "data": {
      "text/html": [
       "<div>\n",
       "<style scoped>\n",
       "    .dataframe tbody tr th:only-of-type {\n",
       "        vertical-align: middle;\n",
       "    }\n",
       "\n",
       "    .dataframe tbody tr th {\n",
       "        vertical-align: top;\n",
       "    }\n",
       "\n",
       "    .dataframe thead th {\n",
       "        text-align: right;\n",
       "    }\n",
       "</style>\n",
       "<table border=\"1\" class=\"dataframe\">\n",
       "  <thead>\n",
       "    <tr style=\"text-align: right;\">\n",
       "      <th></th>\n",
       "      <th>P_chg_ATO2_ATO1</th>\n",
       "      <th>today_jump</th>\n",
       "      <th>comp5ma</th>\n",
       "      <th>rt_VolATO1_PreVol</th>\n",
       "      <th>chg_Ct_Ot</th>\n",
       "    </tr>\n",
       "  </thead>\n",
       "  <tbody>\n",
       "    <tr>\n",
       "      <th>8</th>\n",
       "      <td>0.0243</td>\n",
       "      <td>-0.0027</td>\n",
       "      <td>0.6160</td>\n",
       "      <td>0.0087</td>\n",
       "      <td>0.0378</td>\n",
       "    </tr>\n",
       "    <tr>\n",
       "      <th>10</th>\n",
       "      <td>0.0079</td>\n",
       "      <td>0.0242</td>\n",
       "      <td>0.6921</td>\n",
       "      <td>0.0197</td>\n",
       "      <td>-0.0026</td>\n",
       "    </tr>\n",
       "    <tr>\n",
       "      <th>27</th>\n",
       "      <td>0.0086</td>\n",
       "      <td>-0.0085</td>\n",
       "      <td>0.8004</td>\n",
       "      <td>0.0104</td>\n",
       "      <td>0.0043</td>\n",
       "    </tr>\n",
       "    <tr>\n",
       "      <th>28</th>\n",
       "      <td>0.0086</td>\n",
       "      <td>-0.0043</td>\n",
       "      <td>0.8004</td>\n",
       "      <td>0.0155</td>\n",
       "      <td>0.0043</td>\n",
       "    </tr>\n",
       "    <tr>\n",
       "      <th>29</th>\n",
       "      <td>0.0086</td>\n",
       "      <td>-0.0043</td>\n",
       "      <td>0.8004</td>\n",
       "      <td>0.0155</td>\n",
       "      <td>0.0043</td>\n",
       "    </tr>\n",
       "  </tbody>\n",
       "</table>\n",
       "</div>"
      ],
      "text/plain": [
       "    P_chg_ATO2_ATO1  today_jump  comp5ma  rt_VolATO1_PreVol  chg_Ct_Ot\n",
       "8            0.0243     -0.0027   0.6160             0.0087     0.0378\n",
       "10           0.0079      0.0242   0.6921             0.0197    -0.0026\n",
       "27           0.0086     -0.0085   0.8004             0.0104     0.0043\n",
       "28           0.0086     -0.0043   0.8004             0.0155     0.0043\n",
       "29           0.0086     -0.0043   0.8004             0.0155     0.0043"
      ]
     },
     "execution_count": 125,
     "metadata": {},
     "output_type": "execute_result"
    }
   ],
   "source": [
    "# Select variable importance again\n",
    "\n",
    "new3_updata = up_data[['P_chg_ATO2_ATO1','today_jump','comp5ma','rt_VolATO1_PreVol','chg_Ct_Ot']]\n",
    "new3_updata.head()"
   ]
  },
  {
   "cell_type": "code",
   "execution_count": 126,
   "id": "34969af5",
   "metadata": {},
   "outputs": [
    {
     "name": "stdout",
     "output_type": "stream",
     "text": [
      "(1020, 4)\n",
      "(1020,)\n"
     ]
    }
   ],
   "source": [
    "# X = feature variables, y = a target variable\n",
    "\n",
    "X = new3_updata.drop('chg_Ct_Ot',axis=1)\n",
    "y = new3_updata['chg_Ct_Ot']\n",
    "\n",
    "print(X.shape)\n",
    "print(y.shape)"
   ]
  },
  {
   "cell_type": "code",
   "execution_count": 127,
   "id": "977b5c5d",
   "metadata": {},
   "outputs": [
    {
     "name": "stdout",
     "output_type": "stream",
     "text": [
      "X_train: (816, 4)\n",
      "y_train: (816,)\n",
      "X_test:  (204, 4)\n",
      "y_test:  (204,)\n"
     ]
    }
   ],
   "source": [
    "# split data 80% for train data set\n",
    "X_train, X_test, y_train, y_test = train_test_split(X, y, test_size = 0.2, random_state = 42)\n",
    "\n",
    "print(f\"X_train: {X_train.shape}\")\n",
    "print(f\"y_train: {y_train.shape}\")\n",
    "print(f\"X_test:  {X_test.shape}\")\n",
    "print(f\"y_test:  {y_test.shape}\")"
   ]
  },
  {
   "cell_type": "code",
   "execution_count": 128,
   "id": "0694e0ea",
   "metadata": {},
   "outputs": [
    {
     "data": {
      "text/html": [
       "<style>#sk-container-id-9 {color: black;background-color: white;}#sk-container-id-9 pre{padding: 0;}#sk-container-id-9 div.sk-toggleable {background-color: white;}#sk-container-id-9 label.sk-toggleable__label {cursor: pointer;display: block;width: 100%;margin-bottom: 0;padding: 0.3em;box-sizing: border-box;text-align: center;}#sk-container-id-9 label.sk-toggleable__label-arrow:before {content: \"▸\";float: left;margin-right: 0.25em;color: #696969;}#sk-container-id-9 label.sk-toggleable__label-arrow:hover:before {color: black;}#sk-container-id-9 div.sk-estimator:hover label.sk-toggleable__label-arrow:before {color: black;}#sk-container-id-9 div.sk-toggleable__content {max-height: 0;max-width: 0;overflow: hidden;text-align: left;background-color: #f0f8ff;}#sk-container-id-9 div.sk-toggleable__content pre {margin: 0.2em;color: black;border-radius: 0.25em;background-color: #f0f8ff;}#sk-container-id-9 input.sk-toggleable__control:checked~div.sk-toggleable__content {max-height: 200px;max-width: 100%;overflow: auto;}#sk-container-id-9 input.sk-toggleable__control:checked~label.sk-toggleable__label-arrow:before {content: \"▾\";}#sk-container-id-9 div.sk-estimator input.sk-toggleable__control:checked~label.sk-toggleable__label {background-color: #d4ebff;}#sk-container-id-9 div.sk-label input.sk-toggleable__control:checked~label.sk-toggleable__label {background-color: #d4ebff;}#sk-container-id-9 input.sk-hidden--visually {border: 0;clip: rect(1px 1px 1px 1px);clip: rect(1px, 1px, 1px, 1px);height: 1px;margin: -1px;overflow: hidden;padding: 0;position: absolute;width: 1px;}#sk-container-id-9 div.sk-estimator {font-family: monospace;background-color: #f0f8ff;border: 1px dotted black;border-radius: 0.25em;box-sizing: border-box;margin-bottom: 0.5em;}#sk-container-id-9 div.sk-estimator:hover {background-color: #d4ebff;}#sk-container-id-9 div.sk-parallel-item::after {content: \"\";width: 100%;border-bottom: 1px solid gray;flex-grow: 1;}#sk-container-id-9 div.sk-label:hover label.sk-toggleable__label {background-color: #d4ebff;}#sk-container-id-9 div.sk-serial::before {content: \"\";position: absolute;border-left: 1px solid gray;box-sizing: border-box;top: 0;bottom: 0;left: 50%;z-index: 0;}#sk-container-id-9 div.sk-serial {display: flex;flex-direction: column;align-items: center;background-color: white;padding-right: 0.2em;padding-left: 0.2em;position: relative;}#sk-container-id-9 div.sk-item {position: relative;z-index: 1;}#sk-container-id-9 div.sk-parallel {display: flex;align-items: stretch;justify-content: center;background-color: white;position: relative;}#sk-container-id-9 div.sk-item::before, #sk-container-id-9 div.sk-parallel-item::before {content: \"\";position: absolute;border-left: 1px solid gray;box-sizing: border-box;top: 0;bottom: 0;left: 50%;z-index: -1;}#sk-container-id-9 div.sk-parallel-item {display: flex;flex-direction: column;z-index: 1;position: relative;background-color: white;}#sk-container-id-9 div.sk-parallel-item:first-child::after {align-self: flex-end;width: 50%;}#sk-container-id-9 div.sk-parallel-item:last-child::after {align-self: flex-start;width: 50%;}#sk-container-id-9 div.sk-parallel-item:only-child::after {width: 0;}#sk-container-id-9 div.sk-dashed-wrapped {border: 1px dashed gray;margin: 0 0.4em 0.5em 0.4em;box-sizing: border-box;padding-bottom: 0.4em;background-color: white;}#sk-container-id-9 div.sk-label label {font-family: monospace;font-weight: bold;display: inline-block;line-height: 1.2em;}#sk-container-id-9 div.sk-label-container {text-align: center;}#sk-container-id-9 div.sk-container {/* jupyter's `normalize.less` sets `[hidden] { display: none; }` but bootstrap.min.css set `[hidden] { display: none !important; }` so we also need the `!important` here to be able to override the default hidden behavior on the sphinx rendered scikit-learn.org. See: https://github.com/scikit-learn/scikit-learn/issues/21755 */display: inline-block !important;position: relative;}#sk-container-id-9 div.sk-text-repr-fallback {display: none;}</style><div id=\"sk-container-id-9\" class=\"sk-top-container\"><div class=\"sk-text-repr-fallback\"><pre>LinearRegression()</pre><b>In a Jupyter environment, please rerun this cell to show the HTML representation or trust the notebook. <br />On GitHub, the HTML representation is unable to render, please try loading this page with nbviewer.org.</b></div><div class=\"sk-container\" hidden><div class=\"sk-item\"><div class=\"sk-estimator sk-toggleable\"><input class=\"sk-toggleable__control sk-hidden--visually\" id=\"sk-estimator-id-9\" type=\"checkbox\" checked><label for=\"sk-estimator-id-9\" class=\"sk-toggleable__label sk-toggleable__label-arrow\">LinearRegression</label><div class=\"sk-toggleable__content\"><pre>LinearRegression()</pre></div></div></div></div></div>"
      ],
      "text/plain": [
       "LinearRegression()"
      ]
     },
     "execution_count": 128,
     "metadata": {},
     "output_type": "execute_result"
    }
   ],
   "source": [
    "# Model fitting (I slect the simple model with high R-squared)\n",
    "\n",
    "# Linear regression\n",
    "li3_model = LinearRegression()\n",
    "li3_model.fit(X_train, y_train)\n"
   ]
  },
  {
   "cell_type": "code",
   "execution_count": 129,
   "id": "226fdb7f",
   "metadata": {},
   "outputs": [
    {
     "name": "stdout",
     "output_type": "stream",
     "text": [
      "RMSE from Linear model : 0.0086\n",
      "R-squared from Linear model : 0.783\n"
     ]
    }
   ],
   "source": [
    "# Model evaluation\n",
    "\n",
    "# Linear regression\n",
    "pred_li_test = li3_model.predict(X_test)\n",
    "rmse_li = mean_squared_error(y_test, pred_li_test, squared=False).round(4)\n",
    "test_r2_li = li3_model.score(X_test, y_test).round(4)\n",
    "print(f\"RMSE from Linear model : {rmse_li}\")\n",
    "print(f\"R-squared from Linear model : {test_r2_li}\")\n"
   ]
  },
  {
   "cell_type": "markdown",
   "id": "81553594",
   "metadata": {},
   "source": [
    "#### R-squared little reduce from 0.7981 to 0.783 on Linear model"
   ]
  },
  {
   "cell_type": "code",
   "execution_count": 130,
   "id": "e01294da",
   "metadata": {},
   "outputs": [
    {
     "data": {
      "text/html": [
       "<div>\n",
       "<style scoped>\n",
       "    .dataframe tbody tr th:only-of-type {\n",
       "        vertical-align: middle;\n",
       "    }\n",
       "\n",
       "    .dataframe tbody tr th {\n",
       "        vertical-align: top;\n",
       "    }\n",
       "\n",
       "    .dataframe thead th {\n",
       "        text-align: right;\n",
       "    }\n",
       "</style>\n",
       "<table border=\"1\" class=\"dataframe\">\n",
       "  <thead>\n",
       "    <tr style=\"text-align: right;\">\n",
       "      <th></th>\n",
       "      <th>P_chg_ATO2_ATO1</th>\n",
       "      <th>chg_Ct_Ot</th>\n",
       "    </tr>\n",
       "  </thead>\n",
       "  <tbody>\n",
       "    <tr>\n",
       "      <th>8</th>\n",
       "      <td>0.0243</td>\n",
       "      <td>0.0378</td>\n",
       "    </tr>\n",
       "    <tr>\n",
       "      <th>10</th>\n",
       "      <td>0.0079</td>\n",
       "      <td>-0.0026</td>\n",
       "    </tr>\n",
       "    <tr>\n",
       "      <th>27</th>\n",
       "      <td>0.0086</td>\n",
       "      <td>0.0043</td>\n",
       "    </tr>\n",
       "    <tr>\n",
       "      <th>28</th>\n",
       "      <td>0.0086</td>\n",
       "      <td>0.0043</td>\n",
       "    </tr>\n",
       "    <tr>\n",
       "      <th>29</th>\n",
       "      <td>0.0086</td>\n",
       "      <td>0.0043</td>\n",
       "    </tr>\n",
       "  </tbody>\n",
       "</table>\n",
       "</div>"
      ],
      "text/plain": [
       "    P_chg_ATO2_ATO1  chg_Ct_Ot\n",
       "8            0.0243     0.0378\n",
       "10           0.0079    -0.0026\n",
       "27           0.0086     0.0043\n",
       "28           0.0086     0.0043\n",
       "29           0.0086     0.0043"
      ]
     },
     "execution_count": 130,
     "metadata": {},
     "output_type": "execute_result"
    }
   ],
   "source": [
    "# Select variable importance again\n",
    "\n",
    "new4_updata = up_data[['P_chg_ATO2_ATO1','chg_Ct_Ot']]\n",
    "new4_updata.head()"
   ]
  },
  {
   "cell_type": "code",
   "execution_count": 131,
   "id": "b0ff82f2",
   "metadata": {},
   "outputs": [
    {
     "name": "stdout",
     "output_type": "stream",
     "text": [
      "(1020, 1)\n",
      "(1020,)\n"
     ]
    }
   ],
   "source": [
    "# X = feature variables, y = a target variable\n",
    "\n",
    "X = new4_updata.drop('chg_Ct_Ot',axis=1)\n",
    "y = new4_updata['chg_Ct_Ot']\n",
    "\n",
    "print(X.shape)\n",
    "print(y.shape)"
   ]
  },
  {
   "cell_type": "code",
   "execution_count": 132,
   "id": "c695000f",
   "metadata": {},
   "outputs": [
    {
     "name": "stdout",
     "output_type": "stream",
     "text": [
      "X_train: (816, 1)\n",
      "y_train: (816,)\n",
      "X_test:  (204, 1)\n",
      "y_test:  (204,)\n"
     ]
    }
   ],
   "source": [
    "# split data 80% for train data set\n",
    "X_train, X_test, y_train, y_test = train_test_split(X, y, test_size = 0.2, random_state = 42)\n",
    "\n",
    "print(f\"X_train: {X_train.shape}\")\n",
    "print(f\"y_train: {y_train.shape}\")\n",
    "print(f\"X_test:  {X_test.shape}\")\n",
    "print(f\"y_test:  {y_test.shape}\")"
   ]
  },
  {
   "cell_type": "code",
   "execution_count": 133,
   "id": "e61defb6",
   "metadata": {},
   "outputs": [
    {
     "data": {
      "text/html": [
       "<style>#sk-container-id-10 {color: black;background-color: white;}#sk-container-id-10 pre{padding: 0;}#sk-container-id-10 div.sk-toggleable {background-color: white;}#sk-container-id-10 label.sk-toggleable__label {cursor: pointer;display: block;width: 100%;margin-bottom: 0;padding: 0.3em;box-sizing: border-box;text-align: center;}#sk-container-id-10 label.sk-toggleable__label-arrow:before {content: \"▸\";float: left;margin-right: 0.25em;color: #696969;}#sk-container-id-10 label.sk-toggleable__label-arrow:hover:before {color: black;}#sk-container-id-10 div.sk-estimator:hover label.sk-toggleable__label-arrow:before {color: black;}#sk-container-id-10 div.sk-toggleable__content {max-height: 0;max-width: 0;overflow: hidden;text-align: left;background-color: #f0f8ff;}#sk-container-id-10 div.sk-toggleable__content pre {margin: 0.2em;color: black;border-radius: 0.25em;background-color: #f0f8ff;}#sk-container-id-10 input.sk-toggleable__control:checked~div.sk-toggleable__content {max-height: 200px;max-width: 100%;overflow: auto;}#sk-container-id-10 input.sk-toggleable__control:checked~label.sk-toggleable__label-arrow:before {content: \"▾\";}#sk-container-id-10 div.sk-estimator input.sk-toggleable__control:checked~label.sk-toggleable__label {background-color: #d4ebff;}#sk-container-id-10 div.sk-label input.sk-toggleable__control:checked~label.sk-toggleable__label {background-color: #d4ebff;}#sk-container-id-10 input.sk-hidden--visually {border: 0;clip: rect(1px 1px 1px 1px);clip: rect(1px, 1px, 1px, 1px);height: 1px;margin: -1px;overflow: hidden;padding: 0;position: absolute;width: 1px;}#sk-container-id-10 div.sk-estimator {font-family: monospace;background-color: #f0f8ff;border: 1px dotted black;border-radius: 0.25em;box-sizing: border-box;margin-bottom: 0.5em;}#sk-container-id-10 div.sk-estimator:hover {background-color: #d4ebff;}#sk-container-id-10 div.sk-parallel-item::after {content: \"\";width: 100%;border-bottom: 1px solid gray;flex-grow: 1;}#sk-container-id-10 div.sk-label:hover label.sk-toggleable__label {background-color: #d4ebff;}#sk-container-id-10 div.sk-serial::before {content: \"\";position: absolute;border-left: 1px solid gray;box-sizing: border-box;top: 0;bottom: 0;left: 50%;z-index: 0;}#sk-container-id-10 div.sk-serial {display: flex;flex-direction: column;align-items: center;background-color: white;padding-right: 0.2em;padding-left: 0.2em;position: relative;}#sk-container-id-10 div.sk-item {position: relative;z-index: 1;}#sk-container-id-10 div.sk-parallel {display: flex;align-items: stretch;justify-content: center;background-color: white;position: relative;}#sk-container-id-10 div.sk-item::before, #sk-container-id-10 div.sk-parallel-item::before {content: \"\";position: absolute;border-left: 1px solid gray;box-sizing: border-box;top: 0;bottom: 0;left: 50%;z-index: -1;}#sk-container-id-10 div.sk-parallel-item {display: flex;flex-direction: column;z-index: 1;position: relative;background-color: white;}#sk-container-id-10 div.sk-parallel-item:first-child::after {align-self: flex-end;width: 50%;}#sk-container-id-10 div.sk-parallel-item:last-child::after {align-self: flex-start;width: 50%;}#sk-container-id-10 div.sk-parallel-item:only-child::after {width: 0;}#sk-container-id-10 div.sk-dashed-wrapped {border: 1px dashed gray;margin: 0 0.4em 0.5em 0.4em;box-sizing: border-box;padding-bottom: 0.4em;background-color: white;}#sk-container-id-10 div.sk-label label {font-family: monospace;font-weight: bold;display: inline-block;line-height: 1.2em;}#sk-container-id-10 div.sk-label-container {text-align: center;}#sk-container-id-10 div.sk-container {/* jupyter's `normalize.less` sets `[hidden] { display: none; }` but bootstrap.min.css set `[hidden] { display: none !important; }` so we also need the `!important` here to be able to override the default hidden behavior on the sphinx rendered scikit-learn.org. See: https://github.com/scikit-learn/scikit-learn/issues/21755 */display: inline-block !important;position: relative;}#sk-container-id-10 div.sk-text-repr-fallback {display: none;}</style><div id=\"sk-container-id-10\" class=\"sk-top-container\"><div class=\"sk-text-repr-fallback\"><pre>LinearRegression()</pre><b>In a Jupyter environment, please rerun this cell to show the HTML representation or trust the notebook. <br />On GitHub, the HTML representation is unable to render, please try loading this page with nbviewer.org.</b></div><div class=\"sk-container\" hidden><div class=\"sk-item\"><div class=\"sk-estimator sk-toggleable\"><input class=\"sk-toggleable__control sk-hidden--visually\" id=\"sk-estimator-id-10\" type=\"checkbox\" checked><label for=\"sk-estimator-id-10\" class=\"sk-toggleable__label sk-toggleable__label-arrow\">LinearRegression</label><div class=\"sk-toggleable__content\"><pre>LinearRegression()</pre></div></div></div></div></div>"
      ],
      "text/plain": [
       "LinearRegression()"
      ]
     },
     "execution_count": 133,
     "metadata": {},
     "output_type": "execute_result"
    }
   ],
   "source": [
    "# Model fitting (I slect the simple model with high R-squared)\n",
    "\n",
    "# Linear regression\n",
    "li4_model = LinearRegression()\n",
    "li4_model.fit(X_train, y_train)\n"
   ]
  },
  {
   "cell_type": "code",
   "execution_count": 134,
   "id": "c927735a",
   "metadata": {},
   "outputs": [
    {
     "name": "stdout",
     "output_type": "stream",
     "text": [
      "RMSE from Linear model : 0.0084\n",
      "R-squared from Linear model : 0.7931\n"
     ]
    }
   ],
   "source": [
    "# Model evaluation\n",
    "\n",
    "# Linear regression\n",
    "pred_li_test = li4_model.predict(X_test)\n",
    "rmse_li = mean_squared_error(y_test, pred_li_test, squared=False).round(4)\n",
    "test_r2_li = li4_model.score(X_test, y_test).round(4)\n",
    "print(f\"RMSE from Linear model : {rmse_li}\")\n",
    "print(f\"R-squared from Linear model : {test_r2_li}\")\n"
   ]
  },
  {
   "cell_type": "markdown",
   "id": "a4412f36",
   "metadata": {},
   "source": [
    "#### R-squared improve reduce from 0.783 to 0.7931 on Linear model\n",
    "\n",
    "Now the highest R-squared is 0.7981 that include `P_chg_ATO2_ATO1` and `today_jump` features . Second R-squared is 0.7931 that only `P_chg_ATO2_ATO1` features."
   ]
  },
  {
   "cell_type": "code",
   "execution_count": 142,
   "id": "1cb3abbf",
   "metadata": {},
   "outputs": [
    {
     "name": "stdout",
     "output_type": "stream",
     "text": [
      "           Feature  Coefficient\n",
      "0  P_chg_ATO2_ATO1     1.012133\n",
      "1       today_jump     0.068486\n"
     ]
    }
   ],
   "source": [
    "# Check coefficients\n",
    "\n",
    "# create a DataFrame to store the feature coefficients and absolute values\n",
    "coef_df = pd.DataFrame({'Feature': X_train.columns, 'Coefficient': abs(li2_model.coef_)})\n",
    "\n",
    "# sort the coefficients by absolute value\n",
    "coef_df = coef_df.sort_values('Coefficient', ascending=False)\n",
    "\n",
    "# print the sorted coefficients\n",
    "print(coef_df)"
   ]
  },
  {
   "cell_type": "code",
   "execution_count": 144,
   "id": "19f32be3",
   "metadata": {},
   "outputs": [
    {
     "name": "stdout",
     "output_type": "stream",
     "text": [
      "2 feature linear equation y = -0.0003 + 1.0121 * \"P_chg_ATO2_ATO1\" + 0.0685 * \"today_jump \"\n"
     ]
    }
   ],
   "source": [
    "# get the coefficients of the fitted model\n",
    "b0 = li2_model.intercept_\n",
    "b1, b2 = li2_model.coef_\n",
    "\n",
    "# print the equation of the fitted model\n",
    "print(f'2 feature linear equation y = {b0:.4f} + {b1:.4f} * \"P_chg_ATO2_ATO1\" + {b2:.4f} * \"today_jump \"')"
   ]
  },
  {
   "cell_type": "markdown",
   "id": "1d441dd8",
   "metadata": {},
   "source": [
    "#### I want to try analysis `P_chg_ATO2_ATO1` >=0 and `today_jump` >= 0"
   ]
  },
  {
   "cell_type": "code",
   "execution_count": 145,
   "id": "b98ff413",
   "metadata": {},
   "outputs": [
    {
     "data": {
      "text/html": [
       "<div>\n",
       "<style scoped>\n",
       "    .dataframe tbody tr th:only-of-type {\n",
       "        vertical-align: middle;\n",
       "    }\n",
       "\n",
       "    .dataframe tbody tr th {\n",
       "        vertical-align: top;\n",
       "    }\n",
       "\n",
       "    .dataframe thead th {\n",
       "        text-align: right;\n",
       "    }\n",
       "</style>\n",
       "<table border=\"1\" class=\"dataframe\">\n",
       "  <thead>\n",
       "    <tr style=\"text-align: right;\">\n",
       "      <th></th>\n",
       "      <th>P_chg_ATO2_ATO1</th>\n",
       "      <th>today_jump</th>\n",
       "      <th>chg_Ct_Ot</th>\n",
       "    </tr>\n",
       "  </thead>\n",
       "  <tbody>\n",
       "    <tr>\n",
       "      <th>10</th>\n",
       "      <td>0.0079</td>\n",
       "      <td>0.0242</td>\n",
       "      <td>-0.0026</td>\n",
       "    </tr>\n",
       "    <tr>\n",
       "      <th>34</th>\n",
       "      <td>0.0000</td>\n",
       "      <td>0.0000</td>\n",
       "      <td>0.0000</td>\n",
       "    </tr>\n",
       "    <tr>\n",
       "      <th>35</th>\n",
       "      <td>0.0000</td>\n",
       "      <td>0.0000</td>\n",
       "      <td>0.0000</td>\n",
       "    </tr>\n",
       "    <tr>\n",
       "      <th>40</th>\n",
       "      <td>0.0133</td>\n",
       "      <td>0.0000</td>\n",
       "      <td>0.0000</td>\n",
       "    </tr>\n",
       "    <tr>\n",
       "      <th>41</th>\n",
       "      <td>0.0133</td>\n",
       "      <td>0.0000</td>\n",
       "      <td>0.0000</td>\n",
       "    </tr>\n",
       "  </tbody>\n",
       "</table>\n",
       "</div>"
      ],
      "text/plain": [
       "    P_chg_ATO2_ATO1  today_jump  chg_Ct_Ot\n",
       "10           0.0079      0.0242    -0.0026\n",
       "34           0.0000      0.0000     0.0000\n",
       "35           0.0000      0.0000     0.0000\n",
       "40           0.0133      0.0000     0.0000\n",
       "41           0.0133      0.0000     0.0000"
      ]
     },
     "execution_count": 145,
     "metadata": {},
     "output_type": "execute_result"
    }
   ],
   "source": [
    "both_jump = new2_updata[new2_updata['today_jump'] >= 0]\n",
    "both_jump.head()"
   ]
  },
  {
   "cell_type": "code",
   "execution_count": 146,
   "id": "9035054f",
   "metadata": {},
   "outputs": [
    {
     "name": "stdout",
     "output_type": "stream",
     "text": [
      "(691, 2)\n",
      "(691,)\n"
     ]
    }
   ],
   "source": [
    "# X = feature variables, y = a target variable\n",
    "\n",
    "X = both_jump.drop('chg_Ct_Ot',axis=1)\n",
    "y = both_jump['chg_Ct_Ot']\n",
    "\n",
    "print(X.shape)\n",
    "print(y.shape)"
   ]
  },
  {
   "cell_type": "code",
   "execution_count": 147,
   "id": "21ea4824",
   "metadata": {},
   "outputs": [
    {
     "name": "stdout",
     "output_type": "stream",
     "text": [
      "X_train: (552, 2)\n",
      "y_train: (552,)\n",
      "X_test:  (139, 2)\n",
      "y_test:  (139,)\n"
     ]
    }
   ],
   "source": [
    "# split data 80% for train data set\n",
    "X_train, X_test, y_train, y_test = train_test_split(X, y, test_size = 0.2, random_state = 42)\n",
    "\n",
    "print(f\"X_train: {X_train.shape}\")\n",
    "print(f\"y_train: {y_train.shape}\")\n",
    "print(f\"X_test:  {X_test.shape}\")\n",
    "print(f\"y_test:  {y_test.shape}\")"
   ]
  },
  {
   "cell_type": "code",
   "execution_count": 148,
   "id": "f36a60f6",
   "metadata": {},
   "outputs": [
    {
     "data": {
      "text/html": [
       "<style>#sk-container-id-12 {color: black;background-color: white;}#sk-container-id-12 pre{padding: 0;}#sk-container-id-12 div.sk-toggleable {background-color: white;}#sk-container-id-12 label.sk-toggleable__label {cursor: pointer;display: block;width: 100%;margin-bottom: 0;padding: 0.3em;box-sizing: border-box;text-align: center;}#sk-container-id-12 label.sk-toggleable__label-arrow:before {content: \"▸\";float: left;margin-right: 0.25em;color: #696969;}#sk-container-id-12 label.sk-toggleable__label-arrow:hover:before {color: black;}#sk-container-id-12 div.sk-estimator:hover label.sk-toggleable__label-arrow:before {color: black;}#sk-container-id-12 div.sk-toggleable__content {max-height: 0;max-width: 0;overflow: hidden;text-align: left;background-color: #f0f8ff;}#sk-container-id-12 div.sk-toggleable__content pre {margin: 0.2em;color: black;border-radius: 0.25em;background-color: #f0f8ff;}#sk-container-id-12 input.sk-toggleable__control:checked~div.sk-toggleable__content {max-height: 200px;max-width: 100%;overflow: auto;}#sk-container-id-12 input.sk-toggleable__control:checked~label.sk-toggleable__label-arrow:before {content: \"▾\";}#sk-container-id-12 div.sk-estimator input.sk-toggleable__control:checked~label.sk-toggleable__label {background-color: #d4ebff;}#sk-container-id-12 div.sk-label input.sk-toggleable__control:checked~label.sk-toggleable__label {background-color: #d4ebff;}#sk-container-id-12 input.sk-hidden--visually {border: 0;clip: rect(1px 1px 1px 1px);clip: rect(1px, 1px, 1px, 1px);height: 1px;margin: -1px;overflow: hidden;padding: 0;position: absolute;width: 1px;}#sk-container-id-12 div.sk-estimator {font-family: monospace;background-color: #f0f8ff;border: 1px dotted black;border-radius: 0.25em;box-sizing: border-box;margin-bottom: 0.5em;}#sk-container-id-12 div.sk-estimator:hover {background-color: #d4ebff;}#sk-container-id-12 div.sk-parallel-item::after {content: \"\";width: 100%;border-bottom: 1px solid gray;flex-grow: 1;}#sk-container-id-12 div.sk-label:hover label.sk-toggleable__label {background-color: #d4ebff;}#sk-container-id-12 div.sk-serial::before {content: \"\";position: absolute;border-left: 1px solid gray;box-sizing: border-box;top: 0;bottom: 0;left: 50%;z-index: 0;}#sk-container-id-12 div.sk-serial {display: flex;flex-direction: column;align-items: center;background-color: white;padding-right: 0.2em;padding-left: 0.2em;position: relative;}#sk-container-id-12 div.sk-item {position: relative;z-index: 1;}#sk-container-id-12 div.sk-parallel {display: flex;align-items: stretch;justify-content: center;background-color: white;position: relative;}#sk-container-id-12 div.sk-item::before, #sk-container-id-12 div.sk-parallel-item::before {content: \"\";position: absolute;border-left: 1px solid gray;box-sizing: border-box;top: 0;bottom: 0;left: 50%;z-index: -1;}#sk-container-id-12 div.sk-parallel-item {display: flex;flex-direction: column;z-index: 1;position: relative;background-color: white;}#sk-container-id-12 div.sk-parallel-item:first-child::after {align-self: flex-end;width: 50%;}#sk-container-id-12 div.sk-parallel-item:last-child::after {align-self: flex-start;width: 50%;}#sk-container-id-12 div.sk-parallel-item:only-child::after {width: 0;}#sk-container-id-12 div.sk-dashed-wrapped {border: 1px dashed gray;margin: 0 0.4em 0.5em 0.4em;box-sizing: border-box;padding-bottom: 0.4em;background-color: white;}#sk-container-id-12 div.sk-label label {font-family: monospace;font-weight: bold;display: inline-block;line-height: 1.2em;}#sk-container-id-12 div.sk-label-container {text-align: center;}#sk-container-id-12 div.sk-container {/* jupyter's `normalize.less` sets `[hidden] { display: none; }` but bootstrap.min.css set `[hidden] { display: none !important; }` so we also need the `!important` here to be able to override the default hidden behavior on the sphinx rendered scikit-learn.org. See: https://github.com/scikit-learn/scikit-learn/issues/21755 */display: inline-block !important;position: relative;}#sk-container-id-12 div.sk-text-repr-fallback {display: none;}</style><div id=\"sk-container-id-12\" class=\"sk-top-container\"><div class=\"sk-text-repr-fallback\"><pre>LinearRegression()</pre><b>In a Jupyter environment, please rerun this cell to show the HTML representation or trust the notebook. <br />On GitHub, the HTML representation is unable to render, please try loading this page with nbviewer.org.</b></div><div class=\"sk-container\" hidden><div class=\"sk-item\"><div class=\"sk-estimator sk-toggleable\"><input class=\"sk-toggleable__control sk-hidden--visually\" id=\"sk-estimator-id-12\" type=\"checkbox\" checked><label for=\"sk-estimator-id-12\" class=\"sk-toggleable__label sk-toggleable__label-arrow\">LinearRegression</label><div class=\"sk-toggleable__content\"><pre>LinearRegression()</pre></div></div></div></div></div>"
      ],
      "text/plain": [
       "LinearRegression()"
      ]
     },
     "execution_count": 148,
     "metadata": {},
     "output_type": "execute_result"
    }
   ],
   "source": [
    "# Model fitting (I slect the simple model with high R-squared)\n",
    "\n",
    "# Linear regression\n",
    "li5_model = LinearRegression()\n",
    "li5_model.fit(X_train, y_train)\n"
   ]
  },
  {
   "cell_type": "code",
   "execution_count": 149,
   "id": "c10b4936",
   "metadata": {},
   "outputs": [
    {
     "name": "stdout",
     "output_type": "stream",
     "text": [
      "RMSE from Linear model : 0.0114\n",
      "R-squared from Linear model : 0.6104\n"
     ]
    }
   ],
   "source": [
    "# Model evaluation\n",
    "\n",
    "# Linear regression\n",
    "pred_li_test = li5_model.predict(X_test)\n",
    "rmse_li = mean_squared_error(y_test, pred_li_test, squared=False).round(4)\n",
    "test_r2_li = li5_model.score(X_test, y_test).round(4)\n",
    "print(f\"RMSE from Linear model : {rmse_li}\")\n",
    "print(f\"R-squared from Linear model : {test_r2_li}\")\n"
   ]
  },
  {
   "cell_type": "markdown",
   "id": "b8053cf5",
   "metadata": {},
   "source": [
    "#### Not good, R-squared reducing"
   ]
  },
  {
   "cell_type": "markdown",
   "id": "1fc7da85",
   "metadata": {},
   "source": [
    "## So I will backtesting the strategy\n",
    "\n",
    "Buy on ATO2 when\n",
    "- Afternoon opening price >= Morning opening price (`P_chg_ATO2_ATO1` >= 0) and\n",
    "- When we calculate y = -0.0003 + 1.0121 * `P_chg_ATO2_ATO1` + 0.0685 * `today_jump`\n",
    "- Must  \"y - `P_chg_ATO2_ATO1`\" > comission (0.3%)\n",
    "\n",
    "Sell on today ATC"
   ]
  },
  {
   "cell_type": "code",
   "execution_count": 151,
   "id": "dc79d969",
   "metadata": {},
   "outputs": [
    {
     "name": "stdout",
     "output_type": "stream",
     "text": [
      "<class 'pandas.core.frame.DataFrame'>\n",
      "Int64Index: 1827 entries, 5 to 403\n",
      "Data columns (total 36 columns):\n",
      " #   Column              Non-Null Count  Dtype         \n",
      "---  ------              --------------  -----         \n",
      " 0   open                1827 non-null   float64       \n",
      " 1   high                1827 non-null   float64       \n",
      " 2   low                 1827 non-null   float64       \n",
      " 3   close               1827 non-null   float64       \n",
      " 4   Volume              1827 non-null   int64         \n",
      " 5   Volume MA           1827 non-null   float64       \n",
      " 6   Date                1827 non-null   datetime64[ns]\n",
      " 7   Symbol              1827 non-null   object        \n",
      " 8   _id                 1827 non-null   float64       \n",
      " 9   VolATO1             1827 non-null   float64       \n",
      " 10  PriceATO1           1827 non-null   float64       \n",
      " 11  Close(T_1)          1827 non-null   float64       \n",
      " 12  VolATO2             1827 non-null   float64       \n",
      " 13  PriceATO2           1827 non-null   float64       \n",
      " 14  Price12_30          1827 non-null   float64       \n",
      " 15  VolATC              1827 non-null   float64       \n",
      " 16  PriceATC            1827 non-null   float64       \n",
      " 17  Price16_30          1827 non-null   float64       \n",
      " 18  PercentChgSS1       1827 non-null   float64       \n",
      " 19  ValueSS1            1827 non-null   float64       \n",
      " 20  PercentChgSS2       1827 non-null   float64       \n",
      " 21  ValueSS2            1827 non-null   float64       \n",
      " 22  PercentChgATC       1827 non-null   float64       \n",
      " 23  ValueATC            1827 non-null   float64       \n",
      " 24  chg_Ct_Ot1          1827 non-null   float64       \n",
      " 25  today_jump          1827 non-null   float64       \n",
      " 26  chg_Ct_Ot           1827 non-null   float64       \n",
      " 27  chg_Ct_Ct1          1827 non-null   float64       \n",
      " 28  comp5ma             1827 non-null   float64       \n",
      " 29  PreComp5ma          1827 non-null   float64       \n",
      " 30  swing               1827 non-null   float64       \n",
      " 31  P_chg_ATO2_ATO1     1827 non-null   float64       \n",
      " 32  P_chg_ATC_ATO2      1827 non-null   float64       \n",
      " 33  rt_VolATO2_VolATO1  1827 non-null   float64       \n",
      " 34  rt_VolATO1_PreVol   1827 non-null   float64       \n",
      " 35  rt_VolATC_VolATO2   1827 non-null   float64       \n",
      "dtypes: datetime64[ns](1), float64(33), int64(1), object(1)\n",
      "memory usage: 528.1+ KB\n"
     ]
    }
   ],
   "source": [
    "# Create data for backest\n",
    "\n",
    "import numpy as np\n",
    "\n",
    "# replace Infinity values with NaN values\n",
    "bt_data = stacked.replace([np.inf, -np.inf], np.nan)\n",
    "\n",
    "# drop rows containing NaN values\n",
    "bt_data = bt_data.dropna(axis=0, how='any')\n",
    "\n",
    "bt_data.info()"
   ]
  },
  {
   "cell_type": "code",
   "execution_count": 152,
   "id": "70c088a4",
   "metadata": {},
   "outputs": [
    {
     "data": {
      "text/html": [
       "<div>\n",
       "<style scoped>\n",
       "    .dataframe tbody tr th:only-of-type {\n",
       "        vertical-align: middle;\n",
       "    }\n",
       "\n",
       "    .dataframe tbody tr th {\n",
       "        vertical-align: top;\n",
       "    }\n",
       "\n",
       "    .dataframe thead th {\n",
       "        text-align: right;\n",
       "    }\n",
       "</style>\n",
       "<table border=\"1\" class=\"dataframe\">\n",
       "  <thead>\n",
       "    <tr style=\"text-align: right;\">\n",
       "      <th></th>\n",
       "      <th>Date</th>\n",
       "      <th>Symbol</th>\n",
       "      <th>PriceATO1</th>\n",
       "      <th>PriceATO2</th>\n",
       "      <th>PriceATC</th>\n",
       "      <th>chg_Ct_Ot</th>\n",
       "      <th>today_jump</th>\n",
       "      <th>P_chg_ATO2_ATO1</th>\n",
       "      <th>P_chg_ATC_ATO2</th>\n",
       "    </tr>\n",
       "  </thead>\n",
       "  <tbody>\n",
       "    <tr>\n",
       "      <th>5</th>\n",
       "      <td>2021-09-03</td>\n",
       "      <td>DELTA</td>\n",
       "      <td>746.0</td>\n",
       "      <td>744.0</td>\n",
       "      <td>730.0</td>\n",
       "      <td>-0.0214</td>\n",
       "      <td>0.0275</td>\n",
       "      <td>-0.0027</td>\n",
       "      <td>-0.0188</td>\n",
       "    </tr>\n",
       "    <tr>\n",
       "      <th>8</th>\n",
       "      <td>2021-09-08</td>\n",
       "      <td>DELTA</td>\n",
       "      <td>740.0</td>\n",
       "      <td>758.0</td>\n",
       "      <td>764.0</td>\n",
       "      <td>0.0378</td>\n",
       "      <td>-0.0027</td>\n",
       "      <td>0.0243</td>\n",
       "      <td>0.0079</td>\n",
       "    </tr>\n",
       "    <tr>\n",
       "      <th>9</th>\n",
       "      <td>2021-09-09</td>\n",
       "      <td>DELTA</td>\n",
       "      <td>760.0</td>\n",
       "      <td>756.0</td>\n",
       "      <td>744.0</td>\n",
       "      <td>-0.0211</td>\n",
       "      <td>-0.0104</td>\n",
       "      <td>-0.0053</td>\n",
       "      <td>-0.0159</td>\n",
       "    </tr>\n",
       "    <tr>\n",
       "      <th>10</th>\n",
       "      <td>2021-09-10</td>\n",
       "      <td>DELTA</td>\n",
       "      <td>762.0</td>\n",
       "      <td>768.0</td>\n",
       "      <td>760.0</td>\n",
       "      <td>-0.0026</td>\n",
       "      <td>0.0242</td>\n",
       "      <td>0.0079</td>\n",
       "      <td>-0.0104</td>\n",
       "    </tr>\n",
       "    <tr>\n",
       "      <th>16</th>\n",
       "      <td>2021-09-20</td>\n",
       "      <td>DELTA</td>\n",
       "      <td>570.0</td>\n",
       "      <td>560.0</td>\n",
       "      <td>556.0</td>\n",
       "      <td>-0.0246</td>\n",
       "      <td>0.0071</td>\n",
       "      <td>-0.0175</td>\n",
       "      <td>-0.0071</td>\n",
       "    </tr>\n",
       "  </tbody>\n",
       "</table>\n",
       "</div>"
      ],
      "text/plain": [
       "         Date Symbol  PriceATO1  PriceATO2  PriceATC  chg_Ct_Ot  today_jump  \\\n",
       "5  2021-09-03  DELTA      746.0      744.0     730.0    -0.0214      0.0275   \n",
       "8  2021-09-08  DELTA      740.0      758.0     764.0     0.0378     -0.0027   \n",
       "9  2021-09-09  DELTA      760.0      756.0     744.0    -0.0211     -0.0104   \n",
       "10 2021-09-10  DELTA      762.0      768.0     760.0    -0.0026      0.0242   \n",
       "16 2021-09-20  DELTA      570.0      560.0     556.0    -0.0246      0.0071   \n",
       "\n",
       "    P_chg_ATO2_ATO1  P_chg_ATC_ATO2  \n",
       "5           -0.0027         -0.0188  \n",
       "8            0.0243          0.0079  \n",
       "9           -0.0053         -0.0159  \n",
       "10           0.0079         -0.0104  \n",
       "16          -0.0175         -0.0071  "
      ]
     },
     "execution_count": 152,
     "metadata": {},
     "output_type": "execute_result"
    }
   ],
   "source": [
    "# Select column\n",
    "\n",
    "bt_select = bt_data[['Date','Symbol','PriceATO1','PriceATO2','PriceATC','chg_Ct_Ot','today_jump','P_chg_ATO2_ATO1','P_chg_ATC_ATO2']]\n",
    "bt_select.head()"
   ]
  },
  {
   "cell_type": "code",
   "execution_count": 153,
   "id": "1aff0e52",
   "metadata": {},
   "outputs": [
    {
     "name": "stderr",
     "output_type": "stream",
     "text": [
      "C:\\Users\\USER\\AppData\\Local\\Temp\\ipykernel_8112\\113055151.py:3: SettingWithCopyWarning: \n",
      "A value is trying to be set on a copy of a slice from a DataFrame.\n",
      "Try using .loc[row_indexer,col_indexer] = value instead\n",
      "\n",
      "See the caveats in the documentation: https://pandas.pydata.org/pandas-docs/stable/user_guide/indexing.html#returning-a-view-versus-a-copy\n",
      "  bt_select.loc[:, 'Pred_chg_Ct_Ot'] = -0.0003 + 1.0121 * bt_select['P_chg_ATO2_ATO1'] + 0.0685 * bt_select['today_jump']\n"
     ]
    },
    {
     "data": {
      "text/html": [
       "<div>\n",
       "<style scoped>\n",
       "    .dataframe tbody tr th:only-of-type {\n",
       "        vertical-align: middle;\n",
       "    }\n",
       "\n",
       "    .dataframe tbody tr th {\n",
       "        vertical-align: top;\n",
       "    }\n",
       "\n",
       "    .dataframe thead th {\n",
       "        text-align: right;\n",
       "    }\n",
       "</style>\n",
       "<table border=\"1\" class=\"dataframe\">\n",
       "  <thead>\n",
       "    <tr style=\"text-align: right;\">\n",
       "      <th></th>\n",
       "      <th>Date</th>\n",
       "      <th>Symbol</th>\n",
       "      <th>PriceATO1</th>\n",
       "      <th>PriceATO2</th>\n",
       "      <th>PriceATC</th>\n",
       "      <th>chg_Ct_Ot</th>\n",
       "      <th>today_jump</th>\n",
       "      <th>P_chg_ATO2_ATO1</th>\n",
       "      <th>P_chg_ATC_ATO2</th>\n",
       "      <th>Pred_chg_Ct_Ot</th>\n",
       "    </tr>\n",
       "  </thead>\n",
       "  <tbody>\n",
       "    <tr>\n",
       "      <th>5</th>\n",
       "      <td>2021-09-03</td>\n",
       "      <td>DELTA</td>\n",
       "      <td>746.0</td>\n",
       "      <td>744.0</td>\n",
       "      <td>730.0</td>\n",
       "      <td>-0.0214</td>\n",
       "      <td>0.0275</td>\n",
       "      <td>-0.0027</td>\n",
       "      <td>-0.0188</td>\n",
       "      <td>-0.001149</td>\n",
       "    </tr>\n",
       "    <tr>\n",
       "      <th>8</th>\n",
       "      <td>2021-09-08</td>\n",
       "      <td>DELTA</td>\n",
       "      <td>740.0</td>\n",
       "      <td>758.0</td>\n",
       "      <td>764.0</td>\n",
       "      <td>0.0378</td>\n",
       "      <td>-0.0027</td>\n",
       "      <td>0.0243</td>\n",
       "      <td>0.0079</td>\n",
       "      <td>0.024109</td>\n",
       "    </tr>\n",
       "    <tr>\n",
       "      <th>9</th>\n",
       "      <td>2021-09-09</td>\n",
       "      <td>DELTA</td>\n",
       "      <td>760.0</td>\n",
       "      <td>756.0</td>\n",
       "      <td>744.0</td>\n",
       "      <td>-0.0211</td>\n",
       "      <td>-0.0104</td>\n",
       "      <td>-0.0053</td>\n",
       "      <td>-0.0159</td>\n",
       "      <td>-0.006377</td>\n",
       "    </tr>\n",
       "    <tr>\n",
       "      <th>10</th>\n",
       "      <td>2021-09-10</td>\n",
       "      <td>DELTA</td>\n",
       "      <td>762.0</td>\n",
       "      <td>768.0</td>\n",
       "      <td>760.0</td>\n",
       "      <td>-0.0026</td>\n",
       "      <td>0.0242</td>\n",
       "      <td>0.0079</td>\n",
       "      <td>-0.0104</td>\n",
       "      <td>0.009353</td>\n",
       "    </tr>\n",
       "    <tr>\n",
       "      <th>16</th>\n",
       "      <td>2021-09-20</td>\n",
       "      <td>DELTA</td>\n",
       "      <td>570.0</td>\n",
       "      <td>560.0</td>\n",
       "      <td>556.0</td>\n",
       "      <td>-0.0246</td>\n",
       "      <td>0.0071</td>\n",
       "      <td>-0.0175</td>\n",
       "      <td>-0.0071</td>\n",
       "      <td>-0.017525</td>\n",
       "    </tr>\n",
       "  </tbody>\n",
       "</table>\n",
       "</div>"
      ],
      "text/plain": [
       "         Date Symbol  PriceATO1  PriceATO2  PriceATC  chg_Ct_Ot  today_jump  \\\n",
       "5  2021-09-03  DELTA      746.0      744.0     730.0    -0.0214      0.0275   \n",
       "8  2021-09-08  DELTA      740.0      758.0     764.0     0.0378     -0.0027   \n",
       "9  2021-09-09  DELTA      760.0      756.0     744.0    -0.0211     -0.0104   \n",
       "10 2021-09-10  DELTA      762.0      768.0     760.0    -0.0026      0.0242   \n",
       "16 2021-09-20  DELTA      570.0      560.0     556.0    -0.0246      0.0071   \n",
       "\n",
       "    P_chg_ATO2_ATO1  P_chg_ATC_ATO2  Pred_chg_Ct_Ot  \n",
       "5           -0.0027         -0.0188       -0.001149  \n",
       "8            0.0243          0.0079        0.024109  \n",
       "9           -0.0053         -0.0159       -0.006377  \n",
       "10           0.0079         -0.0104        0.009353  \n",
       "16          -0.0175         -0.0071       -0.017525  "
      ]
     },
     "execution_count": 153,
     "metadata": {},
     "output_type": "execute_result"
    }
   ],
   "source": [
    "# Create predict % change of ATC from ATO1\n",
    "\n",
    "bt_select.loc[:, 'Pred_chg_Ct_Ot'] = -0.0003 + 1.0121 * bt_select['P_chg_ATO2_ATO1'] + 0.0685 * bt_select['today_jump']\n",
    "\n",
    "bt_select.head()"
   ]
  },
  {
   "cell_type": "code",
   "execution_count": 154,
   "id": "25333f3c",
   "metadata": {},
   "outputs": [
    {
     "name": "stderr",
     "output_type": "stream",
     "text": [
      "C:\\Users\\USER\\AppData\\Local\\Temp\\ipykernel_8112\\919909909.py:3: SettingWithCopyWarning: \n",
      "A value is trying to be set on a copy of a slice from a DataFrame.\n",
      "Try using .loc[row_indexer,col_indexer] = value instead\n",
      "\n",
      "See the caveats in the documentation: https://pandas.pydata.org/pandas-docs/stable/user_guide/indexing.html#returning-a-view-versus-a-copy\n",
      "  bt_select.loc[:,'expect_gain'] = bt_select['Pred_chg_Ct_Ot'] - bt_select['P_chg_ATO2_ATO1']\n"
     ]
    },
    {
     "data": {
      "text/html": [
       "<div>\n",
       "<style scoped>\n",
       "    .dataframe tbody tr th:only-of-type {\n",
       "        vertical-align: middle;\n",
       "    }\n",
       "\n",
       "    .dataframe tbody tr th {\n",
       "        vertical-align: top;\n",
       "    }\n",
       "\n",
       "    .dataframe thead th {\n",
       "        text-align: right;\n",
       "    }\n",
       "</style>\n",
       "<table border=\"1\" class=\"dataframe\">\n",
       "  <thead>\n",
       "    <tr style=\"text-align: right;\">\n",
       "      <th></th>\n",
       "      <th>Date</th>\n",
       "      <th>Symbol</th>\n",
       "      <th>PriceATO1</th>\n",
       "      <th>PriceATO2</th>\n",
       "      <th>PriceATC</th>\n",
       "      <th>chg_Ct_Ot</th>\n",
       "      <th>today_jump</th>\n",
       "      <th>P_chg_ATO2_ATO1</th>\n",
       "      <th>P_chg_ATC_ATO2</th>\n",
       "      <th>Pred_chg_Ct_Ot</th>\n",
       "      <th>expect_gain</th>\n",
       "    </tr>\n",
       "  </thead>\n",
       "  <tbody>\n",
       "    <tr>\n",
       "      <th>5</th>\n",
       "      <td>2021-09-03</td>\n",
       "      <td>DELTA</td>\n",
       "      <td>746.0</td>\n",
       "      <td>744.0</td>\n",
       "      <td>730.0</td>\n",
       "      <td>-0.0214</td>\n",
       "      <td>0.0275</td>\n",
       "      <td>-0.0027</td>\n",
       "      <td>-0.0188</td>\n",
       "      <td>-0.001149</td>\n",
       "      <td>0.001551</td>\n",
       "    </tr>\n",
       "    <tr>\n",
       "      <th>8</th>\n",
       "      <td>2021-09-08</td>\n",
       "      <td>DELTA</td>\n",
       "      <td>740.0</td>\n",
       "      <td>758.0</td>\n",
       "      <td>764.0</td>\n",
       "      <td>0.0378</td>\n",
       "      <td>-0.0027</td>\n",
       "      <td>0.0243</td>\n",
       "      <td>0.0079</td>\n",
       "      <td>0.024109</td>\n",
       "      <td>-0.000191</td>\n",
       "    </tr>\n",
       "    <tr>\n",
       "      <th>9</th>\n",
       "      <td>2021-09-09</td>\n",
       "      <td>DELTA</td>\n",
       "      <td>760.0</td>\n",
       "      <td>756.0</td>\n",
       "      <td>744.0</td>\n",
       "      <td>-0.0211</td>\n",
       "      <td>-0.0104</td>\n",
       "      <td>-0.0053</td>\n",
       "      <td>-0.0159</td>\n",
       "      <td>-0.006377</td>\n",
       "      <td>-0.001077</td>\n",
       "    </tr>\n",
       "    <tr>\n",
       "      <th>10</th>\n",
       "      <td>2021-09-10</td>\n",
       "      <td>DELTA</td>\n",
       "      <td>762.0</td>\n",
       "      <td>768.0</td>\n",
       "      <td>760.0</td>\n",
       "      <td>-0.0026</td>\n",
       "      <td>0.0242</td>\n",
       "      <td>0.0079</td>\n",
       "      <td>-0.0104</td>\n",
       "      <td>0.009353</td>\n",
       "      <td>0.001453</td>\n",
       "    </tr>\n",
       "    <tr>\n",
       "      <th>16</th>\n",
       "      <td>2021-09-20</td>\n",
       "      <td>DELTA</td>\n",
       "      <td>570.0</td>\n",
       "      <td>560.0</td>\n",
       "      <td>556.0</td>\n",
       "      <td>-0.0246</td>\n",
       "      <td>0.0071</td>\n",
       "      <td>-0.0175</td>\n",
       "      <td>-0.0071</td>\n",
       "      <td>-0.017525</td>\n",
       "      <td>-0.000025</td>\n",
       "    </tr>\n",
       "  </tbody>\n",
       "</table>\n",
       "</div>"
      ],
      "text/plain": [
       "         Date Symbol  PriceATO1  PriceATO2  PriceATC  chg_Ct_Ot  today_jump  \\\n",
       "5  2021-09-03  DELTA      746.0      744.0     730.0    -0.0214      0.0275   \n",
       "8  2021-09-08  DELTA      740.0      758.0     764.0     0.0378     -0.0027   \n",
       "9  2021-09-09  DELTA      760.0      756.0     744.0    -0.0211     -0.0104   \n",
       "10 2021-09-10  DELTA      762.0      768.0     760.0    -0.0026      0.0242   \n",
       "16 2021-09-20  DELTA      570.0      560.0     556.0    -0.0246      0.0071   \n",
       "\n",
       "    P_chg_ATO2_ATO1  P_chg_ATC_ATO2  Pred_chg_Ct_Ot  expect_gain  \n",
       "5           -0.0027         -0.0188       -0.001149     0.001551  \n",
       "8            0.0243          0.0079        0.024109    -0.000191  \n",
       "9           -0.0053         -0.0159       -0.006377    -0.001077  \n",
       "10           0.0079         -0.0104        0.009353     0.001453  \n",
       "16          -0.0175         -0.0071       -0.017525    -0.000025  "
      ]
     },
     "execution_count": 154,
     "metadata": {},
     "output_type": "execute_result"
    }
   ],
   "source": [
    "# Expect gain\n",
    "\n",
    "bt_select.loc[:,'expect_gain'] = bt_select['Pred_chg_Ct_Ot'] - bt_select['P_chg_ATO2_ATO1']\n",
    "bt_select.head()"
   ]
  },
  {
   "cell_type": "code",
   "execution_count": 155,
   "id": "5f500669",
   "metadata": {},
   "outputs": [
    {
     "name": "stderr",
     "output_type": "stream",
     "text": [
      "C:\\Users\\USER\\AppData\\Local\\Temp\\ipykernel_8112\\2210287048.py:5: SettingWithCopyWarning: \n",
      "A value is trying to be set on a copy of a slice from a DataFrame.\n",
      "Try using .loc[row_indexer,col_indexer] = value instead\n",
      "\n",
      "See the caveats in the documentation: https://pandas.pydata.org/pandas-docs/stable/user_guide/indexing.html#returning-a-view-versus-a-copy\n",
      "  bt_select['action'] = np.where((bt_select['P_chg_ATO2_ATO1'] >= 0) & (bt_select['expect_gain'] > 0.003), 1, 0)\n"
     ]
    },
    {
     "data": {
      "text/html": [
       "<div>\n",
       "<style scoped>\n",
       "    .dataframe tbody tr th:only-of-type {\n",
       "        vertical-align: middle;\n",
       "    }\n",
       "\n",
       "    .dataframe tbody tr th {\n",
       "        vertical-align: top;\n",
       "    }\n",
       "\n",
       "    .dataframe thead th {\n",
       "        text-align: right;\n",
       "    }\n",
       "</style>\n",
       "<table border=\"1\" class=\"dataframe\">\n",
       "  <thead>\n",
       "    <tr style=\"text-align: right;\">\n",
       "      <th></th>\n",
       "      <th>Date</th>\n",
       "      <th>Symbol</th>\n",
       "      <th>PriceATO1</th>\n",
       "      <th>PriceATO2</th>\n",
       "      <th>PriceATC</th>\n",
       "      <th>chg_Ct_Ot</th>\n",
       "      <th>today_jump</th>\n",
       "      <th>P_chg_ATO2_ATO1</th>\n",
       "      <th>P_chg_ATC_ATO2</th>\n",
       "      <th>Pred_chg_Ct_Ot</th>\n",
       "      <th>expect_gain</th>\n",
       "      <th>action</th>\n",
       "    </tr>\n",
       "  </thead>\n",
       "  <tbody>\n",
       "    <tr>\n",
       "      <th>5</th>\n",
       "      <td>2021-09-03</td>\n",
       "      <td>DELTA</td>\n",
       "      <td>746.0</td>\n",
       "      <td>744.0</td>\n",
       "      <td>730.0</td>\n",
       "      <td>-0.0214</td>\n",
       "      <td>0.0275</td>\n",
       "      <td>-0.0027</td>\n",
       "      <td>-0.0188</td>\n",
       "      <td>-0.001149</td>\n",
       "      <td>0.001551</td>\n",
       "      <td>0</td>\n",
       "    </tr>\n",
       "    <tr>\n",
       "      <th>8</th>\n",
       "      <td>2021-09-08</td>\n",
       "      <td>DELTA</td>\n",
       "      <td>740.0</td>\n",
       "      <td>758.0</td>\n",
       "      <td>764.0</td>\n",
       "      <td>0.0378</td>\n",
       "      <td>-0.0027</td>\n",
       "      <td>0.0243</td>\n",
       "      <td>0.0079</td>\n",
       "      <td>0.024109</td>\n",
       "      <td>-0.000191</td>\n",
       "      <td>0</td>\n",
       "    </tr>\n",
       "    <tr>\n",
       "      <th>9</th>\n",
       "      <td>2021-09-09</td>\n",
       "      <td>DELTA</td>\n",
       "      <td>760.0</td>\n",
       "      <td>756.0</td>\n",
       "      <td>744.0</td>\n",
       "      <td>-0.0211</td>\n",
       "      <td>-0.0104</td>\n",
       "      <td>-0.0053</td>\n",
       "      <td>-0.0159</td>\n",
       "      <td>-0.006377</td>\n",
       "      <td>-0.001077</td>\n",
       "      <td>0</td>\n",
       "    </tr>\n",
       "    <tr>\n",
       "      <th>10</th>\n",
       "      <td>2021-09-10</td>\n",
       "      <td>DELTA</td>\n",
       "      <td>762.0</td>\n",
       "      <td>768.0</td>\n",
       "      <td>760.0</td>\n",
       "      <td>-0.0026</td>\n",
       "      <td>0.0242</td>\n",
       "      <td>0.0079</td>\n",
       "      <td>-0.0104</td>\n",
       "      <td>0.009353</td>\n",
       "      <td>0.001453</td>\n",
       "      <td>0</td>\n",
       "    </tr>\n",
       "    <tr>\n",
       "      <th>16</th>\n",
       "      <td>2021-09-20</td>\n",
       "      <td>DELTA</td>\n",
       "      <td>570.0</td>\n",
       "      <td>560.0</td>\n",
       "      <td>556.0</td>\n",
       "      <td>-0.0246</td>\n",
       "      <td>0.0071</td>\n",
       "      <td>-0.0175</td>\n",
       "      <td>-0.0071</td>\n",
       "      <td>-0.017525</td>\n",
       "      <td>-0.000025</td>\n",
       "      <td>0</td>\n",
       "    </tr>\n",
       "  </tbody>\n",
       "</table>\n",
       "</div>"
      ],
      "text/plain": [
       "         Date Symbol  PriceATO1  PriceATO2  PriceATC  chg_Ct_Ot  today_jump  \\\n",
       "5  2021-09-03  DELTA      746.0      744.0     730.0    -0.0214      0.0275   \n",
       "8  2021-09-08  DELTA      740.0      758.0     764.0     0.0378     -0.0027   \n",
       "9  2021-09-09  DELTA      760.0      756.0     744.0    -0.0211     -0.0104   \n",
       "10 2021-09-10  DELTA      762.0      768.0     760.0    -0.0026      0.0242   \n",
       "16 2021-09-20  DELTA      570.0      560.0     556.0    -0.0246      0.0071   \n",
       "\n",
       "    P_chg_ATO2_ATO1  P_chg_ATC_ATO2  Pred_chg_Ct_Ot  expect_gain  action  \n",
       "5           -0.0027         -0.0188       -0.001149     0.001551       0  \n",
       "8            0.0243          0.0079        0.024109    -0.000191       0  \n",
       "9           -0.0053         -0.0159       -0.006377    -0.001077       0  \n",
       "10           0.0079         -0.0104        0.009353     0.001453       0  \n",
       "16          -0.0175         -0.0071       -0.017525    -0.000025       0  "
      ]
     },
     "execution_count": 155,
     "metadata": {},
     "output_type": "execute_result"
    }
   ],
   "source": [
    "# Create action ticker by 1 = action, 0 = not action\n",
    "\n",
    "import numpy as np\n",
    "\n",
    "bt_select['action'] = np.where((bt_select['P_chg_ATO2_ATO1'] >= 0) & (bt_select['expect_gain'] > 0.003), 1, 0)\n",
    "bt_select.head()"
   ]
  },
  {
   "cell_type": "code",
   "execution_count": 156,
   "id": "c6f35e59",
   "metadata": {},
   "outputs": [
    {
     "data": {
      "text/plain": [
       "0    1822\n",
       "1       5\n",
       "Name: action, dtype: int64"
      ]
     },
     "execution_count": 156,
     "metadata": {},
     "output_type": "execute_result"
    }
   ],
   "source": [
    "bt_select['action'].value_counts()"
   ]
  },
  {
   "cell_type": "code",
   "execution_count": 157,
   "id": "44416a3f",
   "metadata": {},
   "outputs": [
    {
     "name": "stdout",
     "output_type": "stream",
     "text": [
      "Profit of this stratnegy is 460.0 Baht\n"
     ]
    }
   ],
   "source": [
    "# If we have 1 million bath to invest and invest 200,000 baht each stock (we have 5 stock univert)\n",
    "\n",
    "profit = ((bt_select['P_chg_ATC_ATO2'][bt_select['action'] == 1]-0.003)*200000).sum()\n",
    "print(f'Profit of this stratnegy is {profit} Baht')"
   ]
  },
  {
   "cell_type": "markdown",
   "id": "772b427d",
   "metadata": {},
   "source": [
    "## Conclusion\n",
    "\n",
    "- Select the simple model with high R-squared is Linear regression model\n",
    "- `expect_gain` = -0.0003 + 1.0121 * `P_chg_ATO2_ATO1` + 0.0685 * `today_jump`\n",
    "- Profit of this stratnegy is 460.0 Baht\n",
    "- Only 5 trades\n",
    "- Feauture importance are `Date`,`Symbol`,`PriceATO1`,`PriceATO2`,`PriceATC`,`chg_Ct_Ot`,`today_jump`,`P_chg_ATO2_ATO1`,`P_chg_ATC_ATO2`\n",
    "\n",
    "#### Next\n",
    "- Add more stock data test. SET50, SET100, sSET and mai"
   ]
  },
  {
   "cell_type": "code",
   "execution_count": null,
   "id": "edce0752",
   "metadata": {},
   "outputs": [],
   "source": []
  }
 ],
 "metadata": {
  "kernelspec": {
   "display_name": "Python 3 (ipykernel)",
   "language": "python",
   "name": "python3"
  },
  "language_info": {
   "codemirror_mode": {
    "name": "ipython",
    "version": 3
   },
   "file_extension": ".py",
   "mimetype": "text/x-python",
   "name": "python",
   "nbconvert_exporter": "python",
   "pygments_lexer": "ipython3",
   "version": "3.10.9"
  }
 },
 "nbformat": 4,
 "nbformat_minor": 5
}
